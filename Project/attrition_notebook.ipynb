{
 "cells": [
  {
   "cell_type": "markdown",
   "id": "4a9f9830",
   "metadata": {},
   "source": [
    "# Project Instruction\n",
    "InnovateIQ Corporation is a technology company specializing in medical instrument based in New York. Attrition is a significant concern for InnovateIQ Corporation as it can lead to a loss of valuable talent and increased recruitment costs. As a data scientist at InnovateIQ Corporation, your task is to generate a machine learning model to predict attrition of employees using historical data, including employee demographic information and job-related details, and evaluate the model's performance using appropriate metrics. Dataset is available at project_dataset.csv."
   ]
  },
  {
   "cell_type": "markdown",
   "id": "6a17fd21",
   "metadata": {},
   "source": [
    "Description of the variables:\n",
    "- EmployeeID - unique identifier for each employee\n",
    "- age - Age of the employee\n",
    "- BusinessTravel - represents the frequency of travel required for an employee job\n",
    "- MonthlyIncome - income earned per month by an employee\n",
    "- JobSatisfaction - level of employee satisfaction with their job (higher is better)\n",
    "- Bonus - Additional financial compensation as reward given to employee\n",
    "- Department - division of an organization that an employee works for\n",
    "- DistanceFromHome - variable representing distance of employee's home to office\n",
    "- Education - level of education of employee\n",
    "- EducationField - field of study in which employee was educated\n",
    "- EnvSatisfaction - level of employee satisfaction with working environment\n",
    "- Gender - employee's gender\n",
    "- JobRole - role of the employee within the company\n",
    "- MaritalStatus - employee's marital status\n",
    "- PerformanceRating - employee's performance evaluation rating\n",
    "- TrainingTimeLastYear - number of training hours employee received last year\n",
    "- YearsAtCompany - number of years employee has worked at company\n",
    "- YearsSinceLastPromotion - number of years since employee's last promotion\n",
    "- Overtime - whether or not employee works overtime\n",
    "- Attrition - whether or not employee left the company"
   ]
  },
  {
   "cell_type": "markdown",
   "id": "eede70a6",
   "metadata": {},
   "source": [
    "### A. Coding Activities\n",
    "As a data scientist, your tasks are to perform the following tasks using Python programming language:\n",
    "1. Import and check the quality of the dataset. Treat problem if any.\n",
    "2. Perform Exploratory Data Analysis into the dataset to obtain insights and relevant information as much as you can. Use the findings for features selection.\n",
    "3. Pre-processing the dataset and make it ready to train the algorithm.\n",
    "4. Train relevant machine learning algorithm to generate the predictive model to forecast relevant output.\n",
    "5. Evaluate and discuss the performance of the model.\n",
    "6. Finally, save your Jupyter Notebook work file as firstname_project.ipynb for submission."
   ]
  },
  {
   "cell_type": "markdown",
   "id": "a889a3a4",
   "metadata": {},
   "source": [
    "### B. Analytics Report\n",
    "Prepare a presentation slide using PowerPoint as your analytics complete report of your findings, insights and model performance. Save your report as firstname_report.pptx. Your report should contain the following insights:\n",
    "1. Introduction\n",
    "2. Describe your analytics process\n",
    "3. Discuss findings of univariate analysis\n",
    "4. Discuss findings of multivariate analysis (response vs input's candidates)\n",
    "5. Discuss about the performance of your model\n",
    "6. Add any information that you think necessary for this report"
   ]
  },
  {
   "cell_type": "markdown",
   "id": "47adb518",
   "metadata": {},
   "source": [
    "### C. Presentation\n",
    "As part of your evaluation, you will be required to present your key findings and analytics process of your project. You only been given for 5-minutes to present your data science findings to the panel of assessors. The presentation will be held on 21st January 2022 starting from 9AM. Schedule of your presentation will be announced by the organizer. You are requiring to prepare a 5-minutes presentation slide on your key findings for live presentation, as suggested follows:\n",
    "1. Describe the process of your analytics work\n",
    "2. Major findings of your EDA\n",
    "3. Discuss about your model"
   ]
  },
  {
   "cell_type": "code",
   "execution_count": 1,
   "id": "001c7811",
   "metadata": {},
   "outputs": [],
   "source": [
    "#import relevant packages\n",
    "import numpy as np\n",
    "import pandas as pd\n",
    "import seaborn as sns\n",
    "import matplotlib.pyplot as plt"
   ]
  },
  {
   "cell_type": "code",
   "execution_count": 2,
   "id": "d4510356",
   "metadata": {},
   "outputs": [
    {
     "data": {
      "text/html": [
       "<div>\n",
       "<style scoped>\n",
       "    .dataframe tbody tr th:only-of-type {\n",
       "        vertical-align: middle;\n",
       "    }\n",
       "\n",
       "    .dataframe tbody tr th {\n",
       "        vertical-align: top;\n",
       "    }\n",
       "\n",
       "    .dataframe thead th {\n",
       "        text-align: right;\n",
       "    }\n",
       "</style>\n",
       "<table border=\"1\" class=\"dataframe\">\n",
       "  <thead>\n",
       "    <tr style=\"text-align: right;\">\n",
       "      <th></th>\n",
       "      <th>Age</th>\n",
       "      <th>BusinessTravel</th>\n",
       "      <th>MonthlyIncome</th>\n",
       "      <th>JobSatisfaction</th>\n",
       "      <th>Bonus</th>\n",
       "      <th>Department</th>\n",
       "      <th>DistanceFromHome</th>\n",
       "      <th>Education</th>\n",
       "      <th>EducationField</th>\n",
       "      <th>EnvSatisfaction</th>\n",
       "      <th>Gender</th>\n",
       "      <th>JobRole</th>\n",
       "      <th>MaritalStatus</th>\n",
       "      <th>PerformanceRating</th>\n",
       "      <th>TrainingTimesLastYear</th>\n",
       "      <th>YearsAtCompany</th>\n",
       "      <th>YearsSinceLastPromotion</th>\n",
       "      <th>OverTime</th>\n",
       "      <th>Attrition</th>\n",
       "    </tr>\n",
       "    <tr>\n",
       "      <th>EmployeeID</th>\n",
       "      <th></th>\n",
       "      <th></th>\n",
       "      <th></th>\n",
       "      <th></th>\n",
       "      <th></th>\n",
       "      <th></th>\n",
       "      <th></th>\n",
       "      <th></th>\n",
       "      <th></th>\n",
       "      <th></th>\n",
       "      <th></th>\n",
       "      <th></th>\n",
       "      <th></th>\n",
       "      <th></th>\n",
       "      <th></th>\n",
       "      <th></th>\n",
       "      <th></th>\n",
       "      <th></th>\n",
       "      <th></th>\n",
       "    </tr>\n",
       "  </thead>\n",
       "  <tbody>\n",
       "    <tr>\n",
       "      <th>1</th>\n",
       "      <td>41</td>\n",
       "      <td>Travel_Rarely</td>\n",
       "      <td>5993</td>\n",
       "      <td>4</td>\n",
       "      <td>17979</td>\n",
       "      <td>Sales</td>\n",
       "      <td>1</td>\n",
       "      <td>2</td>\n",
       "      <td>Life Sciences</td>\n",
       "      <td>2</td>\n",
       "      <td>Female</td>\n",
       "      <td>Sales Executive</td>\n",
       "      <td>Single</td>\n",
       "      <td>3</td>\n",
       "      <td>0</td>\n",
       "      <td>6</td>\n",
       "      <td>0</td>\n",
       "      <td>Yes</td>\n",
       "      <td>Yes</td>\n",
       "    </tr>\n",
       "    <tr>\n",
       "      <th>2</th>\n",
       "      <td>49</td>\n",
       "      <td>Travel_Frequently</td>\n",
       "      <td>5130</td>\n",
       "      <td>2</td>\n",
       "      <td>20520</td>\n",
       "      <td>Research &amp; Development</td>\n",
       "      <td>8</td>\n",
       "      <td>1</td>\n",
       "      <td>Life Sciences</td>\n",
       "      <td>3</td>\n",
       "      <td>Male</td>\n",
       "      <td>Research Scientist</td>\n",
       "      <td>Married</td>\n",
       "      <td>4</td>\n",
       "      <td>3</td>\n",
       "      <td>10</td>\n",
       "      <td>1</td>\n",
       "      <td>No</td>\n",
       "      <td>No</td>\n",
       "    </tr>\n",
       "    <tr>\n",
       "      <th>4</th>\n",
       "      <td>37</td>\n",
       "      <td>Travel_Rarely</td>\n",
       "      <td>2090</td>\n",
       "      <td>3</td>\n",
       "      <td>6270</td>\n",
       "      <td>Research &amp; Development</td>\n",
       "      <td>2</td>\n",
       "      <td>2</td>\n",
       "      <td>Other</td>\n",
       "      <td>4</td>\n",
       "      <td>Male</td>\n",
       "      <td>Laboratory Technician</td>\n",
       "      <td>Single</td>\n",
       "      <td>3</td>\n",
       "      <td>3</td>\n",
       "      <td>0</td>\n",
       "      <td>0</td>\n",
       "      <td>Yes</td>\n",
       "      <td>Yes</td>\n",
       "    </tr>\n",
       "    <tr>\n",
       "      <th>5</th>\n",
       "      <td>33</td>\n",
       "      <td>Travel_Frequently</td>\n",
       "      <td>2909</td>\n",
       "      <td>3</td>\n",
       "      <td>8727</td>\n",
       "      <td>Research &amp; Development</td>\n",
       "      <td>3</td>\n",
       "      <td>4</td>\n",
       "      <td>Life Sciences</td>\n",
       "      <td>4</td>\n",
       "      <td>Female</td>\n",
       "      <td>Research Scientist</td>\n",
       "      <td>Married</td>\n",
       "      <td>3</td>\n",
       "      <td>3</td>\n",
       "      <td>8</td>\n",
       "      <td>3</td>\n",
       "      <td>Yes</td>\n",
       "      <td>No</td>\n",
       "    </tr>\n",
       "    <tr>\n",
       "      <th>7</th>\n",
       "      <td>27</td>\n",
       "      <td>Travel_Rarely</td>\n",
       "      <td>3468</td>\n",
       "      <td>2</td>\n",
       "      <td>10404</td>\n",
       "      <td>Research &amp; Development</td>\n",
       "      <td>2</td>\n",
       "      <td>1</td>\n",
       "      <td>Medical</td>\n",
       "      <td>1</td>\n",
       "      <td>Male</td>\n",
       "      <td>Laboratory Technician</td>\n",
       "      <td>Married</td>\n",
       "      <td>3</td>\n",
       "      <td>3</td>\n",
       "      <td>2</td>\n",
       "      <td>2</td>\n",
       "      <td>No</td>\n",
       "      <td>No</td>\n",
       "    </tr>\n",
       "    <tr>\n",
       "      <th>8</th>\n",
       "      <td>32</td>\n",
       "      <td>Travel_Frequently</td>\n",
       "      <td>3068</td>\n",
       "      <td>4</td>\n",
       "      <td>9204</td>\n",
       "      <td>Research &amp; Development</td>\n",
       "      <td>2</td>\n",
       "      <td>2</td>\n",
       "      <td>Life Sciences</td>\n",
       "      <td>4</td>\n",
       "      <td>Male</td>\n",
       "      <td>Laboratory Technician</td>\n",
       "      <td>Single</td>\n",
       "      <td>3</td>\n",
       "      <td>2</td>\n",
       "      <td>7</td>\n",
       "      <td>3</td>\n",
       "      <td>No</td>\n",
       "      <td>No</td>\n",
       "    </tr>\n",
       "    <tr>\n",
       "      <th>10</th>\n",
       "      <td>59</td>\n",
       "      <td>Travel_Rarely</td>\n",
       "      <td>2670</td>\n",
       "      <td>1</td>\n",
       "      <td>10680</td>\n",
       "      <td>Research &amp; Development</td>\n",
       "      <td>3</td>\n",
       "      <td>3</td>\n",
       "      <td>Medical</td>\n",
       "      <td>3</td>\n",
       "      <td>Female</td>\n",
       "      <td>Laboratory Technician</td>\n",
       "      <td>Married</td>\n",
       "      <td>4</td>\n",
       "      <td>3</td>\n",
       "      <td>1</td>\n",
       "      <td>0</td>\n",
       "      <td>Yes</td>\n",
       "      <td>No</td>\n",
       "    </tr>\n",
       "    <tr>\n",
       "      <th>11</th>\n",
       "      <td>30</td>\n",
       "      <td>Travel_Rarely</td>\n",
       "      <td>2693</td>\n",
       "      <td>3</td>\n",
       "      <td>10772</td>\n",
       "      <td>Research &amp; Development</td>\n",
       "      <td>24</td>\n",
       "      <td>1</td>\n",
       "      <td>Life Sciences</td>\n",
       "      <td>4</td>\n",
       "      <td>Male</td>\n",
       "      <td>Laboratory Technician</td>\n",
       "      <td>Divorced</td>\n",
       "      <td>4</td>\n",
       "      <td>2</td>\n",
       "      <td>1</td>\n",
       "      <td>0</td>\n",
       "      <td>No</td>\n",
       "      <td>No</td>\n",
       "    </tr>\n",
       "    <tr>\n",
       "      <th>12</th>\n",
       "      <td>38</td>\n",
       "      <td>Travel_Frequently</td>\n",
       "      <td>9526</td>\n",
       "      <td>3</td>\n",
       "      <td>38104</td>\n",
       "      <td>Research &amp; Development</td>\n",
       "      <td>23</td>\n",
       "      <td>3</td>\n",
       "      <td>Life Sciences</td>\n",
       "      <td>4</td>\n",
       "      <td>Male</td>\n",
       "      <td>Manufacturing Director</td>\n",
       "      <td>Single</td>\n",
       "      <td>4</td>\n",
       "      <td>2</td>\n",
       "      <td>9</td>\n",
       "      <td>1</td>\n",
       "      <td>No</td>\n",
       "      <td>No</td>\n",
       "    </tr>\n",
       "    <tr>\n",
       "      <th>13</th>\n",
       "      <td>36</td>\n",
       "      <td>Travel_Rarely</td>\n",
       "      <td>5237</td>\n",
       "      <td>3</td>\n",
       "      <td>15711</td>\n",
       "      <td>Research &amp; Development</td>\n",
       "      <td>27</td>\n",
       "      <td>3</td>\n",
       "      <td>Medical</td>\n",
       "      <td>3</td>\n",
       "      <td>Male</td>\n",
       "      <td>Healthcare Representative</td>\n",
       "      <td>Married</td>\n",
       "      <td>3</td>\n",
       "      <td>3</td>\n",
       "      <td>7</td>\n",
       "      <td>7</td>\n",
       "      <td>No</td>\n",
       "      <td>No</td>\n",
       "    </tr>\n",
       "  </tbody>\n",
       "</table>\n",
       "</div>"
      ],
      "text/plain": [
       "            Age     BusinessTravel  MonthlyIncome  JobSatisfaction  Bonus  \\\n",
       "EmployeeID                                                                  \n",
       "1            41      Travel_Rarely           5993                4  17979   \n",
       "2            49  Travel_Frequently           5130                2  20520   \n",
       "4            37      Travel_Rarely           2090                3   6270   \n",
       "5            33  Travel_Frequently           2909                3   8727   \n",
       "7            27      Travel_Rarely           3468                2  10404   \n",
       "8            32  Travel_Frequently           3068                4   9204   \n",
       "10           59      Travel_Rarely           2670                1  10680   \n",
       "11           30      Travel_Rarely           2693                3  10772   \n",
       "12           38  Travel_Frequently           9526                3  38104   \n",
       "13           36      Travel_Rarely           5237                3  15711   \n",
       "\n",
       "                        Department  DistanceFromHome  Education  \\\n",
       "EmployeeID                                                        \n",
       "1                            Sales                 1          2   \n",
       "2           Research & Development                 8          1   \n",
       "4           Research & Development                 2          2   \n",
       "5           Research & Development                 3          4   \n",
       "7           Research & Development                 2          1   \n",
       "8           Research & Development                 2          2   \n",
       "10          Research & Development                 3          3   \n",
       "11          Research & Development                24          1   \n",
       "12          Research & Development                23          3   \n",
       "13          Research & Development                27          3   \n",
       "\n",
       "           EducationField  EnvSatisfaction  Gender                    JobRole  \\\n",
       "EmployeeID                                                                      \n",
       "1           Life Sciences                2  Female            Sales Executive   \n",
       "2           Life Sciences                3    Male         Research Scientist   \n",
       "4                   Other                4    Male      Laboratory Technician   \n",
       "5           Life Sciences                4  Female         Research Scientist   \n",
       "7                 Medical                1    Male      Laboratory Technician   \n",
       "8           Life Sciences                4    Male      Laboratory Technician   \n",
       "10                Medical                3  Female      Laboratory Technician   \n",
       "11          Life Sciences                4    Male      Laboratory Technician   \n",
       "12          Life Sciences                4    Male     Manufacturing Director   \n",
       "13                Medical                3    Male  Healthcare Representative   \n",
       "\n",
       "           MaritalStatus  PerformanceRating  TrainingTimesLastYear  \\\n",
       "EmployeeID                                                           \n",
       "1                 Single                  3                      0   \n",
       "2                Married                  4                      3   \n",
       "4                 Single                  3                      3   \n",
       "5                Married                  3                      3   \n",
       "7                Married                  3                      3   \n",
       "8                 Single                  3                      2   \n",
       "10               Married                  4                      3   \n",
       "11              Divorced                  4                      2   \n",
       "12                Single                  4                      2   \n",
       "13               Married                  3                      3   \n",
       "\n",
       "            YearsAtCompany  YearsSinceLastPromotion OverTime Attrition  \n",
       "EmployeeID                                                              \n",
       "1                        6                        0      Yes       Yes  \n",
       "2                       10                        1       No        No  \n",
       "4                        0                        0      Yes       Yes  \n",
       "5                        8                        3      Yes        No  \n",
       "7                        2                        2       No        No  \n",
       "8                        7                        3       No        No  \n",
       "10                       1                        0      Yes        No  \n",
       "11                       1                        0       No        No  \n",
       "12                       9                        1       No        No  \n",
       "13                       7                        7       No        No  "
      ]
     },
     "execution_count": 2,
     "metadata": {},
     "output_type": "execute_result"
    }
   ],
   "source": [
    "#Load data\n",
    "df = pd.read_csv('project_dataset.csv',\n",
    "                index_col=['EmployeeID'])\n",
    "\n",
    "df.head(10)"
   ]
  },
  {
   "cell_type": "code",
   "execution_count": 3,
   "id": "e9656c7b",
   "metadata": {},
   "outputs": [
    {
     "data": {
      "text/plain": [
       "Age                        0\n",
       "BusinessTravel             0\n",
       "MonthlyIncome              0\n",
       "JobSatisfaction            0\n",
       "Bonus                      0\n",
       "Department                 0\n",
       "DistanceFromHome           0\n",
       "Education                  0\n",
       "EducationField             0\n",
       "EnvSatisfaction            0\n",
       "Gender                     0\n",
       "JobRole                    0\n",
       "MaritalStatus              0\n",
       "PerformanceRating          0\n",
       "TrainingTimesLastYear      0\n",
       "YearsAtCompany             0\n",
       "YearsSinceLastPromotion    0\n",
       "OverTime                   0\n",
       "Attrition                  0\n",
       "dtype: int64"
      ]
     },
     "execution_count": 3,
     "metadata": {},
     "output_type": "execute_result"
    }
   ],
   "source": [
    "#Data quality check\n",
    "df.isnull().sum()"
   ]
  },
  {
   "cell_type": "code",
   "execution_count": 4,
   "id": "6af10b9b",
   "metadata": {},
   "outputs": [
    {
     "data": {
      "text/plain": [
       "(1470, 19)"
      ]
     },
     "execution_count": 4,
     "metadata": {},
     "output_type": "execute_result"
    }
   ],
   "source": [
    "df.shape"
   ]
  },
  {
   "cell_type": "code",
   "execution_count": 5,
   "id": "a5c23657",
   "metadata": {
    "scrolled": true
   },
   "outputs": [
    {
     "data": {
      "text/html": [
       "<div>\n",
       "<style scoped>\n",
       "    .dataframe tbody tr th:only-of-type {\n",
       "        vertical-align: middle;\n",
       "    }\n",
       "\n",
       "    .dataframe tbody tr th {\n",
       "        vertical-align: top;\n",
       "    }\n",
       "\n",
       "    .dataframe thead th {\n",
       "        text-align: right;\n",
       "    }\n",
       "</style>\n",
       "<table border=\"1\" class=\"dataframe\">\n",
       "  <thead>\n",
       "    <tr style=\"text-align: right;\">\n",
       "      <th></th>\n",
       "      <th>Age</th>\n",
       "      <th>BusinessTravel</th>\n",
       "      <th>MonthlyIncome</th>\n",
       "      <th>JobSatisfaction</th>\n",
       "      <th>Bonus</th>\n",
       "      <th>Department</th>\n",
       "      <th>DistanceFromHome</th>\n",
       "      <th>Education</th>\n",
       "      <th>EducationField</th>\n",
       "      <th>EnvSatisfaction</th>\n",
       "      <th>Gender</th>\n",
       "      <th>JobRole</th>\n",
       "      <th>MaritalStatus</th>\n",
       "      <th>PerformanceRating</th>\n",
       "      <th>TrainingTimesLastYear</th>\n",
       "      <th>YearsAtCompany</th>\n",
       "      <th>YearsSinceLastPromotion</th>\n",
       "      <th>OverTime</th>\n",
       "      <th>Attrition</th>\n",
       "    </tr>\n",
       "  </thead>\n",
       "  <tbody>\n",
       "    <tr>\n",
       "      <th>count</th>\n",
       "      <td>1470.000000</td>\n",
       "      <td>1470</td>\n",
       "      <td>1470.000000</td>\n",
       "      <td>1470.000000</td>\n",
       "      <td>1470.000000</td>\n",
       "      <td>1470</td>\n",
       "      <td>1470.000000</td>\n",
       "      <td>1470.000000</td>\n",
       "      <td>1470</td>\n",
       "      <td>1470.000000</td>\n",
       "      <td>1470</td>\n",
       "      <td>1470</td>\n",
       "      <td>1470</td>\n",
       "      <td>1470.000000</td>\n",
       "      <td>1470.000000</td>\n",
       "      <td>1470.000000</td>\n",
       "      <td>1470.000000</td>\n",
       "      <td>1470</td>\n",
       "      <td>1470</td>\n",
       "    </tr>\n",
       "    <tr>\n",
       "      <th>unique</th>\n",
       "      <td>NaN</td>\n",
       "      <td>3</td>\n",
       "      <td>NaN</td>\n",
       "      <td>NaN</td>\n",
       "      <td>NaN</td>\n",
       "      <td>3</td>\n",
       "      <td>NaN</td>\n",
       "      <td>NaN</td>\n",
       "      <td>6</td>\n",
       "      <td>NaN</td>\n",
       "      <td>2</td>\n",
       "      <td>9</td>\n",
       "      <td>3</td>\n",
       "      <td>NaN</td>\n",
       "      <td>NaN</td>\n",
       "      <td>NaN</td>\n",
       "      <td>NaN</td>\n",
       "      <td>2</td>\n",
       "      <td>2</td>\n",
       "    </tr>\n",
       "    <tr>\n",
       "      <th>top</th>\n",
       "      <td>NaN</td>\n",
       "      <td>Travel_Rarely</td>\n",
       "      <td>NaN</td>\n",
       "      <td>NaN</td>\n",
       "      <td>NaN</td>\n",
       "      <td>Research &amp; Development</td>\n",
       "      <td>NaN</td>\n",
       "      <td>NaN</td>\n",
       "      <td>Life Sciences</td>\n",
       "      <td>NaN</td>\n",
       "      <td>Male</td>\n",
       "      <td>Sales Executive</td>\n",
       "      <td>Married</td>\n",
       "      <td>NaN</td>\n",
       "      <td>NaN</td>\n",
       "      <td>NaN</td>\n",
       "      <td>NaN</td>\n",
       "      <td>No</td>\n",
       "      <td>No</td>\n",
       "    </tr>\n",
       "    <tr>\n",
       "      <th>freq</th>\n",
       "      <td>NaN</td>\n",
       "      <td>1043</td>\n",
       "      <td>NaN</td>\n",
       "      <td>NaN</td>\n",
       "      <td>NaN</td>\n",
       "      <td>961</td>\n",
       "      <td>NaN</td>\n",
       "      <td>NaN</td>\n",
       "      <td>606</td>\n",
       "      <td>NaN</td>\n",
       "      <td>882</td>\n",
       "      <td>326</td>\n",
       "      <td>673</td>\n",
       "      <td>NaN</td>\n",
       "      <td>NaN</td>\n",
       "      <td>NaN</td>\n",
       "      <td>NaN</td>\n",
       "      <td>1054</td>\n",
       "      <td>1233</td>\n",
       "    </tr>\n",
       "    <tr>\n",
       "      <th>mean</th>\n",
       "      <td>36.923810</td>\n",
       "      <td>NaN</td>\n",
       "      <td>6502.931293</td>\n",
       "      <td>2.728571</td>\n",
       "      <td>20479.501361</td>\n",
       "      <td>NaN</td>\n",
       "      <td>9.192517</td>\n",
       "      <td>2.912925</td>\n",
       "      <td>NaN</td>\n",
       "      <td>2.721769</td>\n",
       "      <td>NaN</td>\n",
       "      <td>NaN</td>\n",
       "      <td>NaN</td>\n",
       "      <td>3.153741</td>\n",
       "      <td>2.799320</td>\n",
       "      <td>7.008163</td>\n",
       "      <td>2.187755</td>\n",
       "      <td>NaN</td>\n",
       "      <td>NaN</td>\n",
       "    </tr>\n",
       "    <tr>\n",
       "      <th>std</th>\n",
       "      <td>9.135373</td>\n",
       "      <td>NaN</td>\n",
       "      <td>4707.956783</td>\n",
       "      <td>1.102846</td>\n",
       "      <td>15066.272964</td>\n",
       "      <td>NaN</td>\n",
       "      <td>8.106864</td>\n",
       "      <td>1.024165</td>\n",
       "      <td>NaN</td>\n",
       "      <td>1.093082</td>\n",
       "      <td>NaN</td>\n",
       "      <td>NaN</td>\n",
       "      <td>NaN</td>\n",
       "      <td>0.360824</td>\n",
       "      <td>1.289271</td>\n",
       "      <td>6.126525</td>\n",
       "      <td>3.222430</td>\n",
       "      <td>NaN</td>\n",
       "      <td>NaN</td>\n",
       "    </tr>\n",
       "    <tr>\n",
       "      <th>min</th>\n",
       "      <td>18.000000</td>\n",
       "      <td>NaN</td>\n",
       "      <td>1009.000000</td>\n",
       "      <td>1.000000</td>\n",
       "      <td>3027.000000</td>\n",
       "      <td>NaN</td>\n",
       "      <td>1.000000</td>\n",
       "      <td>1.000000</td>\n",
       "      <td>NaN</td>\n",
       "      <td>1.000000</td>\n",
       "      <td>NaN</td>\n",
       "      <td>NaN</td>\n",
       "      <td>NaN</td>\n",
       "      <td>3.000000</td>\n",
       "      <td>0.000000</td>\n",
       "      <td>0.000000</td>\n",
       "      <td>0.000000</td>\n",
       "      <td>NaN</td>\n",
       "      <td>NaN</td>\n",
       "    </tr>\n",
       "    <tr>\n",
       "      <th>25%</th>\n",
       "      <td>30.000000</td>\n",
       "      <td>NaN</td>\n",
       "      <td>2911.000000</td>\n",
       "      <td>2.000000</td>\n",
       "      <td>9333.750000</td>\n",
       "      <td>NaN</td>\n",
       "      <td>2.000000</td>\n",
       "      <td>2.000000</td>\n",
       "      <td>NaN</td>\n",
       "      <td>2.000000</td>\n",
       "      <td>NaN</td>\n",
       "      <td>NaN</td>\n",
       "      <td>NaN</td>\n",
       "      <td>3.000000</td>\n",
       "      <td>2.000000</td>\n",
       "      <td>3.000000</td>\n",
       "      <td>0.000000</td>\n",
       "      <td>NaN</td>\n",
       "      <td>NaN</td>\n",
       "    </tr>\n",
       "    <tr>\n",
       "      <th>50%</th>\n",
       "      <td>36.000000</td>\n",
       "      <td>NaN</td>\n",
       "      <td>4919.000000</td>\n",
       "      <td>3.000000</td>\n",
       "      <td>15484.500000</td>\n",
       "      <td>NaN</td>\n",
       "      <td>7.000000</td>\n",
       "      <td>3.000000</td>\n",
       "      <td>NaN</td>\n",
       "      <td>3.000000</td>\n",
       "      <td>NaN</td>\n",
       "      <td>NaN</td>\n",
       "      <td>NaN</td>\n",
       "      <td>3.000000</td>\n",
       "      <td>3.000000</td>\n",
       "      <td>5.000000</td>\n",
       "      <td>1.000000</td>\n",
       "      <td>NaN</td>\n",
       "      <td>NaN</td>\n",
       "    </tr>\n",
       "    <tr>\n",
       "      <th>75%</th>\n",
       "      <td>43.000000</td>\n",
       "      <td>NaN</td>\n",
       "      <td>8379.000000</td>\n",
       "      <td>4.000000</td>\n",
       "      <td>26103.750000</td>\n",
       "      <td>NaN</td>\n",
       "      <td>14.000000</td>\n",
       "      <td>4.000000</td>\n",
       "      <td>NaN</td>\n",
       "      <td>4.000000</td>\n",
       "      <td>NaN</td>\n",
       "      <td>NaN</td>\n",
       "      <td>NaN</td>\n",
       "      <td>3.000000</td>\n",
       "      <td>3.000000</td>\n",
       "      <td>9.000000</td>\n",
       "      <td>3.000000</td>\n",
       "      <td>NaN</td>\n",
       "      <td>NaN</td>\n",
       "    </tr>\n",
       "    <tr>\n",
       "      <th>max</th>\n",
       "      <td>60.000000</td>\n",
       "      <td>NaN</td>\n",
       "      <td>19999.000000</td>\n",
       "      <td>4.000000</td>\n",
       "      <td>79892.000000</td>\n",
       "      <td>NaN</td>\n",
       "      <td>29.000000</td>\n",
       "      <td>5.000000</td>\n",
       "      <td>NaN</td>\n",
       "      <td>4.000000</td>\n",
       "      <td>NaN</td>\n",
       "      <td>NaN</td>\n",
       "      <td>NaN</td>\n",
       "      <td>4.000000</td>\n",
       "      <td>6.000000</td>\n",
       "      <td>40.000000</td>\n",
       "      <td>15.000000</td>\n",
       "      <td>NaN</td>\n",
       "      <td>NaN</td>\n",
       "    </tr>\n",
       "  </tbody>\n",
       "</table>\n",
       "</div>"
      ],
      "text/plain": [
       "                Age BusinessTravel  MonthlyIncome  JobSatisfaction  \\\n",
       "count   1470.000000           1470    1470.000000      1470.000000   \n",
       "unique          NaN              3            NaN              NaN   \n",
       "top             NaN  Travel_Rarely            NaN              NaN   \n",
       "freq            NaN           1043            NaN              NaN   \n",
       "mean      36.923810            NaN    6502.931293         2.728571   \n",
       "std        9.135373            NaN    4707.956783         1.102846   \n",
       "min       18.000000            NaN    1009.000000         1.000000   \n",
       "25%       30.000000            NaN    2911.000000         2.000000   \n",
       "50%       36.000000            NaN    4919.000000         3.000000   \n",
       "75%       43.000000            NaN    8379.000000         4.000000   \n",
       "max       60.000000            NaN   19999.000000         4.000000   \n",
       "\n",
       "               Bonus              Department  DistanceFromHome    Education  \\\n",
       "count    1470.000000                    1470       1470.000000  1470.000000   \n",
       "unique           NaN                       3               NaN          NaN   \n",
       "top              NaN  Research & Development               NaN          NaN   \n",
       "freq             NaN                     961               NaN          NaN   \n",
       "mean    20479.501361                     NaN          9.192517     2.912925   \n",
       "std     15066.272964                     NaN          8.106864     1.024165   \n",
       "min      3027.000000                     NaN          1.000000     1.000000   \n",
       "25%      9333.750000                     NaN          2.000000     2.000000   \n",
       "50%     15484.500000                     NaN          7.000000     3.000000   \n",
       "75%     26103.750000                     NaN         14.000000     4.000000   \n",
       "max     79892.000000                     NaN         29.000000     5.000000   \n",
       "\n",
       "       EducationField  EnvSatisfaction Gender          JobRole MaritalStatus  \\\n",
       "count            1470      1470.000000   1470             1470          1470   \n",
       "unique              6              NaN      2                9             3   \n",
       "top     Life Sciences              NaN   Male  Sales Executive       Married   \n",
       "freq              606              NaN    882              326           673   \n",
       "mean              NaN         2.721769    NaN              NaN           NaN   \n",
       "std               NaN         1.093082    NaN              NaN           NaN   \n",
       "min               NaN         1.000000    NaN              NaN           NaN   \n",
       "25%               NaN         2.000000    NaN              NaN           NaN   \n",
       "50%               NaN         3.000000    NaN              NaN           NaN   \n",
       "75%               NaN         4.000000    NaN              NaN           NaN   \n",
       "max               NaN         4.000000    NaN              NaN           NaN   \n",
       "\n",
       "        PerformanceRating  TrainingTimesLastYear  YearsAtCompany  \\\n",
       "count         1470.000000            1470.000000     1470.000000   \n",
       "unique                NaN                    NaN             NaN   \n",
       "top                   NaN                    NaN             NaN   \n",
       "freq                  NaN                    NaN             NaN   \n",
       "mean             3.153741               2.799320        7.008163   \n",
       "std              0.360824               1.289271        6.126525   \n",
       "min              3.000000               0.000000        0.000000   \n",
       "25%              3.000000               2.000000        3.000000   \n",
       "50%              3.000000               3.000000        5.000000   \n",
       "75%              3.000000               3.000000        9.000000   \n",
       "max              4.000000               6.000000       40.000000   \n",
       "\n",
       "        YearsSinceLastPromotion OverTime Attrition  \n",
       "count               1470.000000     1470      1470  \n",
       "unique                      NaN        2         2  \n",
       "top                         NaN       No        No  \n",
       "freq                        NaN     1054      1233  \n",
       "mean                   2.187755      NaN       NaN  \n",
       "std                    3.222430      NaN       NaN  \n",
       "min                    0.000000      NaN       NaN  \n",
       "25%                    0.000000      NaN       NaN  \n",
       "50%                    1.000000      NaN       NaN  \n",
       "75%                    3.000000      NaN       NaN  \n",
       "max                   15.000000      NaN       NaN  "
      ]
     },
     "execution_count": 5,
     "metadata": {},
     "output_type": "execute_result"
    }
   ],
   "source": [
    "#Data summary\n",
    "df.describe(include='all')"
   ]
  },
  {
   "cell_type": "markdown",
   "id": "b72c7b60",
   "metadata": {},
   "source": [
    "Data Consistency; look for inconsistencies in the data, such as misspellings, inconsistent capitalization, or inconsistent formats. (Important for categorical variable)"
   ]
  },
  {
   "cell_type": "code",
   "execution_count": 6,
   "id": "8c0a58a5",
   "metadata": {},
   "outputs": [
    {
     "name": "stdout",
     "output_type": "stream",
     "text": [
      "count    1470.000000\n",
      "mean        3.153741\n",
      "std         0.360824\n",
      "min         3.000000\n",
      "25%         3.000000\n",
      "50%         3.000000\n",
      "75%         3.000000\n",
      "max         4.000000\n",
      "Name: PerformanceRating, dtype: float64\n",
      "[3 4]\n"
     ]
    }
   ],
   "source": [
    "column_name = 'PerformanceRating'  # Replace this with the column we want to check\n",
    "column_summary = df[column_name].describe()\n",
    "print(column_summary)\n",
    "\n",
    "unique_values = df[column_name].unique()\n",
    "print(unique_values)"
   ]
  },
  {
   "cell_type": "markdown",
   "id": "b900d589",
   "metadata": {},
   "source": [
    "### Explore Attrition - Univariate Analysis"
   ]
  },
  {
   "cell_type": "code",
   "execution_count": 7,
   "id": "e00ae1fb",
   "metadata": {},
   "outputs": [
    {
     "data": {
      "image/png": "[encoded data removed]",
      "text/plain": [
       "<Figure size 600x400 with 1 Axes>"
      ]
     },
     "metadata": {},
     "output_type": "display_data"
    },
    {
     "name": "stdout",
     "output_type": "stream",
     "text": [
      "No     1233\n",
      "Yes     237\n",
      "Name: Attrition, dtype: int64\n"
     ]
    }
   ],
   "source": [
    "# Count occurrences of each value in the \"Attrition\" column\n",
    "AttritionCounts = df['Attrition'].value_counts()\n",
    "\n",
    "# Create a count plot\n",
    "plt.figure(figsize=(6, 4))\n",
    "sns.countplot(data=df, x='Attrition')\n",
    "plt.title(\"Distribution of Attrition\")\n",
    "plt.xlabel(\"Attrition\")\n",
    "plt.ylabel(\"Count\")\n",
    "plt.show()\n",
    "\n",
    "# Display the count of each value\n",
    "print(AttritionCounts)"
   ]
  },
  {
   "cell_type": "code",
   "execution_count": 8,
   "id": "1a98dfc1",
   "metadata": {},
   "outputs": [
    {
     "name": "stdout",
     "output_type": "stream",
     "text": [
      "Attrition Rate = 16.12%\n"
     ]
    }
   ],
   "source": [
    "TotalEmployees = AttritionCounts.sum()\n",
    "\n",
    "AttritionRate = AttritionCounts[1] / TotalEmployees * 100\n",
    "\n",
    "print(f\"Attrition Rate = {AttritionRate:.2f}%\")"
   ]
  },
  {
   "cell_type": "markdown",
   "id": "4eef95a0",
   "metadata": {},
   "source": [
    "### Explore other variables"
   ]
  },
  {
   "cell_type": "markdown",
   "id": "0bc870f5",
   "metadata": {},
   "source": [
    "Numerical Variables\n",
    "1. Age\n",
    "2. MonthlyIncome\n",
    "3. Bonus\n",
    "4. DistanceFromHome\n",
    "5. TrainingTimeLastYear\n",
    "6. YearsAtCompany\n",
    "7. YearsSinceLastPromotion\n",
    "\n",
    "Categorical Variables\n",
    "1. BusinessTravel\n",
    "2. JobSatisfaction\n",
    "3. Department\n",
    "4. Education\n",
    "5. EducationField\n",
    "6. EnvSatisfaction\n",
    "7. Gender\n",
    "8. JobRole\n",
    "9. MaritalStatus\n",
    "10. PerformanceRating\n",
    "11. OverTime"
   ]
  },
  {
   "cell_type": "markdown",
   "id": "3d007cfa",
   "metadata": {},
   "source": [
    "### EDA - Numerical Variables"
   ]
  },
  {
   "cell_type": "markdown",
   "id": "03bbdae7",
   "metadata": {},
   "source": [
    "#### 1. Age"
   ]
  },
  {
   "cell_type": "code",
   "execution_count": 9,
   "id": "f671cda7",
   "metadata": {},
   "outputs": [
    {
     "data": {
      "text/html": [
       "<div>\n",
       "<style scoped>\n",
       "    .dataframe tbody tr th:only-of-type {\n",
       "        vertical-align: middle;\n",
       "    }\n",
       "\n",
       "    .dataframe tbody tr th {\n",
       "        vertical-align: top;\n",
       "    }\n",
       "\n",
       "    .dataframe thead th {\n",
       "        text-align: right;\n",
       "    }\n",
       "</style>\n",
       "<table border=\"1\" class=\"dataframe\">\n",
       "  <thead>\n",
       "    <tr style=\"text-align: right;\">\n",
       "      <th></th>\n",
       "      <th>Attrition</th>\n",
       "      <th>Age</th>\n",
       "    </tr>\n",
       "  </thead>\n",
       "  <tbody>\n",
       "    <tr>\n",
       "      <th>0</th>\n",
       "      <td>No</td>\n",
       "      <td>37.56</td>\n",
       "    </tr>\n",
       "    <tr>\n",
       "      <th>1</th>\n",
       "      <td>Yes</td>\n",
       "      <td>33.61</td>\n",
       "    </tr>\n",
       "  </tbody>\n",
       "</table>\n",
       "</div>"
      ],
      "text/plain": [
       "  Attrition    Age\n",
       "0        No  37.56\n",
       "1       Yes  33.61"
      ]
     },
     "execution_count": 9,
     "metadata": {},
     "output_type": "execute_result"
    }
   ],
   "source": [
    "#Numerical vs Categorical (Attrition)\n",
    "\n",
    "meanAge_Attrition = df.groupby('Attrition',as_index=False)['Age'].mean()\n",
    "\n",
    "meanAge_Attrition.round(2)"
   ]
  },
  {
   "cell_type": "code",
   "execution_count": 10,
   "id": "5933d13a",
   "metadata": {
    "scrolled": false
   },
   "outputs": [
    {
     "data": {
      "image/png": "[encoded data removed]",
      "text/plain": [
       "<Figure size 640x480 with 1 Axes>"
      ]
     },
     "metadata": {},
     "output_type": "display_data"
    }
   ],
   "source": [
    "sns.boxplot(x='Attrition',y='Age',data=df)\n",
    "plt.show()"
   ]
  },
  {
   "cell_type": "code",
   "execution_count": 11,
   "id": "85effdec",
   "metadata": {},
   "outputs": [
    {
     "data": {
      "image/png": "[encoded data removed]",
      "text/plain": [
       "<Figure size 640x480 with 1 Axes>"
      ]
     },
     "metadata": {},
     "output_type": "display_data"
    }
   ],
   "source": [
    "# Reviewing the Outliers in 'Yes'\n",
    "\n",
    "# Filter the data for Attrition == 'Yes'\n",
    "outliers_yes_age = df[df['Attrition'] == 'Yes']['Age']\n",
    "\n",
    "# Create the distribution plot\n",
    "sns.histplot(data=outliers_yes_age, bins=20, kde=True)  # You can adjust the number of bins as needed\n",
    "plt.xlabel('Age')\n",
    "plt.ylabel('Frequency')\n",
    "plt.show()\n",
    "\n",
    "# seems like them outliers are acceptable, keeping them in the dataset for the ML module"
   ]
  },
  {
   "cell_type": "code",
   "execution_count": 12,
   "id": "5375247c",
   "metadata": {},
   "outputs": [
    {
     "data": {
      "text/plain": [
       "0.71"
      ]
     },
     "execution_count": 12,
     "metadata": {},
     "output_type": "execute_result"
    }
   ],
   "source": [
    "#calculate skewness value, using scipy\n",
    "from scipy.stats import skew\n",
    "\n",
    "round(skew(outliers_yes_age,bias=True),2)"
   ]
  },
  {
   "cell_type": "code",
   "execution_count": 13,
   "id": "d371e222",
   "metadata": {},
   "outputs": [
    {
     "data": {
      "text/plain": [
       "LeveneResult(statistic=1.1583170677572885, pvalue=0.2819916793250208)"
      ]
     },
     "execution_count": 13,
     "metadata": {},
     "output_type": "execute_result"
    }
   ],
   "source": [
    "# Levene test to check the difference in var between two groups\n",
    "\n",
    "import scipy.stats as stats\n",
    "\n",
    "stats.levene(df['Age'][df['Attrition']=='Yes'],\n",
    "             df['Age'][df['Attrition']=='No'],\n",
    "             center='mean') "
   ]
  },
  {
   "cell_type": "markdown",
   "id": "a4d61990",
   "metadata": {},
   "source": [
    "Above means that Var is equal for both group, p-value more than 0.05"
   ]
  },
  {
   "cell_type": "code",
   "execution_count": 14,
   "id": "6537fc5a",
   "metadata": {},
   "outputs": [
    {
     "data": {
      "text/plain": [
       "Ttest_indResult(statistic=-6.178663835307217, pvalue=8.356308021103587e-10)"
      ]
     },
     "execution_count": 14,
     "metadata": {},
     "output_type": "execute_result"
    }
   ],
   "source": [
    "# null hypothesis = there is no significant difference in Age between employees who left and stayed in the company\n",
    "\n",
    "stats.ttest_ind(df['Age'][df['Attrition']=='Yes'],\n",
    "                df['Age'][df['Attrition']=='No'],\n",
    "                equal_var=True)"
   ]
  },
  {
   "cell_type": "markdown",
   "id": "36984071",
   "metadata": {},
   "source": [
    "p-value (TTest) is extremely small (much smaller than the conventional significance level of 0.05 or 0.01), it indicates strong evidence against the null hypothesis. \n",
    "\n",
    "Therefore, we can conclude that there is a statistically significant difference in the means of the \"Age\" variable between employees who have left the company and those who have stayed. \n",
    "\n",
    "In other words, the age of employees who left the company is significantly different from the age of employees who stayed, and age might be a significant factor related to attrition."
   ]
  },
  {
   "cell_type": "markdown",
   "id": "3b1b1eda",
   "metadata": {},
   "source": [
    "End of Age EDA section"
   ]
  },
  {
   "cell_type": "markdown",
   "id": "b9d9df3a",
   "metadata": {},
   "source": [
    "#### 2. Monthly Income"
   ]
  },
  {
   "cell_type": "code",
   "execution_count": 15,
   "id": "a3395132",
   "metadata": {},
   "outputs": [
    {
     "data": {
      "text/html": [
       "<div>\n",
       "<style scoped>\n",
       "    .dataframe tbody tr th:only-of-type {\n",
       "        vertical-align: middle;\n",
       "    }\n",
       "\n",
       "    .dataframe tbody tr th {\n",
       "        vertical-align: top;\n",
       "    }\n",
       "\n",
       "    .dataframe thead th {\n",
       "        text-align: right;\n",
       "    }\n",
       "</style>\n",
       "<table border=\"1\" class=\"dataframe\">\n",
       "  <thead>\n",
       "    <tr style=\"text-align: right;\">\n",
       "      <th></th>\n",
       "      <th>Age</th>\n",
       "      <th>BusinessTravel</th>\n",
       "      <th>MonthlyIncome</th>\n",
       "      <th>JobSatisfaction</th>\n",
       "      <th>Bonus</th>\n",
       "      <th>Department</th>\n",
       "      <th>DistanceFromHome</th>\n",
       "      <th>Education</th>\n",
       "      <th>EducationField</th>\n",
       "      <th>EnvSatisfaction</th>\n",
       "      <th>Gender</th>\n",
       "      <th>JobRole</th>\n",
       "      <th>MaritalStatus</th>\n",
       "      <th>PerformanceRating</th>\n",
       "      <th>TrainingTimesLastYear</th>\n",
       "      <th>YearsAtCompany</th>\n",
       "      <th>YearsSinceLastPromotion</th>\n",
       "      <th>OverTime</th>\n",
       "      <th>Attrition</th>\n",
       "    </tr>\n",
       "    <tr>\n",
       "      <th>EmployeeID</th>\n",
       "      <th></th>\n",
       "      <th></th>\n",
       "      <th></th>\n",
       "      <th></th>\n",
       "      <th></th>\n",
       "      <th></th>\n",
       "      <th></th>\n",
       "      <th></th>\n",
       "      <th></th>\n",
       "      <th></th>\n",
       "      <th></th>\n",
       "      <th></th>\n",
       "      <th></th>\n",
       "      <th></th>\n",
       "      <th></th>\n",
       "      <th></th>\n",
       "      <th></th>\n",
       "      <th></th>\n",
       "      <th></th>\n",
       "    </tr>\n",
       "  </thead>\n",
       "  <tbody>\n",
       "    <tr>\n",
       "      <th>1</th>\n",
       "      <td>41</td>\n",
       "      <td>Travel_Rarely</td>\n",
       "      <td>5993</td>\n",
       "      <td>4</td>\n",
       "      <td>17979</td>\n",
       "      <td>Sales</td>\n",
       "      <td>1</td>\n",
       "      <td>2</td>\n",
       "      <td>Life Sciences</td>\n",
       "      <td>2</td>\n",
       "      <td>Female</td>\n",
       "      <td>Sales Executive</td>\n",
       "      <td>Single</td>\n",
       "      <td>3</td>\n",
       "      <td>0</td>\n",
       "      <td>6</td>\n",
       "      <td>0</td>\n",
       "      <td>Yes</td>\n",
       "      <td>Yes</td>\n",
       "    </tr>\n",
       "    <tr>\n",
       "      <th>2</th>\n",
       "      <td>49</td>\n",
       "      <td>Travel_Frequently</td>\n",
       "      <td>5130</td>\n",
       "      <td>2</td>\n",
       "      <td>20520</td>\n",
       "      <td>Research &amp; Development</td>\n",
       "      <td>8</td>\n",
       "      <td>1</td>\n",
       "      <td>Life Sciences</td>\n",
       "      <td>3</td>\n",
       "      <td>Male</td>\n",
       "      <td>Research Scientist</td>\n",
       "      <td>Married</td>\n",
       "      <td>4</td>\n",
       "      <td>3</td>\n",
       "      <td>10</td>\n",
       "      <td>1</td>\n",
       "      <td>No</td>\n",
       "      <td>No</td>\n",
       "    </tr>\n",
       "    <tr>\n",
       "      <th>4</th>\n",
       "      <td>37</td>\n",
       "      <td>Travel_Rarely</td>\n",
       "      <td>2090</td>\n",
       "      <td>3</td>\n",
       "      <td>6270</td>\n",
       "      <td>Research &amp; Development</td>\n",
       "      <td>2</td>\n",
       "      <td>2</td>\n",
       "      <td>Other</td>\n",
       "      <td>4</td>\n",
       "      <td>Male</td>\n",
       "      <td>Laboratory Technician</td>\n",
       "      <td>Single</td>\n",
       "      <td>3</td>\n",
       "      <td>3</td>\n",
       "      <td>0</td>\n",
       "      <td>0</td>\n",
       "      <td>Yes</td>\n",
       "      <td>Yes</td>\n",
       "    </tr>\n",
       "    <tr>\n",
       "      <th>5</th>\n",
       "      <td>33</td>\n",
       "      <td>Travel_Frequently</td>\n",
       "      <td>2909</td>\n",
       "      <td>3</td>\n",
       "      <td>8727</td>\n",
       "      <td>Research &amp; Development</td>\n",
       "      <td>3</td>\n",
       "      <td>4</td>\n",
       "      <td>Life Sciences</td>\n",
       "      <td>4</td>\n",
       "      <td>Female</td>\n",
       "      <td>Research Scientist</td>\n",
       "      <td>Married</td>\n",
       "      <td>3</td>\n",
       "      <td>3</td>\n",
       "      <td>8</td>\n",
       "      <td>3</td>\n",
       "      <td>Yes</td>\n",
       "      <td>No</td>\n",
       "    </tr>\n",
       "    <tr>\n",
       "      <th>7</th>\n",
       "      <td>27</td>\n",
       "      <td>Travel_Rarely</td>\n",
       "      <td>3468</td>\n",
       "      <td>2</td>\n",
       "      <td>10404</td>\n",
       "      <td>Research &amp; Development</td>\n",
       "      <td>2</td>\n",
       "      <td>1</td>\n",
       "      <td>Medical</td>\n",
       "      <td>1</td>\n",
       "      <td>Male</td>\n",
       "      <td>Laboratory Technician</td>\n",
       "      <td>Married</td>\n",
       "      <td>3</td>\n",
       "      <td>3</td>\n",
       "      <td>2</td>\n",
       "      <td>2</td>\n",
       "      <td>No</td>\n",
       "      <td>No</td>\n",
       "    </tr>\n",
       "  </tbody>\n",
       "</table>\n",
       "</div>"
      ],
      "text/plain": [
       "            Age     BusinessTravel  MonthlyIncome  JobSatisfaction  Bonus  \\\n",
       "EmployeeID                                                                  \n",
       "1            41      Travel_Rarely           5993                4  17979   \n",
       "2            49  Travel_Frequently           5130                2  20520   \n",
       "4            37      Travel_Rarely           2090                3   6270   \n",
       "5            33  Travel_Frequently           2909                3   8727   \n",
       "7            27      Travel_Rarely           3468                2  10404   \n",
       "\n",
       "                        Department  DistanceFromHome  Education  \\\n",
       "EmployeeID                                                        \n",
       "1                            Sales                 1          2   \n",
       "2           Research & Development                 8          1   \n",
       "4           Research & Development                 2          2   \n",
       "5           Research & Development                 3          4   \n",
       "7           Research & Development                 2          1   \n",
       "\n",
       "           EducationField  EnvSatisfaction  Gender                JobRole  \\\n",
       "EmployeeID                                                                  \n",
       "1           Life Sciences                2  Female        Sales Executive   \n",
       "2           Life Sciences                3    Male     Research Scientist   \n",
       "4                   Other                4    Male  Laboratory Technician   \n",
       "5           Life Sciences                4  Female     Research Scientist   \n",
       "7                 Medical                1    Male  Laboratory Technician   \n",
       "\n",
       "           MaritalStatus  PerformanceRating  TrainingTimesLastYear  \\\n",
       "EmployeeID                                                           \n",
       "1                 Single                  3                      0   \n",
       "2                Married                  4                      3   \n",
       "4                 Single                  3                      3   \n",
       "5                Married                  3                      3   \n",
       "7                Married                  3                      3   \n",
       "\n",
       "            YearsAtCompany  YearsSinceLastPromotion OverTime Attrition  \n",
       "EmployeeID                                                              \n",
       "1                        6                        0      Yes       Yes  \n",
       "2                       10                        1       No        No  \n",
       "4                        0                        0      Yes       Yes  \n",
       "5                        8                        3      Yes        No  \n",
       "7                        2                        2       No        No  "
      ]
     },
     "execution_count": 15,
     "metadata": {},
     "output_type": "execute_result"
    }
   ],
   "source": [
    "df.head()"
   ]
  },
  {
   "cell_type": "code",
   "execution_count": 16,
   "id": "a8daa298",
   "metadata": {},
   "outputs": [
    {
     "data": {
      "text/html": [
       "<div>\n",
       "<style scoped>\n",
       "    .dataframe tbody tr th:only-of-type {\n",
       "        vertical-align: middle;\n",
       "    }\n",
       "\n",
       "    .dataframe tbody tr th {\n",
       "        vertical-align: top;\n",
       "    }\n",
       "\n",
       "    .dataframe thead th {\n",
       "        text-align: right;\n",
       "    }\n",
       "</style>\n",
       "<table border=\"1\" class=\"dataframe\">\n",
       "  <thead>\n",
       "    <tr style=\"text-align: right;\">\n",
       "      <th></th>\n",
       "      <th>Attrition</th>\n",
       "      <th>MonthlyIncome</th>\n",
       "    </tr>\n",
       "  </thead>\n",
       "  <tbody>\n",
       "    <tr>\n",
       "      <th>0</th>\n",
       "      <td>No</td>\n",
       "      <td>6832.74</td>\n",
       "    </tr>\n",
       "    <tr>\n",
       "      <th>1</th>\n",
       "      <td>Yes</td>\n",
       "      <td>4787.09</td>\n",
       "    </tr>\n",
       "  </tbody>\n",
       "</table>\n",
       "</div>"
      ],
      "text/plain": [
       "  Attrition  MonthlyIncome\n",
       "0        No        6832.74\n",
       "1       Yes        4787.09"
      ]
     },
     "execution_count": 16,
     "metadata": {},
     "output_type": "execute_result"
    }
   ],
   "source": [
    "#Numerical vs Categorical (Attrition)\n",
    "\n",
    "meanIncome_Attrition = df.groupby('Attrition', as_index=False)['MonthlyIncome'].mean()\n",
    "meanIncome_Attrition.round(2)"
   ]
  },
  {
   "cell_type": "code",
   "execution_count": 17,
   "id": "b304b0cf",
   "metadata": {},
   "outputs": [
    {
     "data": {
      "text/html": [
       "<div>\n",
       "<style scoped>\n",
       "    .dataframe tbody tr th:only-of-type {\n",
       "        vertical-align: middle;\n",
       "    }\n",
       "\n",
       "    .dataframe tbody tr th {\n",
       "        vertical-align: top;\n",
       "    }\n",
       "\n",
       "    .dataframe thead th {\n",
       "        text-align: right;\n",
       "    }\n",
       "</style>\n",
       "<table border=\"1\" class=\"dataframe\">\n",
       "  <thead>\n",
       "    <tr style=\"text-align: right;\">\n",
       "      <th></th>\n",
       "      <th>Attrition</th>\n",
       "      <th>MonthlyIncome</th>\n",
       "    </tr>\n",
       "  </thead>\n",
       "  <tbody>\n",
       "    <tr>\n",
       "      <th>0</th>\n",
       "      <td>No</td>\n",
       "      <td>5204.0</td>\n",
       "    </tr>\n",
       "    <tr>\n",
       "      <th>1</th>\n",
       "      <td>Yes</td>\n",
       "      <td>3202.0</td>\n",
       "    </tr>\n",
       "  </tbody>\n",
       "</table>\n",
       "</div>"
      ],
      "text/plain": [
       "  Attrition  MonthlyIncome\n",
       "0        No         5204.0\n",
       "1       Yes         3202.0"
      ]
     },
     "execution_count": 17,
     "metadata": {},
     "output_type": "execute_result"
    }
   ],
   "source": [
    "medianIncome_Attrition = df.groupby('Attrition', as_index=False)['MonthlyIncome'].median()\n",
    "medianIncome_Attrition.round(2)"
   ]
  },
  {
   "cell_type": "code",
   "execution_count": 18,
   "id": "3ff758b4",
   "metadata": {},
   "outputs": [
    {
     "data": {
      "image/png": "[encoded data removed]",
      "text/plain": [
       "<Figure size 1000x600 with 1 Axes>"
      ]
     },
     "metadata": {},
     "output_type": "display_data"
    }
   ],
   "source": [
    "plt.figure(figsize=(10, 6))\n",
    "sns.boxplot(x='Attrition', y='MonthlyIncome', data=df)\n",
    "plt.title('MonthlyIncome vs Attrition (Box Plot)')\n",
    "plt.show()"
   ]
  },
  {
   "cell_type": "code",
   "execution_count": 19,
   "id": "899223a2",
   "metadata": {},
   "outputs": [
    {
     "data": {
      "image/png": "[encoded data removed]",
      "text/plain": [
       "<Figure size 640x480 with 1 Axes>"
      ]
     },
     "metadata": {},
     "output_type": "display_data"
    }
   ],
   "source": [
    "# Reviewing the Outliers in 'Yes'\n",
    "\n",
    "# Filter the data for Attrition == 'Yes'\n",
    "outliers_yes_income = df[df['Attrition'] == 'Yes']['MonthlyIncome']\n",
    "\n",
    "# Create the distribution plot\n",
    "sns.histplot(data=outliers_yes_income, bins=20, kde=True)  # You can adjust the number of bins as needed\n",
    "plt.xlabel('MonthlyIncome')\n",
    "plt.ylabel('Frequency')\n",
    "plt.show()\n",
    "\n",
    "# seems like them outliers are significant, considering to remove them from the dataset for the ML module. We'l see"
   ]
  },
  {
   "cell_type": "code",
   "execution_count": 20,
   "id": "64e70e33",
   "metadata": {},
   "outputs": [
    {
     "data": {
      "text/plain": [
       "1.91"
      ]
     },
     "execution_count": 20,
     "metadata": {},
     "output_type": "execute_result"
    }
   ],
   "source": [
    "#calculate skewness value, using scipy\n",
    "#from scipy.stats import skew\n",
    "\n",
    "round(skew(outliers_yes_income,bias=True),2)\n",
    "\n",
    "# the outliers seem plausible, but would it be good to remove the outliers for the ML model?\n",
    "# Including outliers in the training data can help the model generalize better to unseen data, \n",
    "# as it learns to account for different data distributions and variations."
   ]
  },
  {
   "cell_type": "code",
   "execution_count": 21,
   "id": "462f2b85",
   "metadata": {},
   "outputs": [
    {
     "data": {
      "text/plain": [
       "LeveneResult(statistic=14.899586974568717, pvalue=0.00011830973427184532)"
      ]
     },
     "execution_count": 21,
     "metadata": {},
     "output_type": "execute_result"
    }
   ],
   "source": [
    "# Levene test to check the difference in var between two groups\n",
    "\n",
    "#import scipy.stats as stats\n",
    "\n",
    "stats.levene(df['MonthlyIncome'][df['Attrition']=='Yes'],\n",
    "             df['MonthlyIncome'][df['Attrition']=='No'],\n",
    "             center='median')\n",
    "\n",
    "# use median instead of mean for levene test and retain the outliers for the ML model."
   ]
  },
  {
   "cell_type": "code",
   "execution_count": 22,
   "id": "8b4b1e5c",
   "metadata": {},
   "outputs": [
    {
     "data": {
      "text/plain": [
       "LeveneResult(statistic=26.31302358992364, pvalue=3.29070575711061e-07)"
      ]
     },
     "execution_count": 22,
     "metadata": {},
     "output_type": "execute_result"
    }
   ],
   "source": [
    "# Levene test to check the difference in var between two groups\n",
    "\n",
    "#import scipy.stats as stats\n",
    "\n",
    "stats.levene(df['MonthlyIncome'][df['Attrition']=='Yes'],\n",
    "             df['MonthlyIncome'][df['Attrition']=='No'],\n",
    "             center='mean')\n",
    "\n",
    "# using mean, still not equal Var"
   ]
  },
  {
   "cell_type": "markdown",
   "id": "dfffd8c0",
   "metadata": {},
   "source": [
    "Above means that Var is not equal for both group, p-value less than 0.05 (also less than 0.01 - significantly different)"
   ]
  },
  {
   "cell_type": "code",
   "execution_count": 23,
   "id": "a2f0288d",
   "metadata": {},
   "outputs": [
    {
     "data": {
      "text/plain": [
       "Ttest_indResult(statistic=-7.482621586644742, pvalue=4.433588628286071e-13)"
      ]
     },
     "execution_count": 23,
     "metadata": {},
     "output_type": "execute_result"
    }
   ],
   "source": [
    "# null hypothesis = there is no significant difference in MonthlyIncome between employees who left and stayed in the company\n",
    "\n",
    "stats.ttest_ind(df['MonthlyIncome'][df['Attrition']=='Yes'],\n",
    "                df['MonthlyIncome'][df['Attrition']=='No'],\n",
    "                equal_var=False)"
   ]
  },
  {
   "cell_type": "markdown",
   "id": "c95f2c3d",
   "metadata": {},
   "source": [
    "Statistic: -7.482621586644742\n",
    "\n",
    "p-value: 4.433588628286071e-13\n",
    "\n",
    "The t-test is used to determine if there is a significant difference between the means of two groups. In your case, you are comparing the 'MonthlyIncome' of employees who left ('Attrition' == 'Yes') with those who stayed ('Attrition' == 'No').\n",
    "\n",
    "Statistic: The statistic value represents the t-statistic calculated by the test. It quantifies how much the means of the two groups differ from each other relative to the variability within each group. A larger absolute value of the t-statistic suggests a larger difference between the means.\n",
    "\n",
    "p-value: The p-value is a measure of evidence against the null hypothesis. In this context, the null hypothesis is that there is no difference in 'MonthlyIncome' between employees who left and employees who stayed. A low p-value indicates strong evidence against the null hypothesis, suggesting that the difference in means is statistically significant.\n",
    "\n",
    "Interpretation:\n",
    "\n",
    "- The negative sign of the statistic indicates that the mean 'MonthlyIncome' for employees who left is lower than for those who stayed.\n",
    "- The extremely small p-value (4.433588628286071e-13) indicates that the difference in 'MonthlyIncome' between the two groups is highly statistically significant. In other words, it is very unlikely to observe such a difference if there were no real difference between the groups.\n",
    "\n",
    "In conclusion, based on the t-test results, there is strong evidence to suggest that there is a significant difference in 'MonthlyIncome' between employees who left and employees who stayed at the company."
   ]
  },
  {
   "cell_type": "markdown",
   "id": "5438a25a",
   "metadata": {},
   "source": [
    "End of MonthlyIncome EDA section"
   ]
  },
  {
   "cell_type": "markdown",
   "id": "43aec024",
   "metadata": {},
   "source": [
    "#### 3. Bonus"
   ]
  },
  {
   "cell_type": "code",
   "execution_count": 24,
   "id": "2a3efe5d",
   "metadata": {},
   "outputs": [
    {
     "data": {
      "text/html": [
       "<div>\n",
       "<style scoped>\n",
       "    .dataframe tbody tr th:only-of-type {\n",
       "        vertical-align: middle;\n",
       "    }\n",
       "\n",
       "    .dataframe tbody tr th {\n",
       "        vertical-align: top;\n",
       "    }\n",
       "\n",
       "    .dataframe thead th {\n",
       "        text-align: right;\n",
       "    }\n",
       "</style>\n",
       "<table border=\"1\" class=\"dataframe\">\n",
       "  <thead>\n",
       "    <tr style=\"text-align: right;\">\n",
       "      <th></th>\n",
       "      <th>Attrition</th>\n",
       "      <th>Bonus</th>\n",
       "    </tr>\n",
       "  </thead>\n",
       "  <tbody>\n",
       "    <tr>\n",
       "      <th>0</th>\n",
       "      <td>No</td>\n",
       "      <td>21543.95</td>\n",
       "    </tr>\n",
       "    <tr>\n",
       "      <th>1</th>\n",
       "      <td>Yes</td>\n",
       "      <td>14941.67</td>\n",
       "    </tr>\n",
       "  </tbody>\n",
       "</table>\n",
       "</div>"
      ],
      "text/plain": [
       "  Attrition     Bonus\n",
       "0        No  21543.95\n",
       "1       Yes  14941.67"
      ]
     },
     "execution_count": 24,
     "metadata": {},
     "output_type": "execute_result"
    }
   ],
   "source": [
    "#Numerical vs Categorical (Attrition)\n",
    "\n",
    "meanBonus_Attrition = df.groupby('Attrition', as_index=False)['Bonus'].mean()\n",
    "meanBonus_Attrition.round(2)"
   ]
  },
  {
   "cell_type": "code",
   "execution_count": 25,
   "id": "98a3658b",
   "metadata": {},
   "outputs": [
    {
     "data": {
      "text/html": [
       "<div>\n",
       "<style scoped>\n",
       "    .dataframe tbody tr th:only-of-type {\n",
       "        vertical-align: middle;\n",
       "    }\n",
       "\n",
       "    .dataframe tbody tr th {\n",
       "        vertical-align: top;\n",
       "    }\n",
       "\n",
       "    .dataframe thead th {\n",
       "        text-align: right;\n",
       "    }\n",
       "</style>\n",
       "<table border=\"1\" class=\"dataframe\">\n",
       "  <thead>\n",
       "    <tr style=\"text-align: right;\">\n",
       "      <th></th>\n",
       "      <th>Attrition</th>\n",
       "      <th>Bonus</th>\n",
       "    </tr>\n",
       "  </thead>\n",
       "  <tbody>\n",
       "    <tr>\n",
       "      <th>0</th>\n",
       "      <td>No</td>\n",
       "      <td>16131.0</td>\n",
       "    </tr>\n",
       "    <tr>\n",
       "      <th>1</th>\n",
       "      <td>Yes</td>\n",
       "      <td>10392.0</td>\n",
       "    </tr>\n",
       "  </tbody>\n",
       "</table>\n",
       "</div>"
      ],
      "text/plain": [
       "  Attrition    Bonus\n",
       "0        No  16131.0\n",
       "1       Yes  10392.0"
      ]
     },
     "execution_count": 25,
     "metadata": {},
     "output_type": "execute_result"
    }
   ],
   "source": [
    "medianBonus_Attrition = df.groupby('Attrition', as_index=False)['Bonus'].median()\n",
    "medianBonus_Attrition.round(2)"
   ]
  },
  {
   "cell_type": "code",
   "execution_count": 26,
   "id": "73bebbc3",
   "metadata": {},
   "outputs": [
    {
     "data": {
      "image/png": "[encoded data removed]",
      "text/plain": [
       "<Figure size 1000x600 with 1 Axes>"
      ]
     },
     "metadata": {},
     "output_type": "display_data"
    }
   ],
   "source": [
    "plt.figure(figsize=(10, 6))\n",
    "sns.boxplot(x='Attrition', y='Bonus', data=df)\n",
    "plt.title('Bonus vs Attrition (Box Plot)')\n",
    "plt.show()"
   ]
  },
  {
   "cell_type": "code",
   "execution_count": 27,
   "id": "4fe688bb",
   "metadata": {},
   "outputs": [
    {
     "data": {
      "text/plain": [
       "LeveneResult(statistic=17.077456087575865, pvalue=3.791296978978068e-05)"
      ]
     },
     "execution_count": 27,
     "metadata": {},
     "output_type": "execute_result"
    }
   ],
   "source": [
    "# Levene test to check the difference in var between two groups\n",
    "\n",
    "#import scipy.stats as stats\n",
    "\n",
    "stats.levene(df['Bonus'][df['Attrition']=='Yes'],\n",
    "             df['Bonus'][df['Attrition']=='No'],\n",
    "             center='median')\n",
    "\n",
    "# use median instead of mean for levene test due to outliers"
   ]
  },
  {
   "cell_type": "markdown",
   "id": "7e7b7221",
   "metadata": {},
   "source": [
    "Above means that Var is not equal for both group, p-value less than 0.05 (also less than 0.01 - significantly different)"
   ]
  },
  {
   "cell_type": "code",
   "execution_count": 28,
   "id": "52da6d61",
   "metadata": {},
   "outputs": [
    {
     "data": {
      "text/plain": [
       "Ttest_indResult(statistic=-7.831954710068883, pvalue=3.692333845137077e-14)"
      ]
     },
     "execution_count": 28,
     "metadata": {},
     "output_type": "execute_result"
    }
   ],
   "source": [
    "# null hypothesis = there is no significant difference in Bonus between employees who left and stayed in the company\n",
    "\n",
    "stats.ttest_ind(df['Bonus'][df['Attrition']=='Yes'],\n",
    "                df['Bonus'][df['Attrition']=='No'],\n",
    "                equal_var=False)"
   ]
  },
  {
   "cell_type": "markdown",
   "id": "ae9a00dd",
   "metadata": {},
   "source": [
    "T-Test Result Explanation: Bonus Variable\n",
    "\n",
    "T-Test Statistic: The t-test statistic for the \"Bonus\" variable comparison is approximately -7.83. This number reflects the extent of the difference in mean bonus values between employees who have left the company and those who have stayed.\n",
    "\n",
    "P-Value: The p-value associated with this t-test is approximately 3.69e-14, an exceedingly small value. The p-value represents the likelihood of encountering such substantial differences (or even more substantial) between the two groups, assuming that there isn't a genuine distinction between them (null hypothesis being true). With such a minute p-value, there's compelling evidence against the null hypothesis.\n",
    "\n",
    "In simpler terms, the exceptionally low p-value indicates that the observed disparity in mean bonuses between departing employees and those who remain is highly unlikely to occur by mere chance. This typically leads us to reject the null hypothesis.\n",
    "\n",
    "Interpreting this outcome, we can conclude that there's a noteworthy difference in bonus amounts between employees who have left the company and those who have chosen to stay. The actual impact or significance of this distinction will depend on the specifics of our analysis and our understanding of the industry's dynamics."
   ]
  },
  {
   "cell_type": "markdown",
   "id": "4dbf0122",
   "metadata": {},
   "source": [
    "End of Bonus EDA section"
   ]
  },
  {
   "cell_type": "markdown",
   "id": "5592a512",
   "metadata": {},
   "source": [
    "#### 4. DistanceFromHome"
   ]
  },
  {
   "cell_type": "code",
   "execution_count": 29,
   "id": "3358dc1a",
   "metadata": {},
   "outputs": [
    {
     "data": {
      "text/html": [
       "<div>\n",
       "<style scoped>\n",
       "    .dataframe tbody tr th:only-of-type {\n",
       "        vertical-align: middle;\n",
       "    }\n",
       "\n",
       "    .dataframe tbody tr th {\n",
       "        vertical-align: top;\n",
       "    }\n",
       "\n",
       "    .dataframe thead th {\n",
       "        text-align: right;\n",
       "    }\n",
       "</style>\n",
       "<table border=\"1\" class=\"dataframe\">\n",
       "  <thead>\n",
       "    <tr style=\"text-align: right;\">\n",
       "      <th></th>\n",
       "      <th>Attrition</th>\n",
       "      <th>DistanceFromHome</th>\n",
       "    </tr>\n",
       "  </thead>\n",
       "  <tbody>\n",
       "    <tr>\n",
       "      <th>0</th>\n",
       "      <td>No</td>\n",
       "      <td>8.92</td>\n",
       "    </tr>\n",
       "    <tr>\n",
       "      <th>1</th>\n",
       "      <td>Yes</td>\n",
       "      <td>10.63</td>\n",
       "    </tr>\n",
       "  </tbody>\n",
       "</table>\n",
       "</div>"
      ],
      "text/plain": [
       "  Attrition  DistanceFromHome\n",
       "0        No              8.92\n",
       "1       Yes             10.63"
      ]
     },
     "execution_count": 29,
     "metadata": {},
     "output_type": "execute_result"
    }
   ],
   "source": [
    "#Numerical vs Categorical (Attrition)\n",
    "\n",
    "meanHome_Attrition = df.groupby('Attrition', as_index=False)['DistanceFromHome'].mean()\n",
    "meanHome_Attrition.round(2)"
   ]
  },
  {
   "cell_type": "code",
   "execution_count": 30,
   "id": "ba401b57",
   "metadata": {},
   "outputs": [
    {
     "data": {
      "text/html": [
       "<div>\n",
       "<style scoped>\n",
       "    .dataframe tbody tr th:only-of-type {\n",
       "        vertical-align: middle;\n",
       "    }\n",
       "\n",
       "    .dataframe tbody tr th {\n",
       "        vertical-align: top;\n",
       "    }\n",
       "\n",
       "    .dataframe thead th {\n",
       "        text-align: right;\n",
       "    }\n",
       "</style>\n",
       "<table border=\"1\" class=\"dataframe\">\n",
       "  <thead>\n",
       "    <tr style=\"text-align: right;\">\n",
       "      <th></th>\n",
       "      <th>Attrition</th>\n",
       "      <th>DistanceFromHome</th>\n",
       "    </tr>\n",
       "  </thead>\n",
       "  <tbody>\n",
       "    <tr>\n",
       "      <th>0</th>\n",
       "      <td>No</td>\n",
       "      <td>7.0</td>\n",
       "    </tr>\n",
       "    <tr>\n",
       "      <th>1</th>\n",
       "      <td>Yes</td>\n",
       "      <td>9.0</td>\n",
       "    </tr>\n",
       "  </tbody>\n",
       "</table>\n",
       "</div>"
      ],
      "text/plain": [
       "  Attrition  DistanceFromHome\n",
       "0        No               7.0\n",
       "1       Yes               9.0"
      ]
     },
     "execution_count": 30,
     "metadata": {},
     "output_type": "execute_result"
    }
   ],
   "source": [
    "meanHome_Attrition = df.groupby('Attrition', as_index=False)['DistanceFromHome'].median()\n",
    "meanHome_Attrition.round(2)"
   ]
  },
  {
   "cell_type": "code",
   "execution_count": 31,
   "id": "f358f7ac",
   "metadata": {},
   "outputs": [
    {
     "data": {
      "image/png": "[encoded data removed]",
      "text/plain": [
       "<Figure size 1000x600 with 1 Axes>"
      ]
     },
     "metadata": {},
     "output_type": "display_data"
    }
   ],
   "source": [
    "plt.figure(figsize=(10, 6))\n",
    "sns.boxplot(x='Attrition', y='DistanceFromHome', data=df)\n",
    "plt.title('DistanceFromHome vs Attrition (Box Plot)')\n",
    "plt.show()"
   ]
  },
  {
   "cell_type": "code",
   "execution_count": 32,
   "id": "fc756f18",
   "metadata": {},
   "outputs": [
    {
     "data": {
      "text/plain": [
       "LeveneResult(statistic=4.974146689763782, pvalue=0.025879557896104303)"
      ]
     },
     "execution_count": 32,
     "metadata": {},
     "output_type": "execute_result"
    }
   ],
   "source": [
    "# Levene test to check the difference in var between two groups\n",
    "\n",
    "#import scipy.stats as stats\n",
    "\n",
    "stats.levene(df['DistanceFromHome'][df['Attrition']=='Yes'],\n",
    "             df['DistanceFromHome'][df['Attrition']=='No'],\n",
    "             center='mean')\n"
   ]
  },
  {
   "cell_type": "markdown",
   "id": "5575da17",
   "metadata": {},
   "source": [
    "Above means that Var is NOT equal for both group, p-value less than 0.05"
   ]
  },
  {
   "cell_type": "code",
   "execution_count": 33,
   "id": "23d23475",
   "metadata": {},
   "outputs": [
    {
     "data": {
      "text/plain": [
       "Ttest_indResult(statistic=2.888183062817627, pvalue=0.004136511971511406)"
      ]
     },
     "execution_count": 33,
     "metadata": {},
     "output_type": "execute_result"
    }
   ],
   "source": [
    "# null hypothesis = there is no significant difference in DistanceFromHome between employees who left and stayed in the company\n",
    "\n",
    "stats.ttest_ind(df['DistanceFromHome'][df['Attrition']=='Yes'],\n",
    "                df['DistanceFromHome'][df['Attrition']=='No'],\n",
    "                equal_var=False)"
   ]
  },
  {
   "cell_type": "markdown",
   "id": "4a020768",
   "metadata": {},
   "source": [
    "T-Test Result Explanation: DistanceFromHome Variable\n",
    "\n",
    "T-Test Statistic: The t-test statistic for the \"DistanceFromHome\" variable comparison is approximately 2.89. This number reflects the extent of the difference in mean distances from home between employees who have left the company and those who have stayed.\n",
    "\n",
    "P-Value: The p-value associated with this t-test is approximately 0.004. This p-value indicates the likelihood of encountering such a substantial difference (or even more substantial) in mean distances from home between the two groups, assuming that there isn't a genuine distinction between them (null hypothesis being true). With a p-value of 0.004, there is strong evidence against the null hypothesis.\n",
    "\n",
    "In simpler terms, the p-value suggests that the observed difference in mean distances from home between departing employees and those who remain is highly unlikely to occur by mere chance. This typically leads us to reject the null hypothesis.\n",
    "\n",
    "Interpreting this outcome, we can conclude that there's a statistically significant difference in the mean distances from home between employees who have left the company and those who have chosen to stay. The actual impact or significance of this distinction will depend on the specifics of our analysis and our understanding of the industry's dynamics."
   ]
  },
  {
   "cell_type": "markdown",
   "id": "c4cf4c50",
   "metadata": {},
   "source": [
    "End of DistanceFromHome EDA section"
   ]
  },
  {
   "cell_type": "markdown",
   "id": "0d3320f7",
   "metadata": {},
   "source": [
    "#### 5. TrainingTimeLastYear"
   ]
  },
  {
   "cell_type": "code",
   "execution_count": 34,
   "id": "ea3ce4ec",
   "metadata": {},
   "outputs": [
    {
     "data": {
      "text/plain": [
       "Index(['Age', 'BusinessTravel', 'MonthlyIncome', 'JobSatisfaction', 'Bonus',\n",
       "       'Department', 'DistanceFromHome', 'Education', 'EducationField',\n",
       "       'EnvSatisfaction', 'Gender', 'JobRole', 'MaritalStatus',\n",
       "       'PerformanceRating', 'TrainingTimesLastYear', 'YearsAtCompany',\n",
       "       'YearsSinceLastPromotion', 'OverTime', 'Attrition'],\n",
       "      dtype='object')"
      ]
     },
     "execution_count": 34,
     "metadata": {},
     "output_type": "execute_result"
    }
   ],
   "source": [
    "df.columns"
   ]
  },
  {
   "cell_type": "code",
   "execution_count": 35,
   "id": "424cbfd6",
   "metadata": {},
   "outputs": [
    {
     "data": {
      "text/html": [
       "<div>\n",
       "<style scoped>\n",
       "    .dataframe tbody tr th:only-of-type {\n",
       "        vertical-align: middle;\n",
       "    }\n",
       "\n",
       "    .dataframe tbody tr th {\n",
       "        vertical-align: top;\n",
       "    }\n",
       "\n",
       "    .dataframe thead th {\n",
       "        text-align: right;\n",
       "    }\n",
       "</style>\n",
       "<table border=\"1\" class=\"dataframe\">\n",
       "  <thead>\n",
       "    <tr style=\"text-align: right;\">\n",
       "      <th></th>\n",
       "      <th>Attrition</th>\n",
       "      <th>TrainingTimesLastYear</th>\n",
       "    </tr>\n",
       "  </thead>\n",
       "  <tbody>\n",
       "    <tr>\n",
       "      <th>0</th>\n",
       "      <td>No</td>\n",
       "      <td>2.83</td>\n",
       "    </tr>\n",
       "    <tr>\n",
       "      <th>1</th>\n",
       "      <td>Yes</td>\n",
       "      <td>2.62</td>\n",
       "    </tr>\n",
       "  </tbody>\n",
       "</table>\n",
       "</div>"
      ],
      "text/plain": [
       "  Attrition  TrainingTimesLastYear\n",
       "0        No                   2.83\n",
       "1       Yes                   2.62"
      ]
     },
     "execution_count": 35,
     "metadata": {},
     "output_type": "execute_result"
    }
   ],
   "source": [
    "#Numerical vs Categorical (Attrition)\n",
    "\n",
    "meanTraining_Attrition = df.groupby('Attrition', as_index=False)['TrainingTimesLastYear'].mean()\n",
    "meanTraining_Attrition.round(2)"
   ]
  },
  {
   "cell_type": "code",
   "execution_count": 36,
   "id": "c222d998",
   "metadata": {},
   "outputs": [
    {
     "data": {
      "text/html": [
       "<div>\n",
       "<style scoped>\n",
       "    .dataframe tbody tr th:only-of-type {\n",
       "        vertical-align: middle;\n",
       "    }\n",
       "\n",
       "    .dataframe tbody tr th {\n",
       "        vertical-align: top;\n",
       "    }\n",
       "\n",
       "    .dataframe thead th {\n",
       "        text-align: right;\n",
       "    }\n",
       "</style>\n",
       "<table border=\"1\" class=\"dataframe\">\n",
       "  <thead>\n",
       "    <tr style=\"text-align: right;\">\n",
       "      <th></th>\n",
       "      <th>Attrition</th>\n",
       "      <th>TrainingTimesLastYear</th>\n",
       "    </tr>\n",
       "  </thead>\n",
       "  <tbody>\n",
       "    <tr>\n",
       "      <th>0</th>\n",
       "      <td>No</td>\n",
       "      <td>3.0</td>\n",
       "    </tr>\n",
       "    <tr>\n",
       "      <th>1</th>\n",
       "      <td>Yes</td>\n",
       "      <td>2.0</td>\n",
       "    </tr>\n",
       "  </tbody>\n",
       "</table>\n",
       "</div>"
      ],
      "text/plain": [
       "  Attrition  TrainingTimesLastYear\n",
       "0        No                    3.0\n",
       "1       Yes                    2.0"
      ]
     },
     "execution_count": 36,
     "metadata": {},
     "output_type": "execute_result"
    }
   ],
   "source": [
    "medianTraining_Attrition = df.groupby('Attrition', as_index=False)['TrainingTimesLastYear'].median()\n",
    "medianTraining_Attrition.round(2)"
   ]
  },
  {
   "cell_type": "code",
   "execution_count": 37,
   "id": "c13cdf01",
   "metadata": {},
   "outputs": [
    {
     "data": {
      "image/png": "[encoded data removed]",
      "text/plain": [
       "<Figure size 1000x600 with 1 Axes>"
      ]
     },
     "metadata": {},
     "output_type": "display_data"
    }
   ],
   "source": [
    "plt.figure(figsize=(10, 6))\n",
    "sns.boxplot(x='Attrition', y='TrainingTimesLastYear', data=df)\n",
    "plt.title('TrainingTime vs Attrition (Box Plot)')\n",
    "plt.show()"
   ]
  },
  {
   "cell_type": "code",
   "execution_count": 38,
   "id": "1a84c1d1",
   "metadata": {},
   "outputs": [
    {
     "data": {
      "text/plain": [
       "LeveneResult(statistic=0.0009627467164361536, pvalue=0.9752512997636223)"
      ]
     },
     "execution_count": 38,
     "metadata": {},
     "output_type": "execute_result"
    }
   ],
   "source": [
    "# Levene test to check the difference in var between two groups\n",
    "\n",
    "#import scipy.stats as stats\n",
    "\n",
    "stats.levene(df['TrainingTimesLastYear'][df['Attrition']=='Yes'],\n",
    "             df['TrainingTimesLastYear'][df['Attrition']=='No'],\n",
    "             center='mean')\n",
    "\n",
    "# use median instead of mean for levene test due to outliers\n",
    "# but visually, the two look identical, with both having similar outliers, mean also can"
   ]
  },
  {
   "cell_type": "markdown",
   "id": "9e327697",
   "metadata": {},
   "source": [
    "Above means that Var is equal for both group, p-value more than 0.05"
   ]
  },
  {
   "cell_type": "code",
   "execution_count": 39,
   "id": "9435fad9",
   "metadata": {},
   "outputs": [
    {
     "data": {
      "text/plain": [
       "Ttest_indResult(statistic=-2.28290299236669, pvalue=0.022578499737201205)"
      ]
     },
     "execution_count": 39,
     "metadata": {},
     "output_type": "execute_result"
    }
   ],
   "source": [
    "# null hypothesis = there is no significant difference in TrainingTimesLastYear between employees who left and stayed in the company\n",
    "\n",
    "stats.ttest_ind(df['TrainingTimesLastYear'][df['Attrition']=='Yes'],\n",
    "                df['TrainingTimesLastYear'][df['Attrition']=='No'],\n",
    "                equal_var=True)"
   ]
  },
  {
   "cell_type": "markdown",
   "id": "17cf6a32",
   "metadata": {},
   "source": [
    "T-Test Result Explanation: Training Times Last Year Variable\n",
    "\n",
    "T-Test Statistic: The t-test statistic for the \"Training Times Last Year\" variable comparison is approximately -2.28. This value indicates the extent of the difference in mean training times between employees who have left the company and those who have stayed.\n",
    "\n",
    "P-Value: The p-value associated with this t-test is approximately 0.0226. This p-value represents the probability of encountering such differences (or even more substantial) in mean training times between the two groups, assuming there isn't a genuine distinction between them (null hypothesis being true). With a p-value of 0.0226, there is moderate evidence against the null hypothesis.\n",
    "\n",
    "In simpler terms, the p-value suggests that the observed difference in mean training times between employees who have left and those who have stayed could occur by chance, but the likelihood is moderate. This implies that there may be some actual difference in training times between the two groups, but it may not be substantial.\n",
    "\n",
    "Interpreting this outcome, we can conclude that there could be a difference in training times between employees who have left and those who have stayed. However, further analysis and consideration of domain knowledge are needed to determine the practical significance of this difference.\n",
    "\n",
    "Perhaps this occured by chance, and based on domain knowledge and intuition; Training Time affected more on their performance which then affected their EnvSatisfaction and JobSatisfaction as they are able to excel in their roles."
   ]
  },
  {
   "cell_type": "markdown",
   "id": "38d5737b",
   "metadata": {},
   "source": [
    "plt.figure(figsize=(10, 6))\n",
    "sns.boxplot(x='PerformanceRating', y='TrainingTimesLastYear', data=df)\n",
    "plt.title('TrainingTime vs PerformanceRating (Box Plot)')\n",
    "plt.show()"
   ]
  },
  {
   "cell_type": "markdown",
   "id": "5b43426c",
   "metadata": {},
   "source": [
    "#Levene test to check the difference in var between two groups\n",
    "\n",
    "#import scipy.stats as stats\n",
    "\n",
    "stats.levene(df['TrainingTimesLastYear'][df['PerformanceRating']=='3'],\n",
    "             df['TrainingTimesLastYear'][df['PerformanceRating']=='4'])\n"
   ]
  },
  {
   "cell_type": "markdown",
   "id": "45fe1a7a",
   "metadata": {},
   "source": [
    "Above attempt to analyze data failed, move onto the next"
   ]
  },
  {
   "cell_type": "markdown",
   "id": "ae1d2361",
   "metadata": {},
   "source": [
    "End of TrainingTimeLastYear EDA section"
   ]
  },
  {
   "cell_type": "markdown",
   "id": "a60df89f",
   "metadata": {},
   "source": [
    "#### 6. YearsAtCompany"
   ]
  },
  {
   "cell_type": "code",
   "execution_count": 40,
   "id": "c98e4c57",
   "metadata": {},
   "outputs": [
    {
     "data": {
      "text/html": [
       "<div>\n",
       "<style scoped>\n",
       "    .dataframe tbody tr th:only-of-type {\n",
       "        vertical-align: middle;\n",
       "    }\n",
       "\n",
       "    .dataframe tbody tr th {\n",
       "        vertical-align: top;\n",
       "    }\n",
       "\n",
       "    .dataframe thead th {\n",
       "        text-align: right;\n",
       "    }\n",
       "</style>\n",
       "<table border=\"1\" class=\"dataframe\">\n",
       "  <thead>\n",
       "    <tr style=\"text-align: right;\">\n",
       "      <th></th>\n",
       "      <th>Attrition</th>\n",
       "      <th>YearsAtCompany</th>\n",
       "    </tr>\n",
       "  </thead>\n",
       "  <tbody>\n",
       "    <tr>\n",
       "      <th>0</th>\n",
       "      <td>No</td>\n",
       "      <td>7.37</td>\n",
       "    </tr>\n",
       "    <tr>\n",
       "      <th>1</th>\n",
       "      <td>Yes</td>\n",
       "      <td>5.13</td>\n",
       "    </tr>\n",
       "  </tbody>\n",
       "</table>\n",
       "</div>"
      ],
      "text/plain": [
       "  Attrition  YearsAtCompany\n",
       "0        No            7.37\n",
       "1       Yes            5.13"
      ]
     },
     "execution_count": 40,
     "metadata": {},
     "output_type": "execute_result"
    }
   ],
   "source": [
    "#Numerical vs Categorical (Attrition)\n",
    "\n",
    "meanYears_Attrition = df.groupby('Attrition', as_index=False)['YearsAtCompany'].mean()\n",
    "meanYears_Attrition.round(2)"
   ]
  },
  {
   "cell_type": "code",
   "execution_count": 41,
   "id": "3f469636",
   "metadata": {},
   "outputs": [
    {
     "data": {
      "text/html": [
       "<div>\n",
       "<style scoped>\n",
       "    .dataframe tbody tr th:only-of-type {\n",
       "        vertical-align: middle;\n",
       "    }\n",
       "\n",
       "    .dataframe tbody tr th {\n",
       "        vertical-align: top;\n",
       "    }\n",
       "\n",
       "    .dataframe thead th {\n",
       "        text-align: right;\n",
       "    }\n",
       "</style>\n",
       "<table border=\"1\" class=\"dataframe\">\n",
       "  <thead>\n",
       "    <tr style=\"text-align: right;\">\n",
       "      <th></th>\n",
       "      <th>Attrition</th>\n",
       "      <th>YearsAtCompany</th>\n",
       "    </tr>\n",
       "  </thead>\n",
       "  <tbody>\n",
       "    <tr>\n",
       "      <th>0</th>\n",
       "      <td>No</td>\n",
       "      <td>6.0</td>\n",
       "    </tr>\n",
       "    <tr>\n",
       "      <th>1</th>\n",
       "      <td>Yes</td>\n",
       "      <td>3.0</td>\n",
       "    </tr>\n",
       "  </tbody>\n",
       "</table>\n",
       "</div>"
      ],
      "text/plain": [
       "  Attrition  YearsAtCompany\n",
       "0        No             6.0\n",
       "1       Yes             3.0"
      ]
     },
     "execution_count": 41,
     "metadata": {},
     "output_type": "execute_result"
    }
   ],
   "source": [
    "meanYears_Attrition = df.groupby('Attrition', as_index=False)['YearsAtCompany'].median()\n",
    "meanYears_Attrition.round(2)"
   ]
  },
  {
   "cell_type": "code",
   "execution_count": 42,
   "id": "f57cc633",
   "metadata": {},
   "outputs": [
    {
     "data": {
      "image/png": "[encoded data removed]",
      "text/plain": [
       "<Figure size 1000x600 with 1 Axes>"
      ]
     },
     "metadata": {},
     "output_type": "display_data"
    }
   ],
   "source": [
    "plt.figure(figsize=(10, 6))\n",
    "sns.boxplot(x='Attrition', y='YearsAtCompany', data=df)\n",
    "plt.title('YearsAtCompany vs Attrition (Box Plot)')\n",
    "plt.show()"
   ]
  },
  {
   "cell_type": "code",
   "execution_count": 43,
   "id": "395917c5",
   "metadata": {},
   "outputs": [
    {
     "data": {
      "text/plain": [
       "LeveneResult(statistic=2.7533975962582904, pvalue=0.09726160332756505)"
      ]
     },
     "execution_count": 43,
     "metadata": {},
     "output_type": "execute_result"
    }
   ],
   "source": [
    "# Levene test to check the difference in var between two groups\n",
    "\n",
    "#import scipy.stats as stats\n",
    "\n",
    "stats.levene(df['YearsAtCompany'][df['Attrition']=='Yes'],\n",
    "             df['YearsAtCompany'][df['Attrition']=='No'],\n",
    "             center='median')\n"
   ]
  },
  {
   "cell_type": "markdown",
   "id": "be8f4220",
   "metadata": {},
   "source": [
    "Above means that Var is equal for both group, p-value more than 0.05"
   ]
  },
  {
   "cell_type": "code",
   "execution_count": 44,
   "id": "0f73e873",
   "metadata": {},
   "outputs": [
    {
     "data": {
      "text/plain": [
       "Ttest_indResult(statistic=-5.1963086670254235, pvalue=2.3188716103863033e-07)"
      ]
     },
     "execution_count": 44,
     "metadata": {},
     "output_type": "execute_result"
    }
   ],
   "source": [
    "# null hypothesis = there is no significant difference in YearsAtCompany between employees who left and stayed in the company\n",
    "\n",
    "stats.ttest_ind(df['YearsAtCompany'][df['Attrition']=='Yes'],\n",
    "                df['YearsAtCompany'][df['Attrition']=='No'],\n",
    "                equal_var=True)"
   ]
  },
  {
   "cell_type": "markdown",
   "id": "688786e1",
   "metadata": {},
   "source": [
    "T-Test Result Explanation: YearsAtCompany Variable\n",
    "\n",
    "T-Test Statistic: The t-test statistic for the \"YearsAtCompany\" variable comparison is approximately -5.20. This statistic represents the extent of the difference in mean years at the company between employees who have left and those who have stayed.\n",
    "\n",
    "P-Value: The p-value associated with this t-test is approximately 2.32e-07. This small p-value indicates that the observed difference in mean years at the company is highly unlikely to occur by chance, assuming there's no actual difference between the two groups.\n",
    "\n",
    "In simpler terms, the low p-value provides strong evidence against the null hypothesis, suggesting a significant difference in the average years at the company for employees who left compared to those who stayed.\n",
    "\n",
    "Interpreting this outcome, we can conclude that there is a substantial difference in the average years at the company for employees who have left and those who have chosen to remain. This implies that the length of time an employee has spent at the company has an influence on their attrition decision."
   ]
  },
  {
   "cell_type": "markdown",
   "id": "78aaeea9",
   "metadata": {},
   "source": [
    "End of YearsAtCompany EDA section"
   ]
  },
  {
   "cell_type": "markdown",
   "id": "9db99c50",
   "metadata": {},
   "source": [
    "#### 7. YearsSinceLastPromotion"
   ]
  },
  {
   "cell_type": "code",
   "execution_count": 45,
   "id": "2db2cbea",
   "metadata": {},
   "outputs": [
    {
     "data": {
      "text/html": [
       "<div>\n",
       "<style scoped>\n",
       "    .dataframe tbody tr th:only-of-type {\n",
       "        vertical-align: middle;\n",
       "    }\n",
       "\n",
       "    .dataframe tbody tr th {\n",
       "        vertical-align: top;\n",
       "    }\n",
       "\n",
       "    .dataframe thead th {\n",
       "        text-align: right;\n",
       "    }\n",
       "</style>\n",
       "<table border=\"1\" class=\"dataframe\">\n",
       "  <thead>\n",
       "    <tr style=\"text-align: right;\">\n",
       "      <th></th>\n",
       "      <th>Attrition</th>\n",
       "      <th>YearsSinceLastPromotion</th>\n",
       "    </tr>\n",
       "  </thead>\n",
       "  <tbody>\n",
       "    <tr>\n",
       "      <th>0</th>\n",
       "      <td>No</td>\n",
       "      <td>2.23</td>\n",
       "    </tr>\n",
       "    <tr>\n",
       "      <th>1</th>\n",
       "      <td>Yes</td>\n",
       "      <td>1.95</td>\n",
       "    </tr>\n",
       "  </tbody>\n",
       "</table>\n",
       "</div>"
      ],
      "text/plain": [
       "  Attrition  YearsSinceLastPromotion\n",
       "0        No                     2.23\n",
       "1       Yes                     1.95"
      ]
     },
     "execution_count": 45,
     "metadata": {},
     "output_type": "execute_result"
    }
   ],
   "source": [
    "#Numerical vs Categorical (Attrition)\n",
    "\n",
    "meanPromot_Attrition = df.groupby('Attrition', as_index=False)['YearsSinceLastPromotion'].mean()\n",
    "meanPromot_Attrition.round(2)"
   ]
  },
  {
   "cell_type": "code",
   "execution_count": 46,
   "id": "04f7c6c0",
   "metadata": {},
   "outputs": [
    {
     "data": {
      "text/html": [
       "<div>\n",
       "<style scoped>\n",
       "    .dataframe tbody tr th:only-of-type {\n",
       "        vertical-align: middle;\n",
       "    }\n",
       "\n",
       "    .dataframe tbody tr th {\n",
       "        vertical-align: top;\n",
       "    }\n",
       "\n",
       "    .dataframe thead th {\n",
       "        text-align: right;\n",
       "    }\n",
       "</style>\n",
       "<table border=\"1\" class=\"dataframe\">\n",
       "  <thead>\n",
       "    <tr style=\"text-align: right;\">\n",
       "      <th></th>\n",
       "      <th>Attrition</th>\n",
       "      <th>YearsSinceLastPromotion</th>\n",
       "    </tr>\n",
       "  </thead>\n",
       "  <tbody>\n",
       "    <tr>\n",
       "      <th>0</th>\n",
       "      <td>No</td>\n",
       "      <td>1.0</td>\n",
       "    </tr>\n",
       "    <tr>\n",
       "      <th>1</th>\n",
       "      <td>Yes</td>\n",
       "      <td>1.0</td>\n",
       "    </tr>\n",
       "  </tbody>\n",
       "</table>\n",
       "</div>"
      ],
      "text/plain": [
       "  Attrition  YearsSinceLastPromotion\n",
       "0        No                      1.0\n",
       "1       Yes                      1.0"
      ]
     },
     "execution_count": 46,
     "metadata": {},
     "output_type": "execute_result"
    }
   ],
   "source": [
    "meanPromot_Attrition = df.groupby('Attrition', as_index=False)['YearsSinceLastPromotion'].median()\n",
    "meanPromot_Attrition.round(2)"
   ]
  },
  {
   "cell_type": "code",
   "execution_count": 47,
   "id": "5b7665ab",
   "metadata": {},
   "outputs": [
    {
     "data": {
      "image/png": "[encoded data removed]",
      "text/plain": [
       "<Figure size 1000x600 with 1 Axes>"
      ]
     },
     "metadata": {},
     "output_type": "display_data"
    }
   ],
   "source": [
    "plt.figure(figsize=(10, 6))\n",
    "sns.boxplot(x='Attrition', y='YearsSinceLastPromotion', data=df)\n",
    "plt.title('YearsSinceLastPromotion vs Attrition (Box Plot)')\n",
    "plt.show()"
   ]
  },
  {
   "cell_type": "code",
   "execution_count": 48,
   "id": "2fca12d7",
   "metadata": {},
   "outputs": [
    {
     "data": {
      "text/plain": [
       "LeveneResult(statistic=0.39377468332250853, pvalue=0.5304195027928351)"
      ]
     },
     "execution_count": 48,
     "metadata": {},
     "output_type": "execute_result"
    }
   ],
   "source": [
    "# Levene test to check the difference in var between two groups\n",
    "\n",
    "#import scipy.stats as stats\n",
    "\n",
    "stats.levene(df['YearsSinceLastPromotion'][df['Attrition']=='Yes'],\n",
    "             df['YearsSinceLastPromotion'][df['Attrition']=='No'],\n",
    "             center='median')\n"
   ]
  },
  {
   "cell_type": "markdown",
   "id": "d84c51c6",
   "metadata": {},
   "source": [
    "Above means that Var is equal for both group, p-value more than 0.05"
   ]
  },
  {
   "cell_type": "code",
   "execution_count": 49,
   "id": "e93cf392",
   "metadata": {},
   "outputs": [
    {
     "data": {
      "text/plain": [
       "Ttest_indResult(statistic=-1.2657876620135298, pvalue=0.2057899591624936)"
      ]
     },
     "execution_count": 49,
     "metadata": {},
     "output_type": "execute_result"
    }
   ],
   "source": [
    "# null hypothesis = there is no significant difference in YearsSinceLastPromotion between employees who left and stayed in the company\n",
    "\n",
    "stats.ttest_ind(df['YearsSinceLastPromotion'][df['Attrition']=='Yes'],\n",
    "                df['YearsSinceLastPromotion'][df['Attrition']=='No'],\n",
    "                equal_var=True)"
   ]
  },
  {
   "cell_type": "markdown",
   "id": "bf0e8a9d",
   "metadata": {},
   "source": [
    "T-Test Result Explanation: YearsSinceLastPromotion Variable\n",
    "\n",
    "T-Test Statistic: The t-test statistic for the \"YearsSinceLastPromotion\" variable comparison is approximately -1.27. This statistic indicates the extent of the difference in mean years since the last promotion between employees who have left and those who have stayed.\n",
    "\n",
    "P-Value: The p-value associated with this t-test is approximately 0.21. This p-value suggests that the observed difference in mean years since the last promotion is not statistically significant. It indicates that there's a reasonable likelihood of observing such differences between the two groups by chance, assuming there's no genuine difference.\n",
    "\n",
    "In simpler terms, the p-value is relatively high, indicating that the difference in mean years since the last promotion is likely due to random variation rather than a true effect.\n",
    "\n",
    "Interpreting this outcome, we do not have strong evidence to conclude that there is a significant difference in the average years since the last promotion between employees who left and those who stayed."
   ]
  },
  {
   "cell_type": "markdown",
   "id": "d25dbe35",
   "metadata": {},
   "source": [
    "End of YearsSinceLastPromotion EDA section"
   ]
  },
  {
   "cell_type": "markdown",
   "id": "7deac2b7",
   "metadata": {},
   "source": [
    "End of Numerical vs Categorical EDA"
   ]
  },
  {
   "cell_type": "markdown",
   "id": "63cf831f",
   "metadata": {},
   "source": [
    "### Categorical vs Categorical EDA"
   ]
  },
  {
   "cell_type": "markdown",
   "id": "5e095c2f",
   "metadata": {},
   "source": [
    "Categorical Variables > EDA result\n",
    "1. BusinessTravel\n",
    "2. JobSatisfaction\n",
    "3. Department\n",
    "4. Education\n",
    "5. EducationField\n",
    "6. EnvSatisfaction\n",
    "7. Gender\n",
    "8. JobRole\n",
    "9. MaritalStatus\n",
    "10. PerformanceRating\n",
    "11. OverTime"
   ]
  },
  {
   "cell_type": "code",
   "execution_count": 50,
   "id": "ae48c22a",
   "metadata": {},
   "outputs": [
    {
     "data": {
      "text/html": [
       "<div>\n",
       "<style scoped>\n",
       "    .dataframe tbody tr th:only-of-type {\n",
       "        vertical-align: middle;\n",
       "    }\n",
       "\n",
       "    .dataframe tbody tr th {\n",
       "        vertical-align: top;\n",
       "    }\n",
       "\n",
       "    .dataframe thead th {\n",
       "        text-align: right;\n",
       "    }\n",
       "</style>\n",
       "<table border=\"1\" class=\"dataframe\">\n",
       "  <thead>\n",
       "    <tr style=\"text-align: right;\">\n",
       "      <th></th>\n",
       "      <th>Age</th>\n",
       "      <th>BusinessTravel</th>\n",
       "      <th>MonthlyIncome</th>\n",
       "      <th>JobSatisfaction</th>\n",
       "      <th>Bonus</th>\n",
       "      <th>Department</th>\n",
       "      <th>DistanceFromHome</th>\n",
       "      <th>Education</th>\n",
       "      <th>EducationField</th>\n",
       "      <th>EnvSatisfaction</th>\n",
       "      <th>Gender</th>\n",
       "      <th>JobRole</th>\n",
       "      <th>MaritalStatus</th>\n",
       "      <th>PerformanceRating</th>\n",
       "      <th>TrainingTimesLastYear</th>\n",
       "      <th>YearsAtCompany</th>\n",
       "      <th>YearsSinceLastPromotion</th>\n",
       "      <th>OverTime</th>\n",
       "      <th>Attrition</th>\n",
       "    </tr>\n",
       "    <tr>\n",
       "      <th>EmployeeID</th>\n",
       "      <th></th>\n",
       "      <th></th>\n",
       "      <th></th>\n",
       "      <th></th>\n",
       "      <th></th>\n",
       "      <th></th>\n",
       "      <th></th>\n",
       "      <th></th>\n",
       "      <th></th>\n",
       "      <th></th>\n",
       "      <th></th>\n",
       "      <th></th>\n",
       "      <th></th>\n",
       "      <th></th>\n",
       "      <th></th>\n",
       "      <th></th>\n",
       "      <th></th>\n",
       "      <th></th>\n",
       "      <th></th>\n",
       "    </tr>\n",
       "  </thead>\n",
       "  <tbody>\n",
       "    <tr>\n",
       "      <th>1</th>\n",
       "      <td>41</td>\n",
       "      <td>Travel_Rarely</td>\n",
       "      <td>5993</td>\n",
       "      <td>4</td>\n",
       "      <td>17979</td>\n",
       "      <td>Sales</td>\n",
       "      <td>1</td>\n",
       "      <td>2</td>\n",
       "      <td>Life Sciences</td>\n",
       "      <td>2</td>\n",
       "      <td>Female</td>\n",
       "      <td>Sales Executive</td>\n",
       "      <td>Single</td>\n",
       "      <td>3</td>\n",
       "      <td>0</td>\n",
       "      <td>6</td>\n",
       "      <td>0</td>\n",
       "      <td>Yes</td>\n",
       "      <td>Yes</td>\n",
       "    </tr>\n",
       "    <tr>\n",
       "      <th>2</th>\n",
       "      <td>49</td>\n",
       "      <td>Travel_Frequently</td>\n",
       "      <td>5130</td>\n",
       "      <td>2</td>\n",
       "      <td>20520</td>\n",
       "      <td>Research &amp; Development</td>\n",
       "      <td>8</td>\n",
       "      <td>1</td>\n",
       "      <td>Life Sciences</td>\n",
       "      <td>3</td>\n",
       "      <td>Male</td>\n",
       "      <td>Research Scientist</td>\n",
       "      <td>Married</td>\n",
       "      <td>4</td>\n",
       "      <td>3</td>\n",
       "      <td>10</td>\n",
       "      <td>1</td>\n",
       "      <td>No</td>\n",
       "      <td>No</td>\n",
       "    </tr>\n",
       "    <tr>\n",
       "      <th>4</th>\n",
       "      <td>37</td>\n",
       "      <td>Travel_Rarely</td>\n",
       "      <td>2090</td>\n",
       "      <td>3</td>\n",
       "      <td>6270</td>\n",
       "      <td>Research &amp; Development</td>\n",
       "      <td>2</td>\n",
       "      <td>2</td>\n",
       "      <td>Other</td>\n",
       "      <td>4</td>\n",
       "      <td>Male</td>\n",
       "      <td>Laboratory Technician</td>\n",
       "      <td>Single</td>\n",
       "      <td>3</td>\n",
       "      <td>3</td>\n",
       "      <td>0</td>\n",
       "      <td>0</td>\n",
       "      <td>Yes</td>\n",
       "      <td>Yes</td>\n",
       "    </tr>\n",
       "    <tr>\n",
       "      <th>5</th>\n",
       "      <td>33</td>\n",
       "      <td>Travel_Frequently</td>\n",
       "      <td>2909</td>\n",
       "      <td>3</td>\n",
       "      <td>8727</td>\n",
       "      <td>Research &amp; Development</td>\n",
       "      <td>3</td>\n",
       "      <td>4</td>\n",
       "      <td>Life Sciences</td>\n",
       "      <td>4</td>\n",
       "      <td>Female</td>\n",
       "      <td>Research Scientist</td>\n",
       "      <td>Married</td>\n",
       "      <td>3</td>\n",
       "      <td>3</td>\n",
       "      <td>8</td>\n",
       "      <td>3</td>\n",
       "      <td>Yes</td>\n",
       "      <td>No</td>\n",
       "    </tr>\n",
       "    <tr>\n",
       "      <th>7</th>\n",
       "      <td>27</td>\n",
       "      <td>Travel_Rarely</td>\n",
       "      <td>3468</td>\n",
       "      <td>2</td>\n",
       "      <td>10404</td>\n",
       "      <td>Research &amp; Development</td>\n",
       "      <td>2</td>\n",
       "      <td>1</td>\n",
       "      <td>Medical</td>\n",
       "      <td>1</td>\n",
       "      <td>Male</td>\n",
       "      <td>Laboratory Technician</td>\n",
       "      <td>Married</td>\n",
       "      <td>3</td>\n",
       "      <td>3</td>\n",
       "      <td>2</td>\n",
       "      <td>2</td>\n",
       "      <td>No</td>\n",
       "      <td>No</td>\n",
       "    </tr>\n",
       "  </tbody>\n",
       "</table>\n",
       "</div>"
      ],
      "text/plain": [
       "            Age     BusinessTravel  MonthlyIncome  JobSatisfaction  Bonus  \\\n",
       "EmployeeID                                                                  \n",
       "1            41      Travel_Rarely           5993                4  17979   \n",
       "2            49  Travel_Frequently           5130                2  20520   \n",
       "4            37      Travel_Rarely           2090                3   6270   \n",
       "5            33  Travel_Frequently           2909                3   8727   \n",
       "7            27      Travel_Rarely           3468                2  10404   \n",
       "\n",
       "                        Department  DistanceFromHome  Education  \\\n",
       "EmployeeID                                                        \n",
       "1                            Sales                 1          2   \n",
       "2           Research & Development                 8          1   \n",
       "4           Research & Development                 2          2   \n",
       "5           Research & Development                 3          4   \n",
       "7           Research & Development                 2          1   \n",
       "\n",
       "           EducationField  EnvSatisfaction  Gender                JobRole  \\\n",
       "EmployeeID                                                                  \n",
       "1           Life Sciences                2  Female        Sales Executive   \n",
       "2           Life Sciences                3    Male     Research Scientist   \n",
       "4                   Other                4    Male  Laboratory Technician   \n",
       "5           Life Sciences                4  Female     Research Scientist   \n",
       "7                 Medical                1    Male  Laboratory Technician   \n",
       "\n",
       "           MaritalStatus  PerformanceRating  TrainingTimesLastYear  \\\n",
       "EmployeeID                                                           \n",
       "1                 Single                  3                      0   \n",
       "2                Married                  4                      3   \n",
       "4                 Single                  3                      3   \n",
       "5                Married                  3                      3   \n",
       "7                Married                  3                      3   \n",
       "\n",
       "            YearsAtCompany  YearsSinceLastPromotion OverTime Attrition  \n",
       "EmployeeID                                                              \n",
       "1                        6                        0      Yes       Yes  \n",
       "2                       10                        1       No        No  \n",
       "4                        0                        0      Yes       Yes  \n",
       "5                        8                        3      Yes        No  \n",
       "7                        2                        2       No        No  "
      ]
     },
     "execution_count": 50,
     "metadata": {},
     "output_type": "execute_result"
    }
   ],
   "source": [
    "import pandas as pd\n",
    "from scipy.stats import chi2_contingency\n",
    "\n",
    "df.head()"
   ]
  },
  {
   "cell_type": "markdown",
   "id": "f5f637f4",
   "metadata": {},
   "source": [
    "#### 1. BusinessTravel"
   ]
  },
  {
   "cell_type": "code",
   "execution_count": 51,
   "id": "51c08145",
   "metadata": {},
   "outputs": [
    {
     "data": {
      "text/html": [
       "<div>\n",
       "<style scoped>\n",
       "    .dataframe tbody tr th:only-of-type {\n",
       "        vertical-align: middle;\n",
       "    }\n",
       "\n",
       "    .dataframe tbody tr th {\n",
       "        vertical-align: top;\n",
       "    }\n",
       "\n",
       "    .dataframe thead th {\n",
       "        text-align: right;\n",
       "    }\n",
       "</style>\n",
       "<table border=\"1\" class=\"dataframe\">\n",
       "  <thead>\n",
       "    <tr style=\"text-align: right;\">\n",
       "      <th>Attrition</th>\n",
       "      <th>No</th>\n",
       "      <th>Yes</th>\n",
       "    </tr>\n",
       "    <tr>\n",
       "      <th>BusinessTravel</th>\n",
       "      <th></th>\n",
       "      <th></th>\n",
       "    </tr>\n",
       "  </thead>\n",
       "  <tbody>\n",
       "    <tr>\n",
       "      <th>Non-Travel</th>\n",
       "      <td>138</td>\n",
       "      <td>12</td>\n",
       "    </tr>\n",
       "    <tr>\n",
       "      <th>Travel_Frequently</th>\n",
       "      <td>208</td>\n",
       "      <td>69</td>\n",
       "    </tr>\n",
       "    <tr>\n",
       "      <th>Travel_Rarely</th>\n",
       "      <td>887</td>\n",
       "      <td>156</td>\n",
       "    </tr>\n",
       "  </tbody>\n",
       "</table>\n",
       "</div>"
      ],
      "text/plain": [
       "Attrition           No  Yes\n",
       "BusinessTravel             \n",
       "Non-Travel         138   12\n",
       "Travel_Frequently  208   69\n",
       "Travel_Rarely      887  156"
      ]
     },
     "execution_count": 51,
     "metadata": {},
     "output_type": "execute_result"
    }
   ],
   "source": [
    "#crosstabulation\n",
    "crossTab = pd.crosstab(index=df['BusinessTravel'],\n",
    "                      columns=df['Attrition'])\n",
    "crossTab"
   ]
  },
  {
   "cell_type": "code",
   "execution_count": 52,
   "id": "e8a40f2f",
   "metadata": {},
   "outputs": [
    {
     "name": "stdout",
     "output_type": "stream",
     "text": [
      "Chi-Squared Value: 24.182413685655174\n",
      "P-Value: 5.608614476449931e-06\n"
     ]
    }
   ],
   "source": [
    "# Perform the chi-squared test\n",
    "chi2, p, dof, expected = chi2_contingency(crossTab)\n",
    "\n",
    "# Print the results\n",
    "print(\"Chi-Squared Value:\", chi2)\n",
    "print(\"P-Value:\", p)"
   ]
  },
  {
   "cell_type": "markdown",
   "id": "26ab128c",
   "metadata": {},
   "source": [
    "Chi-Squared Test Result Explanation: BusinessTravel Variable vs Attrition\n",
    "\n",
    "Chi-Squared Value: The chi-squared value for the comparison between \"BusinessTravel\" and \"Attrition\" is approximately 24.18.\n",
    "\n",
    "P-Value: The p-value associated with the chi-squared test is approximately 5.61e-06.\n",
    "\n",
    "In simpler terms, the p-value indicates that there's a highly statistically significant association between business travel frequency and attrition. The small p-value suggests that the observed relationship between these two variables is unlikely to have occurred by random chance alone.\n",
    "\n",
    "Interpreting this outcome, we can conclude that the observed association between business travel frequency and attrition is statistically significant. This implies that the two variables are not independent and that business travel frequency might play a role in influencing attrition within the company."
   ]
  },
  {
   "cell_type": "markdown",
   "id": "c7cfb5ad",
   "metadata": {},
   "source": [
    "End of BusinessTravel EDA section"
   ]
  },
  {
   "cell_type": "markdown",
   "id": "16c9226f",
   "metadata": {},
   "source": [
    "#### 2. JobSatisfaction"
   ]
  },
  {
   "cell_type": "code",
   "execution_count": 53,
   "id": "935bcf40",
   "metadata": {},
   "outputs": [
    {
     "data": {
      "text/html": [
       "<div>\n",
       "<style scoped>\n",
       "    .dataframe tbody tr th:only-of-type {\n",
       "        vertical-align: middle;\n",
       "    }\n",
       "\n",
       "    .dataframe tbody tr th {\n",
       "        vertical-align: top;\n",
       "    }\n",
       "\n",
       "    .dataframe thead th {\n",
       "        text-align: right;\n",
       "    }\n",
       "</style>\n",
       "<table border=\"1\" class=\"dataframe\">\n",
       "  <thead>\n",
       "    <tr style=\"text-align: right;\">\n",
       "      <th>Attrition</th>\n",
       "      <th>No</th>\n",
       "      <th>Yes</th>\n",
       "    </tr>\n",
       "    <tr>\n",
       "      <th>JobSatisfaction</th>\n",
       "      <th></th>\n",
       "      <th></th>\n",
       "    </tr>\n",
       "  </thead>\n",
       "  <tbody>\n",
       "    <tr>\n",
       "      <th>1</th>\n",
       "      <td>223</td>\n",
       "      <td>66</td>\n",
       "    </tr>\n",
       "    <tr>\n",
       "      <th>2</th>\n",
       "      <td>234</td>\n",
       "      <td>46</td>\n",
       "    </tr>\n",
       "    <tr>\n",
       "      <th>3</th>\n",
       "      <td>369</td>\n",
       "      <td>73</td>\n",
       "    </tr>\n",
       "    <tr>\n",
       "      <th>4</th>\n",
       "      <td>407</td>\n",
       "      <td>52</td>\n",
       "    </tr>\n",
       "  </tbody>\n",
       "</table>\n",
       "</div>"
      ],
      "text/plain": [
       "Attrition         No  Yes\n",
       "JobSatisfaction          \n",
       "1                223   66\n",
       "2                234   46\n",
       "3                369   73\n",
       "4                407   52"
      ]
     },
     "execution_count": 53,
     "metadata": {},
     "output_type": "execute_result"
    }
   ],
   "source": [
    "#crosstabulation\n",
    "crossTab2 = pd.crosstab(index=df['JobSatisfaction'],\n",
    "                      columns=df['Attrition'])\n",
    "crossTab2"
   ]
  },
  {
   "cell_type": "code",
   "execution_count": 54,
   "id": "f1f0ef10",
   "metadata": {},
   "outputs": [
    {
     "name": "stdout",
     "output_type": "stream",
     "text": [
      "Chi-Squared Value: 17.505077010348\n",
      "P-Value: 0.0005563004510387556\n"
     ]
    }
   ],
   "source": [
    "# Perform the chi-squared test\n",
    "chi2, p, dof, expected = chi2_contingency(crossTab2)\n",
    "\n",
    "# Print the results\n",
    "print(\"Chi-Squared Value:\", chi2)\n",
    "print(\"P-Value:\", p)"
   ]
  },
  {
   "cell_type": "markdown",
   "id": "84fd770b",
   "metadata": {},
   "source": [
    "Chi-Squared Test Result Explanation: JobSatisfaction Variable\n",
    "\n",
    "Chi-Squared Value: The chi-squared value for the \"JobSatisfaction\" variable comparison is approximately 17.51. This value indicates the extent of the association between the JobSatisfaction levels and the attrition status of employees.\n",
    "\n",
    "P-Value: The p-value associated with this chi-squared test is approximately 0.00056. This p-value suggests that the likelihood of observing such a significant association between JobSatisfaction levels and attrition status by random chance is very low.\n",
    "\n",
    "Interpreting this outcome, we can conclude that there is a statistically significant relationship between JobSatisfaction levels and employee attrition. The small p-value indicates that the observed association is unlikely to have occurred due to chance, which suggests that JobSatisfaction could be a meaningful factor affecting attrition among employees."
   ]
  },
  {
   "cell_type": "markdown",
   "id": "a598fb42",
   "metadata": {},
   "source": [
    "End of JobSatisfaction EDA section"
   ]
  },
  {
   "cell_type": "markdown",
   "id": "c7806c1b",
   "metadata": {},
   "source": [
    "#### 3. Department"
   ]
  },
  {
   "cell_type": "code",
   "execution_count": 55,
   "id": "25c1b095",
   "metadata": {},
   "outputs": [
    {
     "data": {
      "text/html": [
       "<div>\n",
       "<style scoped>\n",
       "    .dataframe tbody tr th:only-of-type {\n",
       "        vertical-align: middle;\n",
       "    }\n",
       "\n",
       "    .dataframe tbody tr th {\n",
       "        vertical-align: top;\n",
       "    }\n",
       "\n",
       "    .dataframe thead th {\n",
       "        text-align: right;\n",
       "    }\n",
       "</style>\n",
       "<table border=\"1\" class=\"dataframe\">\n",
       "  <thead>\n",
       "    <tr style=\"text-align: right;\">\n",
       "      <th>Attrition</th>\n",
       "      <th>No</th>\n",
       "      <th>Yes</th>\n",
       "    </tr>\n",
       "    <tr>\n",
       "      <th>Department</th>\n",
       "      <th></th>\n",
       "      <th></th>\n",
       "    </tr>\n",
       "  </thead>\n",
       "  <tbody>\n",
       "    <tr>\n",
       "      <th>Human Resources</th>\n",
       "      <td>51</td>\n",
       "      <td>12</td>\n",
       "    </tr>\n",
       "    <tr>\n",
       "      <th>Research &amp; Development</th>\n",
       "      <td>828</td>\n",
       "      <td>133</td>\n",
       "    </tr>\n",
       "    <tr>\n",
       "      <th>Sales</th>\n",
       "      <td>354</td>\n",
       "      <td>92</td>\n",
       "    </tr>\n",
       "  </tbody>\n",
       "</table>\n",
       "</div>"
      ],
      "text/plain": [
       "Attrition                No  Yes\n",
       "Department                      \n",
       "Human Resources          51   12\n",
       "Research & Development  828  133\n",
       "Sales                   354   92"
      ]
     },
     "execution_count": 55,
     "metadata": {},
     "output_type": "execute_result"
    }
   ],
   "source": [
    "#crosstabulation\n",
    "crossTab3 = pd.crosstab(index=df['Department'],\n",
    "                      columns=df['Attrition'])\n",
    "crossTab3"
   ]
  },
  {
   "cell_type": "code",
   "execution_count": 56,
   "id": "1603ad94",
   "metadata": {},
   "outputs": [
    {
     "name": "stdout",
     "output_type": "stream",
     "text": [
      "Chi-Squared Value: 10.79600732241067\n",
      "P-Value: 0.004525606574479633\n"
     ]
    }
   ],
   "source": [
    "# Perform the chi-squared test\n",
    "chi2, p, dof, expected = chi2_contingency(crossTab3)\n",
    "\n",
    "# Print the results\n",
    "print(\"Chi-Squared Value:\", chi2)\n",
    "print(\"P-Value:\", p)"
   ]
  },
  {
   "cell_type": "markdown",
   "id": "307ad66a",
   "metadata": {},
   "source": [
    "Chi-Squared Value: The calculated chi-squared statistic for the comparison between the \"Department\" variable and the \"Attrition\" variable is approximately 10.80. This value quantifies the degree of association between these two categorical variables.\n",
    "\n",
    "P-Value: The associated p-value for this chi-squared test is approximately 0.0045. This small p-value indicates that the observed differences in attrition proportions across different departments are unlikely to have occurred by random chance alone.\n",
    "\n",
    "In simpler terms, the low p-value suggests that there is a statistically significant relationship between an employee's department and their likelihood of attrition. The differences in attrition rates across departments are not likely due to random variation.\n",
    "\n",
    "Interpreting this outcome, we can conclude that there is evidence to suggest that the department an employee works in may influence their propensity to leave the company. The specific implications and practical significance of this relationship will need further investigation and consideration within the context of the organization."
   ]
  },
  {
   "cell_type": "markdown",
   "id": "19bad2d6",
   "metadata": {},
   "source": [
    "End of Department EDA section"
   ]
  },
  {
   "cell_type": "markdown",
   "id": "4b3a4485",
   "metadata": {},
   "source": [
    "#### 4. Education"
   ]
  },
  {
   "cell_type": "code",
   "execution_count": 57,
   "id": "e13d0978",
   "metadata": {},
   "outputs": [
    {
     "data": {
      "text/html": [
       "<div>\n",
       "<style scoped>\n",
       "    .dataframe tbody tr th:only-of-type {\n",
       "        vertical-align: middle;\n",
       "    }\n",
       "\n",
       "    .dataframe tbody tr th {\n",
       "        vertical-align: top;\n",
       "    }\n",
       "\n",
       "    .dataframe thead th {\n",
       "        text-align: right;\n",
       "    }\n",
       "</style>\n",
       "<table border=\"1\" class=\"dataframe\">\n",
       "  <thead>\n",
       "    <tr style=\"text-align: right;\">\n",
       "      <th>Attrition</th>\n",
       "      <th>No</th>\n",
       "      <th>Yes</th>\n",
       "    </tr>\n",
       "    <tr>\n",
       "      <th>Education</th>\n",
       "      <th></th>\n",
       "      <th></th>\n",
       "    </tr>\n",
       "  </thead>\n",
       "  <tbody>\n",
       "    <tr>\n",
       "      <th>1</th>\n",
       "      <td>139</td>\n",
       "      <td>31</td>\n",
       "    </tr>\n",
       "    <tr>\n",
       "      <th>2</th>\n",
       "      <td>238</td>\n",
       "      <td>44</td>\n",
       "    </tr>\n",
       "    <tr>\n",
       "      <th>3</th>\n",
       "      <td>473</td>\n",
       "      <td>99</td>\n",
       "    </tr>\n",
       "    <tr>\n",
       "      <th>4</th>\n",
       "      <td>340</td>\n",
       "      <td>58</td>\n",
       "    </tr>\n",
       "    <tr>\n",
       "      <th>5</th>\n",
       "      <td>43</td>\n",
       "      <td>5</td>\n",
       "    </tr>\n",
       "  </tbody>\n",
       "</table>\n",
       "</div>"
      ],
      "text/plain": [
       "Attrition   No  Yes\n",
       "Education          \n",
       "1          139   31\n",
       "2          238   44\n",
       "3          473   99\n",
       "4          340   58\n",
       "5           43    5"
      ]
     },
     "execution_count": 57,
     "metadata": {},
     "output_type": "execute_result"
    }
   ],
   "source": [
    "#crosstabulation\n",
    "crossTab4 = pd.crosstab(index=df['Education'],\n",
    "                      columns=df['Attrition'])\n",
    "crossTab4"
   ]
  },
  {
   "cell_type": "code",
   "execution_count": 58,
   "id": "8f21e7c4",
   "metadata": {},
   "outputs": [
    {
     "name": "stdout",
     "output_type": "stream",
     "text": [
      "Chi-Squared Value: 3.0739613982367193\n",
      "P-Value: 0.5455253376565949\n"
     ]
    }
   ],
   "source": [
    "# Perform the chi-squared test\n",
    "chi2, p, dof, expected = chi2_contingency(crossTab4)\n",
    "\n",
    "# Print the results\n",
    "print(\"Chi-Squared Value:\", chi2)\n",
    "print(\"P-Value:\", p)"
   ]
  },
  {
   "cell_type": "markdown",
   "id": "6548ed0d",
   "metadata": {},
   "source": [
    "Chi-Squared Value: The computed chi-squared statistic for the comparison between the \"Education\" variable and the \"Attrition\" variable is approximately 3.07. This statistic gauges the degree of association between these categorical variables.\n",
    "\n",
    "P-Value: The associated p-value for this chi-squared test is approximately 0.546. This relatively large p-value indicates that the observed differences in attrition proportions across different education levels are reasonably likely to have arisen from random chance alone.\n",
    "\n",
    "In simpler terms, the higher p-value suggests that there isn't strong evidence to conclude a significant relationship between an employee's education level and their likelihood of attrition. The differences in attrition rates across education levels are not likely to be beyond what we would expect from random variation.\n",
    "\n",
    "Interpreting this outcome, we fail to reject the null hypothesis. This implies that there is no compelling evidence to support the claim that education level significantly affects attrition in the context of this dataset."
   ]
  },
  {
   "cell_type": "markdown",
   "id": "3cf99b67",
   "metadata": {},
   "source": [
    "End of Education EDA section"
   ]
  },
  {
   "cell_type": "markdown",
   "id": "0a928ce3",
   "metadata": {},
   "source": [
    "#### 5. EducationField"
   ]
  },
  {
   "cell_type": "code",
   "execution_count": 59,
   "id": "d0fbdf36",
   "metadata": {},
   "outputs": [
    {
     "data": {
      "text/html": [
       "<div>\n",
       "<style scoped>\n",
       "    .dataframe tbody tr th:only-of-type {\n",
       "        vertical-align: middle;\n",
       "    }\n",
       "\n",
       "    .dataframe tbody tr th {\n",
       "        vertical-align: top;\n",
       "    }\n",
       "\n",
       "    .dataframe thead th {\n",
       "        text-align: right;\n",
       "    }\n",
       "</style>\n",
       "<table border=\"1\" class=\"dataframe\">\n",
       "  <thead>\n",
       "    <tr style=\"text-align: right;\">\n",
       "      <th>Attrition</th>\n",
       "      <th>No</th>\n",
       "      <th>Yes</th>\n",
       "    </tr>\n",
       "    <tr>\n",
       "      <th>EducationField</th>\n",
       "      <th></th>\n",
       "      <th></th>\n",
       "    </tr>\n",
       "  </thead>\n",
       "  <tbody>\n",
       "    <tr>\n",
       "      <th>Human Resources</th>\n",
       "      <td>20</td>\n",
       "      <td>7</td>\n",
       "    </tr>\n",
       "    <tr>\n",
       "      <th>Life Sciences</th>\n",
       "      <td>517</td>\n",
       "      <td>89</td>\n",
       "    </tr>\n",
       "    <tr>\n",
       "      <th>Marketing</th>\n",
       "      <td>124</td>\n",
       "      <td>35</td>\n",
       "    </tr>\n",
       "    <tr>\n",
       "      <th>Medical</th>\n",
       "      <td>401</td>\n",
       "      <td>63</td>\n",
       "    </tr>\n",
       "    <tr>\n",
       "      <th>Other</th>\n",
       "      <td>71</td>\n",
       "      <td>11</td>\n",
       "    </tr>\n",
       "    <tr>\n",
       "      <th>Technical Degree</th>\n",
       "      <td>100</td>\n",
       "      <td>32</td>\n",
       "    </tr>\n",
       "  </tbody>\n",
       "</table>\n",
       "</div>"
      ],
      "text/plain": [
       "Attrition          No  Yes\n",
       "EducationField            \n",
       "Human Resources    20    7\n",
       "Life Sciences     517   89\n",
       "Marketing         124   35\n",
       "Medical           401   63\n",
       "Other              71   11\n",
       "Technical Degree  100   32"
      ]
     },
     "execution_count": 59,
     "metadata": {},
     "output_type": "execute_result"
    }
   ],
   "source": [
    "#crosstabulation\n",
    "crossTab5 = pd.crosstab(index=df['EducationField'],\n",
    "                      columns=df['Attrition'])\n",
    "crossTab5"
   ]
  },
  {
   "cell_type": "code",
   "execution_count": 60,
   "id": "ecfc0f75",
   "metadata": {},
   "outputs": [
    {
     "name": "stdout",
     "output_type": "stream",
     "text": [
      "Chi-Squared Value: 16.024674119585427\n",
      "P-Value: 0.006773980139025212\n"
     ]
    }
   ],
   "source": [
    "# Perform the chi-squared test\n",
    "chi2, p, dof, expected = chi2_contingency(crossTab5)\n",
    "\n",
    "# Print the results\n",
    "print(\"Chi-Squared Value:\", chi2)\n",
    "print(\"P-Value:\", p)"
   ]
  },
  {
   "cell_type": "markdown",
   "id": "1d195875",
   "metadata": {},
   "source": [
    "Chi-Squared Value: The computed chi-squared statistic for the comparison between the \"EducationField\" variable and the \"Attrition\" variable is approximately 16.02. This statistic quantifies the strength of the association between these categorical variables.\n",
    "\n",
    "P-Value: The associated p-value for this chi-squared test is approximately 0.007. This p-value is below the commonly used significance level of 0.05, indicating that the observed differences in attrition proportions across different education fields are unlikely to have occurred due to random chance.\n",
    "\n",
    "In simpler terms, the low p-value suggests that there is evidence to believe that education field might play a role in influencing attrition rates among employees.\n",
    "\n",
    "Interpreting this outcome, we can reject the null hypothesis. This suggests that education field could be a significant factor affecting attrition rates among employees. The data provides evidence that different education fields may have different attrition patterns."
   ]
  },
  {
   "cell_type": "markdown",
   "id": "c81d07e4",
   "metadata": {},
   "source": [
    "End of EducationField EDA section"
   ]
  },
  {
   "cell_type": "markdown",
   "id": "6b95116d",
   "metadata": {},
   "source": [
    "#### 6. EnvSatisfaction"
   ]
  },
  {
   "cell_type": "code",
   "execution_count": 61,
   "id": "9b489473",
   "metadata": {},
   "outputs": [
    {
     "data": {
      "text/html": [
       "<div>\n",
       "<style scoped>\n",
       "    .dataframe tbody tr th:only-of-type {\n",
       "        vertical-align: middle;\n",
       "    }\n",
       "\n",
       "    .dataframe tbody tr th {\n",
       "        vertical-align: top;\n",
       "    }\n",
       "\n",
       "    .dataframe thead th {\n",
       "        text-align: right;\n",
       "    }\n",
       "</style>\n",
       "<table border=\"1\" class=\"dataframe\">\n",
       "  <thead>\n",
       "    <tr style=\"text-align: right;\">\n",
       "      <th>Attrition</th>\n",
       "      <th>No</th>\n",
       "      <th>Yes</th>\n",
       "    </tr>\n",
       "    <tr>\n",
       "      <th>EnvSatisfaction</th>\n",
       "      <th></th>\n",
       "      <th></th>\n",
       "    </tr>\n",
       "  </thead>\n",
       "  <tbody>\n",
       "    <tr>\n",
       "      <th>1</th>\n",
       "      <td>212</td>\n",
       "      <td>72</td>\n",
       "    </tr>\n",
       "    <tr>\n",
       "      <th>2</th>\n",
       "      <td>244</td>\n",
       "      <td>43</td>\n",
       "    </tr>\n",
       "    <tr>\n",
       "      <th>3</th>\n",
       "      <td>391</td>\n",
       "      <td>62</td>\n",
       "    </tr>\n",
       "    <tr>\n",
       "      <th>4</th>\n",
       "      <td>386</td>\n",
       "      <td>60</td>\n",
       "    </tr>\n",
       "  </tbody>\n",
       "</table>\n",
       "</div>"
      ],
      "text/plain": [
       "Attrition         No  Yes\n",
       "EnvSatisfaction          \n",
       "1                212   72\n",
       "2                244   43\n",
       "3                391   62\n",
       "4                386   60"
      ]
     },
     "execution_count": 61,
     "metadata": {},
     "output_type": "execute_result"
    }
   ],
   "source": [
    "#crosstabulation\n",
    "crossTab6 = pd.crosstab(index=df['EnvSatisfaction'],\n",
    "                      columns=df['Attrition'])\n",
    "crossTab6"
   ]
  },
  {
   "cell_type": "code",
   "execution_count": 62,
   "id": "09080979",
   "metadata": {},
   "outputs": [
    {
     "name": "stdout",
     "output_type": "stream",
     "text": [
      "Chi-Squared Value: 22.503881435842295\n",
      "P-Value: 5.1234689062894205e-05\n"
     ]
    }
   ],
   "source": [
    "# Perform the chi-squared test\n",
    "chi2, p, dof, expected = chi2_contingency(crossTab6)\n",
    "\n",
    "# Print the results\n",
    "print(\"Chi-Squared Value:\", chi2)\n",
    "print(\"P-Value:\", p)"
   ]
  },
  {
   "cell_type": "markdown",
   "id": "d1ce6f22",
   "metadata": {},
   "source": [
    "Chi-Squared Value: The computed chi-squared statistic for the comparison between the \"EnvSatisfaction\" variable and the \"Attrition\" variable is approximately 22.50. This statistic measures the strength of the relationship between these categorical variables.\n",
    "\n",
    "P-Value: The associated p-value for this chi-squared test is approximately 0.00005. This p-value is significantly smaller than the common significance level of 0.05, indicating that the observed differences in attrition proportions across different levels of environmental satisfaction are highly unlikely to be due to random chance.\n",
    "\n",
    "In simpler terms, the very low p-value suggests that there is strong evidence to suggest that employee attrition rates vary significantly based on their level of environmental satisfaction.\n",
    "\n",
    "Interpreting this outcome, we have sufficient reason to reject the null hypothesis. This implies that the level of environmental satisfaction could indeed be a significant contributor to the differences in attrition rates among employees. The data indicates that the level of satisfaction with the work environment may play a substantial role in employee attrition."
   ]
  },
  {
   "cell_type": "markdown",
   "id": "8a5d8917",
   "metadata": {},
   "source": [
    "End of EnvSatisfaction EDA section"
   ]
  },
  {
   "cell_type": "markdown",
   "id": "187cc5a2",
   "metadata": {},
   "source": [
    "#### 7. Gender"
   ]
  },
  {
   "cell_type": "code",
   "execution_count": 63,
   "id": "03320010",
   "metadata": {},
   "outputs": [
    {
     "data": {
      "text/html": [
       "<div>\n",
       "<style scoped>\n",
       "    .dataframe tbody tr th:only-of-type {\n",
       "        vertical-align: middle;\n",
       "    }\n",
       "\n",
       "    .dataframe tbody tr th {\n",
       "        vertical-align: top;\n",
       "    }\n",
       "\n",
       "    .dataframe thead th {\n",
       "        text-align: right;\n",
       "    }\n",
       "</style>\n",
       "<table border=\"1\" class=\"dataframe\">\n",
       "  <thead>\n",
       "    <tr style=\"text-align: right;\">\n",
       "      <th>Attrition</th>\n",
       "      <th>No</th>\n",
       "      <th>Yes</th>\n",
       "    </tr>\n",
       "    <tr>\n",
       "      <th>Gender</th>\n",
       "      <th></th>\n",
       "      <th></th>\n",
       "    </tr>\n",
       "  </thead>\n",
       "  <tbody>\n",
       "    <tr>\n",
       "      <th>Female</th>\n",
       "      <td>501</td>\n",
       "      <td>87</td>\n",
       "    </tr>\n",
       "    <tr>\n",
       "      <th>Male</th>\n",
       "      <td>732</td>\n",
       "      <td>150</td>\n",
       "    </tr>\n",
       "  </tbody>\n",
       "</table>\n",
       "</div>"
      ],
      "text/plain": [
       "Attrition   No  Yes\n",
       "Gender             \n",
       "Female     501   87\n",
       "Male       732  150"
      ]
     },
     "execution_count": 63,
     "metadata": {},
     "output_type": "execute_result"
    }
   ],
   "source": [
    "#crosstabulation\n",
    "crossTab7 = pd.crosstab(index=df['Gender'],\n",
    "                      columns=df['Attrition'])\n",
    "crossTab7"
   ]
  },
  {
   "cell_type": "code",
   "execution_count": 64,
   "id": "3fdfcd4e",
   "metadata": {},
   "outputs": [
    {
     "name": "stdout",
     "output_type": "stream",
     "text": [
      "Chi-Squared Value: 1.1169671241970975\n",
      "P-Value: 0.29057244902890855\n"
     ]
    }
   ],
   "source": [
    "# Perform the chi-squared test\n",
    "chi2, p, dof, expected = chi2_contingency(crossTab7)\n",
    "\n",
    "# Print the results\n",
    "print(\"Chi-Squared Value:\", chi2)\n",
    "print(\"P-Value:\", p)"
   ]
  },
  {
   "cell_type": "markdown",
   "id": "5e996e66",
   "metadata": {},
   "source": [
    "Chi-Squared Value: The computed chi-squared statistic for the comparison between the \"Gender\" variable and the \"Attrition\" variable is approximately 1.12. This statistic measures the strength of the relationship between these categorical variables.\n",
    "\n",
    "P-Value: The associated p-value for this chi-squared test is approximately 0.291. This p-value is greater than the common significance level of 0.05, indicating that the observed differences in attrition proportions between genders are not statistically significant at a conventional level of significance.\n",
    "\n",
    "In simpler terms, the p-value suggests that there is insufficient evidence to conclude that gender has a significant impact on employee attrition rates.\n",
    "\n",
    "Interpreting this outcome, we do not have enough statistical evidence to reject the null hypothesis. This implies that the data does not provide strong support for the idea that gender is a significant factor influencing attrition rates among employees."
   ]
  },
  {
   "cell_type": "markdown",
   "id": "63688c6e",
   "metadata": {},
   "source": [
    "End of Gender EDA section"
   ]
  },
  {
   "cell_type": "markdown",
   "id": "8d45f2b0",
   "metadata": {},
   "source": [
    "#### 8. JobRole"
   ]
  },
  {
   "cell_type": "code",
   "execution_count": 65,
   "id": "06433794",
   "metadata": {},
   "outputs": [
    {
     "data": {
      "text/html": [
       "<div>\n",
       "<style scoped>\n",
       "    .dataframe tbody tr th:only-of-type {\n",
       "        vertical-align: middle;\n",
       "    }\n",
       "\n",
       "    .dataframe tbody tr th {\n",
       "        vertical-align: top;\n",
       "    }\n",
       "\n",
       "    .dataframe thead th {\n",
       "        text-align: right;\n",
       "    }\n",
       "</style>\n",
       "<table border=\"1\" class=\"dataframe\">\n",
       "  <thead>\n",
       "    <tr style=\"text-align: right;\">\n",
       "      <th>Attrition</th>\n",
       "      <th>No</th>\n",
       "      <th>Yes</th>\n",
       "    </tr>\n",
       "    <tr>\n",
       "      <th>JobRole</th>\n",
       "      <th></th>\n",
       "      <th></th>\n",
       "    </tr>\n",
       "  </thead>\n",
       "  <tbody>\n",
       "    <tr>\n",
       "      <th>Healthcare Representative</th>\n",
       "      <td>122</td>\n",
       "      <td>9</td>\n",
       "    </tr>\n",
       "    <tr>\n",
       "      <th>Human Resources</th>\n",
       "      <td>40</td>\n",
       "      <td>12</td>\n",
       "    </tr>\n",
       "    <tr>\n",
       "      <th>Laboratory Technician</th>\n",
       "      <td>197</td>\n",
       "      <td>62</td>\n",
       "    </tr>\n",
       "    <tr>\n",
       "      <th>Manager</th>\n",
       "      <td>97</td>\n",
       "      <td>5</td>\n",
       "    </tr>\n",
       "    <tr>\n",
       "      <th>Manufacturing Director</th>\n",
       "      <td>135</td>\n",
       "      <td>10</td>\n",
       "    </tr>\n",
       "    <tr>\n",
       "      <th>Research Director</th>\n",
       "      <td>78</td>\n",
       "      <td>2</td>\n",
       "    </tr>\n",
       "    <tr>\n",
       "      <th>Research Scientist</th>\n",
       "      <td>245</td>\n",
       "      <td>47</td>\n",
       "    </tr>\n",
       "    <tr>\n",
       "      <th>Sales Executive</th>\n",
       "      <td>269</td>\n",
       "      <td>57</td>\n",
       "    </tr>\n",
       "    <tr>\n",
       "      <th>Sales Representative</th>\n",
       "      <td>50</td>\n",
       "      <td>33</td>\n",
       "    </tr>\n",
       "  </tbody>\n",
       "</table>\n",
       "</div>"
      ],
      "text/plain": [
       "Attrition                   No  Yes\n",
       "JobRole                            \n",
       "Healthcare Representative  122    9\n",
       "Human Resources             40   12\n",
       "Laboratory Technician      197   62\n",
       "Manager                     97    5\n",
       "Manufacturing Director     135   10\n",
       "Research Director           78    2\n",
       "Research Scientist         245   47\n",
       "Sales Executive            269   57\n",
       "Sales Representative        50   33"
      ]
     },
     "execution_count": 65,
     "metadata": {},
     "output_type": "execute_result"
    }
   ],
   "source": [
    "#crosstabulation\n",
    "crossTab8 = pd.crosstab(index=df['JobRole'],\n",
    "                      columns=df['Attrition'])\n",
    "crossTab8"
   ]
  },
  {
   "cell_type": "code",
   "execution_count": 66,
   "id": "867382b3",
   "metadata": {},
   "outputs": [
    {
     "name": "stdout",
     "output_type": "stream",
     "text": [
      "Chi-Squared Value: 86.19025367670434\n",
      "P-Value: 2.752481638050657e-15\n"
     ]
    }
   ],
   "source": [
    "# Perform the chi-squared test\n",
    "chi2, p, dof, expected = chi2_contingency(crossTab8)\n",
    "\n",
    "# Print the results\n",
    "print(\"Chi-Squared Value:\", chi2)\n",
    "print(\"P-Value:\", p)"
   ]
  },
  {
   "cell_type": "markdown",
   "id": "6fd7e2e3",
   "metadata": {},
   "source": [
    "Chi-Squared Value: The calculated chi-squared statistic for the comparison between the \"JobRole\" variable and the \"Attrition\" variable is approximately 86.19. This statistic quantifies the strength of the association between these categorical variables.\n",
    "\n",
    "P-Value: The p-value associated with this chi-squared test is extremely small, approximately 2.75e-15. This indicates that the likelihood of observing such a substantial association (or an even more significant one) between job roles and attrition, assuming no true link between them (null hypothesis being true), is exceedingly low.\n",
    "\n",
    "In simpler terms, the very low p-value suggests that the observed relationship between job roles and attrition is highly unlikely to occur by chance alone. This typically leads us to reject the null hypothesis.\n",
    "\n",
    "Interpreting this outcome, we can conclude that there is a significant connection between job roles and employee attrition rates. The specific roles that employees hold within the company seem to have a meaningful impact on whether they leave or remain with the organization. Further analysis would be necessary to determine the precise nature and implications of this relationship."
   ]
  },
  {
   "cell_type": "markdown",
   "id": "4a996019",
   "metadata": {},
   "source": [
    "End of JobRole EDA section"
   ]
  },
  {
   "cell_type": "markdown",
   "id": "d978b419",
   "metadata": {},
   "source": [
    "#### 9. MaritalStatus"
   ]
  },
  {
   "cell_type": "code",
   "execution_count": 67,
   "id": "cb2032cf",
   "metadata": {},
   "outputs": [
    {
     "data": {
      "text/html": [
       "<div>\n",
       "<style scoped>\n",
       "    .dataframe tbody tr th:only-of-type {\n",
       "        vertical-align: middle;\n",
       "    }\n",
       "\n",
       "    .dataframe tbody tr th {\n",
       "        vertical-align: top;\n",
       "    }\n",
       "\n",
       "    .dataframe thead th {\n",
       "        text-align: right;\n",
       "    }\n",
       "</style>\n",
       "<table border=\"1\" class=\"dataframe\">\n",
       "  <thead>\n",
       "    <tr style=\"text-align: right;\">\n",
       "      <th>Attrition</th>\n",
       "      <th>No</th>\n",
       "      <th>Yes</th>\n",
       "    </tr>\n",
       "    <tr>\n",
       "      <th>MaritalStatus</th>\n",
       "      <th></th>\n",
       "      <th></th>\n",
       "    </tr>\n",
       "  </thead>\n",
       "  <tbody>\n",
       "    <tr>\n",
       "      <th>Divorced</th>\n",
       "      <td>294</td>\n",
       "      <td>33</td>\n",
       "    </tr>\n",
       "    <tr>\n",
       "      <th>Married</th>\n",
       "      <td>589</td>\n",
       "      <td>84</td>\n",
       "    </tr>\n",
       "    <tr>\n",
       "      <th>Single</th>\n",
       "      <td>350</td>\n",
       "      <td>120</td>\n",
       "    </tr>\n",
       "  </tbody>\n",
       "</table>\n",
       "</div>"
      ],
      "text/plain": [
       "Attrition       No  Yes\n",
       "MaritalStatus          \n",
       "Divorced       294   33\n",
       "Married        589   84\n",
       "Single         350  120"
      ]
     },
     "execution_count": 67,
     "metadata": {},
     "output_type": "execute_result"
    }
   ],
   "source": [
    "#crosstabulation\n",
    "crossTab9 = pd.crosstab(index=df['MaritalStatus'],\n",
    "                      columns=df['Attrition'])\n",
    "crossTab9"
   ]
  },
  {
   "cell_type": "code",
   "execution_count": 68,
   "id": "4c8173c9",
   "metadata": {},
   "outputs": [
    {
     "name": "stdout",
     "output_type": "stream",
     "text": [
      "Chi-Squared Value: 46.163676540848705\n",
      "P-Value: 9.45551106034083e-11\n"
     ]
    }
   ],
   "source": [
    "# Perform the chi-squared test\n",
    "chi2, p, dof, expected = chi2_contingency(crossTab9)\n",
    "\n",
    "# Print the results\n",
    "print(\"Chi-Squared Value:\", chi2)\n",
    "print(\"P-Value:\", p)"
   ]
  },
  {
   "cell_type": "markdown",
   "id": "56e4ea73",
   "metadata": {},
   "source": [
    "Chi-Squared Value: The computed chi-squared statistic for the comparison between the \"MaritalStatus\" variable and the \"Attrition\" variable is approximately 46.16. This statistic reflects the strength of the relationship between these two categorical variables.\n",
    "\n",
    "P-Value: The p-value associated with the chi-squared test is exceptionally small, approximately 9.46e-11. This small p-value indicates that the probability of observing such a substantial association (or a more significant one) between marital status and attrition, assuming no real association between them (null hypothesis being true), is extremely low.\n",
    "\n",
    "In simpler terms, the very low p-value suggests that the observed connection between marital status and attrition is highly unlikely to occur by random chance. Consequently, we tend to reject the null hypothesis.\n",
    "\n",
    "Interpreting this outcome, we can conclude that there is a significant link between marital status and employee attrition. The marital status of employees seems to have an important influence on their decision to leave or remain with the company. Further analysis would be needed to comprehend the specifics of this relationship and its potential implications."
   ]
  },
  {
   "cell_type": "markdown",
   "id": "e9d26ec5",
   "metadata": {},
   "source": [
    "End of MaritalStatus EDA section"
   ]
  },
  {
   "cell_type": "markdown",
   "id": "16722fb1",
   "metadata": {},
   "source": [
    "#### 10. PerformanceRating"
   ]
  },
  {
   "cell_type": "code",
   "execution_count": 69,
   "id": "1be0b18c",
   "metadata": {},
   "outputs": [
    {
     "data": {
      "text/html": [
       "<div>\n",
       "<style scoped>\n",
       "    .dataframe tbody tr th:only-of-type {\n",
       "        vertical-align: middle;\n",
       "    }\n",
       "\n",
       "    .dataframe tbody tr th {\n",
       "        vertical-align: top;\n",
       "    }\n",
       "\n",
       "    .dataframe thead th {\n",
       "        text-align: right;\n",
       "    }\n",
       "</style>\n",
       "<table border=\"1\" class=\"dataframe\">\n",
       "  <thead>\n",
       "    <tr style=\"text-align: right;\">\n",
       "      <th>Attrition</th>\n",
       "      <th>No</th>\n",
       "      <th>Yes</th>\n",
       "    </tr>\n",
       "    <tr>\n",
       "      <th>PerformanceRating</th>\n",
       "      <th></th>\n",
       "      <th></th>\n",
       "    </tr>\n",
       "  </thead>\n",
       "  <tbody>\n",
       "    <tr>\n",
       "      <th>3</th>\n",
       "      <td>1044</td>\n",
       "      <td>200</td>\n",
       "    </tr>\n",
       "    <tr>\n",
       "      <th>4</th>\n",
       "      <td>189</td>\n",
       "      <td>37</td>\n",
       "    </tr>\n",
       "  </tbody>\n",
       "</table>\n",
       "</div>"
      ],
      "text/plain": [
       "Attrition            No  Yes\n",
       "PerformanceRating           \n",
       "3                  1044  200\n",
       "4                   189   37"
      ]
     },
     "execution_count": 69,
     "metadata": {},
     "output_type": "execute_result"
    }
   ],
   "source": [
    "#crosstabulation\n",
    "crossTab10 = pd.crosstab(index=df['PerformanceRating'],\n",
    "                      columns=df['Attrition'])\n",
    "crossTab10"
   ]
  },
  {
   "cell_type": "code",
   "execution_count": 70,
   "id": "5db2615d",
   "metadata": {},
   "outputs": [
    {
     "name": "stdout",
     "output_type": "stream",
     "text": [
      "Chi-Squared Value: 0.00015475439428271534\n",
      "P-Value: 0.9900745465934576\n"
     ]
    }
   ],
   "source": [
    "# Perform the chi-squared test\n",
    "chi2, p, dof, expected = chi2_contingency(crossTab10)\n",
    "\n",
    "# Print the results\n",
    "print(\"Chi-Squared Value:\", chi2)\n",
    "print(\"P-Value:\", p)"
   ]
  },
  {
   "cell_type": "markdown",
   "id": "451aaf2c",
   "metadata": {},
   "source": [
    "Chi-Squared Value: The computed chi-squared statistic for the comparison between the \"PerformanceRating\" variable and the \"Attrition\" variable is approximately 0.000155. This small value indicates a very weak relationship between these two categorical variables.\n",
    "\n",
    "P-Value: The p-value associated with the chi-squared test is approximately 0.990. This p-value suggests that the likelihood of observing such a weak association (or a weaker one) between performance rating and attrition, assuming no true association between them (null hypothesis being true), is quite high.\n",
    "\n",
    "In simpler terms, the relatively high p-value indicates that the observed connection between performance rating and attrition could easily happen by random chance. This lack of significance makes it challenging to conclude that there is a substantial relationship between these two variables.\n",
    "\n",
    "Interpreting this outcome, we do not have sufficient evidence to claim a significant association between performance rating and employee attrition. It appears that performance rating might not be a strong factor influencing employees' decisions to leave or stay in the company. Further investigation might be necessary to explore this relationship more comprehensively."
   ]
  },
  {
   "cell_type": "markdown",
   "id": "760fd750",
   "metadata": {},
   "source": [
    "End of PerformanceRating EDA section"
   ]
  },
  {
   "cell_type": "markdown",
   "id": "3229c530",
   "metadata": {},
   "source": [
    "#### 11. OverTime"
   ]
  },
  {
   "cell_type": "code",
   "execution_count": 71,
   "id": "8c700b80",
   "metadata": {},
   "outputs": [
    {
     "data": {
      "text/html": [
       "<div>\n",
       "<style scoped>\n",
       "    .dataframe tbody tr th:only-of-type {\n",
       "        vertical-align: middle;\n",
       "    }\n",
       "\n",
       "    .dataframe tbody tr th {\n",
       "        vertical-align: top;\n",
       "    }\n",
       "\n",
       "    .dataframe thead th {\n",
       "        text-align: right;\n",
       "    }\n",
       "</style>\n",
       "<table border=\"1\" class=\"dataframe\">\n",
       "  <thead>\n",
       "    <tr style=\"text-align: right;\">\n",
       "      <th>Attrition</th>\n",
       "      <th>No</th>\n",
       "      <th>Yes</th>\n",
       "    </tr>\n",
       "    <tr>\n",
       "      <th>OverTime</th>\n",
       "      <th></th>\n",
       "      <th></th>\n",
       "    </tr>\n",
       "  </thead>\n",
       "  <tbody>\n",
       "    <tr>\n",
       "      <th>No</th>\n",
       "      <td>944</td>\n",
       "      <td>110</td>\n",
       "    </tr>\n",
       "    <tr>\n",
       "      <th>Yes</th>\n",
       "      <td>289</td>\n",
       "      <td>127</td>\n",
       "    </tr>\n",
       "  </tbody>\n",
       "</table>\n",
       "</div>"
      ],
      "text/plain": [
       "Attrition   No  Yes\n",
       "OverTime           \n",
       "No         944  110\n",
       "Yes        289  127"
      ]
     },
     "execution_count": 71,
     "metadata": {},
     "output_type": "execute_result"
    }
   ],
   "source": [
    "#crosstabulation\n",
    "crossTab11 = pd.crosstab(index=df['OverTime'],\n",
    "                      columns=df['Attrition'])\n",
    "crossTab11"
   ]
  },
  {
   "cell_type": "code",
   "execution_count": 72,
   "id": "d6387230",
   "metadata": {},
   "outputs": [
    {
     "name": "stdout",
     "output_type": "stream",
     "text": [
      "Chi-Squared Value: 87.56429365828768\n",
      "P-Value: 8.15842372153832e-21\n"
     ]
    }
   ],
   "source": [
    "# Perform the chi-squared test\n",
    "chi2, p, dof, expected = chi2_contingency(crossTab11)\n",
    "\n",
    "# Print the results\n",
    "print(\"Chi-Squared Value:\", chi2)\n",
    "print(\"P-Value:\", p)"
   ]
  },
  {
   "cell_type": "markdown",
   "id": "d69c92f7",
   "metadata": {},
   "source": [
    "Chi-Squared Value: The calculated chi-squared statistic for the comparison between the \"OverTime\" variable and the \"Attrition\" variable is approximately 87.56. This relatively high value indicates a strong relationship between these two categorical variables.\n",
    "\n",
    "P-Value: The p-value associated with the chi-squared test is approximately 8.16e-21, an extremely small value. This p-value suggests that the probability of observing such a significant association (or an even more significant one) between overtime status and attrition, assuming no true association between them (null hypothesis being true), is incredibly low.\n",
    "\n",
    "In simpler terms, the very low p-value indicates that the observed connection between overtime status and attrition is highly unlikely to occur by random chance. This suggests that there is a strong likelihood of a substantial relationship between these two variables.\n",
    "\n",
    "Interpreting this outcome, we have strong evidence to support the idea that employee attrition is significantly associated with their overtime status. The data suggests that employees who work overtime might be more prone to leaving the company compared to those who do not work overtime. This is an important finding that can inform HR and management decisions related to workload and work-life balance."
   ]
  },
  {
   "cell_type": "markdown",
   "id": "8b421949",
   "metadata": {},
   "source": [
    "End of OverTime EDA section"
   ]
  },
  {
   "cell_type": "markdown",
   "id": "1b0a6f85",
   "metadata": {},
   "source": [
    "### Summary of Findings"
   ]
  },
  {
   "cell_type": "markdown",
   "id": "bb3e6948",
   "metadata": {},
   "source": [
    "**Numerical Variables (T-Test):**\n",
    "1. Age: p-value = 8.356308021103587e-10\n",
    "2. MonthlyIncome: p-value = 4.433588628286071e-13\n",
    "3. Bonus: p-value = 3.692333845137077e-14\n",
    "4. DistanceFromHome: p-value = 0.004136511971511406\n",
    "5. TrainingTimeLastYear: p-value = 0.022578499737201205\n",
    "6. YearsAtCompany: p-value = 2.3188716103863033e-07\n",
    "7. YearsSinceLastPromotion: p-value = 0.2057899591624936\n",
    "\n",
    "**Categorical Variables (Chi-Squared Test):**\n",
    "1. BusinessTravel: p-value = 5.608614476449931e-06\n",
    "2. JobSatisfaction: p-value = 0.0005563004510387556\n",
    "3. Department: p-value = 0.004525606574479633\n",
    "4. Education: p-value = 0.5455253376565949\n",
    "5. EducationField: p-value = 0.006773980139025212\n",
    "6. EnvSatisfaction: p-value = 5.1234689062894205e-05\n",
    "7. Gender: p-value = 0.29057244902890855\n",
    "8. JobRole: p-value = 2.752481638050657e-15\n",
    "9. MaritalStatus: p-value = 9.45551106034083e-11\n",
    "10. PerformanceRating: p-value = 0.9900745465934576\n",
    "11. OverTime: p-value = 8.15842372153832e-21"
   ]
  },
  {
   "cell_type": "markdown",
   "id": "4fa0a370",
   "metadata": {},
   "source": [
    "Summary of the variables' significance in affecting attrition, sorted from highest to lowest significance based on the obtained p-values:\n",
    "\n",
    "**Numerical Variables (T-Test):**\n",
    "1. Bonus (p-value = 3.692333845137077e-14) > Yes\n",
    "2. MonthlyIncome (p-value = 4.433588628286071e-13) > Yes\n",
    "3. Age (p-value = 8.356308021103587e-10) > Yes\n",
    "4. YearsAtCompany (p-value = 2.3188716103863033e-07) > Yes\n",
    "5. DistanceFromHome (p-value = 0.004136511971511406) > Yes\n",
    "6. TrainingTimeLastYear (p-value = 0.022578499737201205) > Yes, but not much significance\n",
    "7. YearsSinceLastPromotion (p-value = 0.2057899591624936) > No\n",
    "\n",
    "**Categorical Variables (Chi-Squared Test):**\n",
    "1. OverTime (p-value = 8.15842372153832e-21) > Yes\n",
    "2. JobRole (p-value = 2.752481638050657e-15) > Yes\n",
    "3. MaritalStatus (p-value = 9.45551106034083e-11) > Yes\n",
    "4. BusinessTravel (p-value = 5.608614476449931e-06) > Yes\n",
    "5. EnvSatisfaction (p-value = 5.1234689062894205e-05) > Yes\n",
    "6. JobSatisfaction (p-value = 0.0005563004510387556) > Yes\n",
    "7. Department (p-value = 0.004525606574479633) > Yes\n",
    "8. EducationField (p-value = 0.006773980139025212) > Yes\n",
    "9. Gender (p-value = 0.29057244902890855) > No\n",
    "10. Education (p-value = 0.5455253376565949) > No\n",
    "11. PerformanceRating (p-value = 0.9900745465934576) > No\n",
    "\n",
    "With Yes/No showing whether or not they affect Attrition"
   ]
  },
  {
   "cell_type": "markdown",
   "id": "f6abda17",
   "metadata": {},
   "source": [
    "#### End of EDA Section"
   ]
  },
  {
   "cell_type": "markdown",
   "id": "0f69bd11",
   "metadata": {},
   "source": [
    "### Machine Learning Model"
   ]
  },
  {
   "cell_type": "code",
   "execution_count": 73,
   "id": "eb2b63ac",
   "metadata": {},
   "outputs": [],
   "source": [
    "#IMPORT PACKAGES\n",
    "\n",
    "import numpy as np\n",
    "import pandas as pd\n",
    "import matplotlib.pyplot as plt\n",
    "import seaborn as sns"
   ]
  },
  {
   "cell_type": "code",
   "execution_count": 74,
   "id": "d7345756",
   "metadata": {},
   "outputs": [
    {
     "data": {
      "image/png": "[encoded data removed]",
      "text/plain": [
       "<Figure size 600x400 with 1 Axes>"
      ]
     },
     "metadata": {},
     "output_type": "display_data"
    },
    {
     "name": "stdout",
     "output_type": "stream",
     "text": [
      "No     1233\n",
      "Yes     237\n",
      "Name: Attrition, dtype: int64\n"
     ]
    }
   ],
   "source": [
    "# Count occurrences of each value in the \"Attrition\" column\n",
    "AttritionCounts = df['Attrition'].value_counts()\n",
    "\n",
    "# Create a count plot\n",
    "plt.figure(figsize=(6, 4))\n",
    "sns.countplot(data=df, x='Attrition')\n",
    "plt.title(\"Distribution of Attrition\")\n",
    "plt.xlabel(\"Attrition\")\n",
    "plt.ylabel(\"Count\")\n",
    "plt.show()\n",
    "\n",
    "# Display the count of each value\n",
    "print(AttritionCounts)"
   ]
  },
  {
   "cell_type": "code",
   "execution_count": 75,
   "id": "e64171c1",
   "metadata": {},
   "outputs": [
    {
     "data": {
      "text/plain": [
       "No     83.877551\n",
       "Yes    16.122449\n",
       "Name: Attrition, dtype: float64"
      ]
     },
     "execution_count": 75,
     "metadata": {},
     "output_type": "execute_result"
    }
   ],
   "source": [
    "#Proportion of attrition count, normalize it\n",
    "AttritionCounts = df['Attrition'].value_counts(normalize=True)*100\n",
    "AttritionCounts"
   ]
  },
  {
   "cell_type": "markdown",
   "id": "58ea1442",
   "metadata": {},
   "source": [
    "Imbalance Dataset, 83.88% No while only 16.12% Yes"
   ]
  },
  {
   "cell_type": "code",
   "execution_count": 76,
   "id": "a43470b7",
   "metadata": {},
   "outputs": [
    {
     "data": {
      "text/plain": [
       "(1470, 19)"
      ]
     },
     "execution_count": 76,
     "metadata": {},
     "output_type": "execute_result"
    }
   ],
   "source": [
    "df.shape"
   ]
  },
  {
   "cell_type": "code",
   "execution_count": 77,
   "id": "28e5d7dc",
   "metadata": {},
   "outputs": [
    {
     "data": {
      "text/plain": [
       "Index(['Age', 'BusinessTravel', 'MonthlyIncome', 'JobSatisfaction', 'Bonus',\n",
       "       'Department', 'DistanceFromHome', 'Education', 'EducationField',\n",
       "       'EnvSatisfaction', 'Gender', 'JobRole', 'MaritalStatus',\n",
       "       'PerformanceRating', 'TrainingTimesLastYear', 'YearsAtCompany',\n",
       "       'YearsSinceLastPromotion', 'OverTime', 'Attrition'],\n",
       "      dtype='object')"
      ]
     },
     "execution_count": 77,
     "metadata": {},
     "output_type": "execute_result"
    }
   ],
   "source": [
    "df.columns"
   ]
  },
  {
   "cell_type": "markdown",
   "id": "d783b971",
   "metadata": {},
   "source": [
    "#### Feature Selection"
   ]
  },
  {
   "cell_type": "code",
   "execution_count": 78,
   "id": "42519563",
   "metadata": {},
   "outputs": [
    {
     "data": {
      "text/html": [
       "<div>\n",
       "<style scoped>\n",
       "    .dataframe tbody tr th:only-of-type {\n",
       "        vertical-align: middle;\n",
       "    }\n",
       "\n",
       "    .dataframe tbody tr th {\n",
       "        vertical-align: top;\n",
       "    }\n",
       "\n",
       "    .dataframe thead th {\n",
       "        text-align: right;\n",
       "    }\n",
       "</style>\n",
       "<table border=\"1\" class=\"dataframe\">\n",
       "  <thead>\n",
       "    <tr style=\"text-align: right;\">\n",
       "      <th></th>\n",
       "      <th>Age</th>\n",
       "      <th>BusinessTravel</th>\n",
       "      <th>MonthlyIncome</th>\n",
       "      <th>JobSatisfaction</th>\n",
       "      <th>Bonus</th>\n",
       "      <th>Department</th>\n",
       "      <th>DistanceFromHome</th>\n",
       "      <th>EducationField</th>\n",
       "      <th>EnvSatisfaction</th>\n",
       "      <th>JobRole</th>\n",
       "      <th>MaritalStatus</th>\n",
       "      <th>TrainingTimesLastYear</th>\n",
       "      <th>YearsAtCompany</th>\n",
       "      <th>OverTime</th>\n",
       "      <th>Attrition</th>\n",
       "    </tr>\n",
       "    <tr>\n",
       "      <th>EmployeeID</th>\n",
       "      <th></th>\n",
       "      <th></th>\n",
       "      <th></th>\n",
       "      <th></th>\n",
       "      <th></th>\n",
       "      <th></th>\n",
       "      <th></th>\n",
       "      <th></th>\n",
       "      <th></th>\n",
       "      <th></th>\n",
       "      <th></th>\n",
       "      <th></th>\n",
       "      <th></th>\n",
       "      <th></th>\n",
       "      <th></th>\n",
       "    </tr>\n",
       "  </thead>\n",
       "  <tbody>\n",
       "    <tr>\n",
       "      <th>1</th>\n",
       "      <td>41</td>\n",
       "      <td>Travel_Rarely</td>\n",
       "      <td>5993</td>\n",
       "      <td>4</td>\n",
       "      <td>17979</td>\n",
       "      <td>Sales</td>\n",
       "      <td>1</td>\n",
       "      <td>Life Sciences</td>\n",
       "      <td>2</td>\n",
       "      <td>Sales Executive</td>\n",
       "      <td>Single</td>\n",
       "      <td>0</td>\n",
       "      <td>6</td>\n",
       "      <td>Yes</td>\n",
       "      <td>Yes</td>\n",
       "    </tr>\n",
       "    <tr>\n",
       "      <th>2</th>\n",
       "      <td>49</td>\n",
       "      <td>Travel_Frequently</td>\n",
       "      <td>5130</td>\n",
       "      <td>2</td>\n",
       "      <td>20520</td>\n",
       "      <td>Research &amp; Development</td>\n",
       "      <td>8</td>\n",
       "      <td>Life Sciences</td>\n",
       "      <td>3</td>\n",
       "      <td>Research Scientist</td>\n",
       "      <td>Married</td>\n",
       "      <td>3</td>\n",
       "      <td>10</td>\n",
       "      <td>No</td>\n",
       "      <td>No</td>\n",
       "    </tr>\n",
       "    <tr>\n",
       "      <th>4</th>\n",
       "      <td>37</td>\n",
       "      <td>Travel_Rarely</td>\n",
       "      <td>2090</td>\n",
       "      <td>3</td>\n",
       "      <td>6270</td>\n",
       "      <td>Research &amp; Development</td>\n",
       "      <td>2</td>\n",
       "      <td>Other</td>\n",
       "      <td>4</td>\n",
       "      <td>Laboratory Technician</td>\n",
       "      <td>Single</td>\n",
       "      <td>3</td>\n",
       "      <td>0</td>\n",
       "      <td>Yes</td>\n",
       "      <td>Yes</td>\n",
       "    </tr>\n",
       "    <tr>\n",
       "      <th>5</th>\n",
       "      <td>33</td>\n",
       "      <td>Travel_Frequently</td>\n",
       "      <td>2909</td>\n",
       "      <td>3</td>\n",
       "      <td>8727</td>\n",
       "      <td>Research &amp; Development</td>\n",
       "      <td>3</td>\n",
       "      <td>Life Sciences</td>\n",
       "      <td>4</td>\n",
       "      <td>Research Scientist</td>\n",
       "      <td>Married</td>\n",
       "      <td>3</td>\n",
       "      <td>8</td>\n",
       "      <td>Yes</td>\n",
       "      <td>No</td>\n",
       "    </tr>\n",
       "    <tr>\n",
       "      <th>7</th>\n",
       "      <td>27</td>\n",
       "      <td>Travel_Rarely</td>\n",
       "      <td>3468</td>\n",
       "      <td>2</td>\n",
       "      <td>10404</td>\n",
       "      <td>Research &amp; Development</td>\n",
       "      <td>2</td>\n",
       "      <td>Medical</td>\n",
       "      <td>1</td>\n",
       "      <td>Laboratory Technician</td>\n",
       "      <td>Married</td>\n",
       "      <td>3</td>\n",
       "      <td>2</td>\n",
       "      <td>No</td>\n",
       "      <td>No</td>\n",
       "    </tr>\n",
       "  </tbody>\n",
       "</table>\n",
       "</div>"
      ],
      "text/plain": [
       "            Age     BusinessTravel  MonthlyIncome  JobSatisfaction  Bonus  \\\n",
       "EmployeeID                                                                  \n",
       "1            41      Travel_Rarely           5993                4  17979   \n",
       "2            49  Travel_Frequently           5130                2  20520   \n",
       "4            37      Travel_Rarely           2090                3   6270   \n",
       "5            33  Travel_Frequently           2909                3   8727   \n",
       "7            27      Travel_Rarely           3468                2  10404   \n",
       "\n",
       "                        Department  DistanceFromHome EducationField  \\\n",
       "EmployeeID                                                            \n",
       "1                            Sales                 1  Life Sciences   \n",
       "2           Research & Development                 8  Life Sciences   \n",
       "4           Research & Development                 2          Other   \n",
       "5           Research & Development                 3  Life Sciences   \n",
       "7           Research & Development                 2        Medical   \n",
       "\n",
       "            EnvSatisfaction                JobRole MaritalStatus  \\\n",
       "EmployeeID                                                         \n",
       "1                         2        Sales Executive        Single   \n",
       "2                         3     Research Scientist       Married   \n",
       "4                         4  Laboratory Technician        Single   \n",
       "5                         4     Research Scientist       Married   \n",
       "7                         1  Laboratory Technician       Married   \n",
       "\n",
       "            TrainingTimesLastYear  YearsAtCompany OverTime Attrition  \n",
       "EmployeeID                                                            \n",
       "1                               0               6      Yes       Yes  \n",
       "2                               3              10       No        No  \n",
       "4                               3               0      Yes       Yes  \n",
       "5                               3               8      Yes        No  \n",
       "7                               3               2       No        No  "
      ]
     },
     "execution_count": 78,
     "metadata": {},
     "output_type": "execute_result"
    }
   ],
   "source": [
    "#update dataframe df - only keep the variables of interest (all input variable that significantly affecting the output)\n",
    "#omitting Gender, PerformanceRating, Education, and YearsSinceLastPromotion variables\n",
    "\n",
    "df_ml = df[['Age', 'BusinessTravel', 'MonthlyIncome', 'JobSatisfaction', 'Bonus',\n",
    "            'Department', 'DistanceFromHome', 'EducationField',\n",
    "            'EnvSatisfaction', 'JobRole', 'MaritalStatus',\n",
    "            'TrainingTimesLastYear', 'YearsAtCompany',\n",
    "            'OverTime', 'Attrition']]\n",
    "df_ml.head()"
   ]
  },
  {
   "cell_type": "code",
   "execution_count": 79,
   "id": "77083be2",
   "metadata": {},
   "outputs": [],
   "source": [
    "# Assign Input and Output\n",
    "x = df_ml.iloc[:,:-1]\n",
    "y = df_ml.iloc[:,-1]"
   ]
  },
  {
   "cell_type": "code",
   "execution_count": 80,
   "id": "5320fbee",
   "metadata": {},
   "outputs": [
    {
     "data": {
      "text/html": [
       "<div>\n",
       "<style scoped>\n",
       "    .dataframe tbody tr th:only-of-type {\n",
       "        vertical-align: middle;\n",
       "    }\n",
       "\n",
       "    .dataframe tbody tr th {\n",
       "        vertical-align: top;\n",
       "    }\n",
       "\n",
       "    .dataframe thead th {\n",
       "        text-align: right;\n",
       "    }\n",
       "</style>\n",
       "<table border=\"1\" class=\"dataframe\">\n",
       "  <thead>\n",
       "    <tr style=\"text-align: right;\">\n",
       "      <th></th>\n",
       "      <th>Age</th>\n",
       "      <th>BusinessTravel</th>\n",
       "      <th>MonthlyIncome</th>\n",
       "      <th>JobSatisfaction</th>\n",
       "      <th>Bonus</th>\n",
       "      <th>Department</th>\n",
       "      <th>DistanceFromHome</th>\n",
       "      <th>EducationField</th>\n",
       "      <th>EnvSatisfaction</th>\n",
       "      <th>JobRole</th>\n",
       "      <th>MaritalStatus</th>\n",
       "      <th>TrainingTimesLastYear</th>\n",
       "      <th>YearsAtCompany</th>\n",
       "      <th>OverTime</th>\n",
       "    </tr>\n",
       "    <tr>\n",
       "      <th>EmployeeID</th>\n",
       "      <th></th>\n",
       "      <th></th>\n",
       "      <th></th>\n",
       "      <th></th>\n",
       "      <th></th>\n",
       "      <th></th>\n",
       "      <th></th>\n",
       "      <th></th>\n",
       "      <th></th>\n",
       "      <th></th>\n",
       "      <th></th>\n",
       "      <th></th>\n",
       "      <th></th>\n",
       "      <th></th>\n",
       "    </tr>\n",
       "  </thead>\n",
       "  <tbody>\n",
       "    <tr>\n",
       "      <th>1</th>\n",
       "      <td>41</td>\n",
       "      <td>Travel_Rarely</td>\n",
       "      <td>5993</td>\n",
       "      <td>4</td>\n",
       "      <td>17979</td>\n",
       "      <td>Sales</td>\n",
       "      <td>1</td>\n",
       "      <td>Life Sciences</td>\n",
       "      <td>2</td>\n",
       "      <td>Sales Executive</td>\n",
       "      <td>Single</td>\n",
       "      <td>0</td>\n",
       "      <td>6</td>\n",
       "      <td>Yes</td>\n",
       "    </tr>\n",
       "    <tr>\n",
       "      <th>2</th>\n",
       "      <td>49</td>\n",
       "      <td>Travel_Frequently</td>\n",
       "      <td>5130</td>\n",
       "      <td>2</td>\n",
       "      <td>20520</td>\n",
       "      <td>Research &amp; Development</td>\n",
       "      <td>8</td>\n",
       "      <td>Life Sciences</td>\n",
       "      <td>3</td>\n",
       "      <td>Research Scientist</td>\n",
       "      <td>Married</td>\n",
       "      <td>3</td>\n",
       "      <td>10</td>\n",
       "      <td>No</td>\n",
       "    </tr>\n",
       "    <tr>\n",
       "      <th>4</th>\n",
       "      <td>37</td>\n",
       "      <td>Travel_Rarely</td>\n",
       "      <td>2090</td>\n",
       "      <td>3</td>\n",
       "      <td>6270</td>\n",
       "      <td>Research &amp; Development</td>\n",
       "      <td>2</td>\n",
       "      <td>Other</td>\n",
       "      <td>4</td>\n",
       "      <td>Laboratory Technician</td>\n",
       "      <td>Single</td>\n",
       "      <td>3</td>\n",
       "      <td>0</td>\n",
       "      <td>Yes</td>\n",
       "    </tr>\n",
       "    <tr>\n",
       "      <th>5</th>\n",
       "      <td>33</td>\n",
       "      <td>Travel_Frequently</td>\n",
       "      <td>2909</td>\n",
       "      <td>3</td>\n",
       "      <td>8727</td>\n",
       "      <td>Research &amp; Development</td>\n",
       "      <td>3</td>\n",
       "      <td>Life Sciences</td>\n",
       "      <td>4</td>\n",
       "      <td>Research Scientist</td>\n",
       "      <td>Married</td>\n",
       "      <td>3</td>\n",
       "      <td>8</td>\n",
       "      <td>Yes</td>\n",
       "    </tr>\n",
       "    <tr>\n",
       "      <th>7</th>\n",
       "      <td>27</td>\n",
       "      <td>Travel_Rarely</td>\n",
       "      <td>3468</td>\n",
       "      <td>2</td>\n",
       "      <td>10404</td>\n",
       "      <td>Research &amp; Development</td>\n",
       "      <td>2</td>\n",
       "      <td>Medical</td>\n",
       "      <td>1</td>\n",
       "      <td>Laboratory Technician</td>\n",
       "      <td>Married</td>\n",
       "      <td>3</td>\n",
       "      <td>2</td>\n",
       "      <td>No</td>\n",
       "    </tr>\n",
       "  </tbody>\n",
       "</table>\n",
       "</div>"
      ],
      "text/plain": [
       "            Age     BusinessTravel  MonthlyIncome  JobSatisfaction  Bonus  \\\n",
       "EmployeeID                                                                  \n",
       "1            41      Travel_Rarely           5993                4  17979   \n",
       "2            49  Travel_Frequently           5130                2  20520   \n",
       "4            37      Travel_Rarely           2090                3   6270   \n",
       "5            33  Travel_Frequently           2909                3   8727   \n",
       "7            27      Travel_Rarely           3468                2  10404   \n",
       "\n",
       "                        Department  DistanceFromHome EducationField  \\\n",
       "EmployeeID                                                            \n",
       "1                            Sales                 1  Life Sciences   \n",
       "2           Research & Development                 8  Life Sciences   \n",
       "4           Research & Development                 2          Other   \n",
       "5           Research & Development                 3  Life Sciences   \n",
       "7           Research & Development                 2        Medical   \n",
       "\n",
       "            EnvSatisfaction                JobRole MaritalStatus  \\\n",
       "EmployeeID                                                         \n",
       "1                         2        Sales Executive        Single   \n",
       "2                         3     Research Scientist       Married   \n",
       "4                         4  Laboratory Technician        Single   \n",
       "5                         4     Research Scientist       Married   \n",
       "7                         1  Laboratory Technician       Married   \n",
       "\n",
       "            TrainingTimesLastYear  YearsAtCompany OverTime  \n",
       "EmployeeID                                                  \n",
       "1                               0               6      Yes  \n",
       "2                               3              10       No  \n",
       "4                               3               0      Yes  \n",
       "5                               3               8      Yes  \n",
       "7                               3               2       No  "
      ]
     },
     "execution_count": 80,
     "metadata": {},
     "output_type": "execute_result"
    }
   ],
   "source": [
    "x.head()"
   ]
  },
  {
   "cell_type": "code",
   "execution_count": 81,
   "id": "2181b947",
   "metadata": {},
   "outputs": [
    {
     "data": {
      "text/plain": [
       "(1470, 14)"
      ]
     },
     "execution_count": 81,
     "metadata": {},
     "output_type": "execute_result"
    }
   ],
   "source": [
    "x.shape"
   ]
  },
  {
   "cell_type": "code",
   "execution_count": 82,
   "id": "8be0ace8",
   "metadata": {
    "scrolled": true
   },
   "outputs": [
    {
     "data": {
      "text/html": [
       "<div>\n",
       "<style scoped>\n",
       "    .dataframe tbody tr th:only-of-type {\n",
       "        vertical-align: middle;\n",
       "    }\n",
       "\n",
       "    .dataframe tbody tr th {\n",
       "        vertical-align: top;\n",
       "    }\n",
       "\n",
       "    .dataframe thead th {\n",
       "        text-align: right;\n",
       "    }\n",
       "</style>\n",
       "<table border=\"1\" class=\"dataframe\">\n",
       "  <thead>\n",
       "    <tr style=\"text-align: right;\">\n",
       "      <th></th>\n",
       "      <th>Age</th>\n",
       "      <th>MonthlyIncome</th>\n",
       "      <th>JobSatisfaction</th>\n",
       "      <th>Bonus</th>\n",
       "      <th>DistanceFromHome</th>\n",
       "      <th>EnvSatisfaction</th>\n",
       "      <th>TrainingTimesLastYear</th>\n",
       "      <th>YearsAtCompany</th>\n",
       "      <th>BusinessTravel_Travel_Frequently</th>\n",
       "      <th>BusinessTravel_Travel_Rarely</th>\n",
       "      <th>...</th>\n",
       "      <th>JobRole_Laboratory Technician</th>\n",
       "      <th>JobRole_Manager</th>\n",
       "      <th>JobRole_Manufacturing Director</th>\n",
       "      <th>JobRole_Research Director</th>\n",
       "      <th>JobRole_Research Scientist</th>\n",
       "      <th>JobRole_Sales Executive</th>\n",
       "      <th>JobRole_Sales Representative</th>\n",
       "      <th>MaritalStatus_Married</th>\n",
       "      <th>MaritalStatus_Single</th>\n",
       "      <th>OverTime_Yes</th>\n",
       "    </tr>\n",
       "    <tr>\n",
       "      <th>EmployeeID</th>\n",
       "      <th></th>\n",
       "      <th></th>\n",
       "      <th></th>\n",
       "      <th></th>\n",
       "      <th></th>\n",
       "      <th></th>\n",
       "      <th></th>\n",
       "      <th></th>\n",
       "      <th></th>\n",
       "      <th></th>\n",
       "      <th></th>\n",
       "      <th></th>\n",
       "      <th></th>\n",
       "      <th></th>\n",
       "      <th></th>\n",
       "      <th></th>\n",
       "      <th></th>\n",
       "      <th></th>\n",
       "      <th></th>\n",
       "      <th></th>\n",
       "      <th></th>\n",
       "    </tr>\n",
       "  </thead>\n",
       "  <tbody>\n",
       "    <tr>\n",
       "      <th>1</th>\n",
       "      <td>41</td>\n",
       "      <td>5993</td>\n",
       "      <td>4</td>\n",
       "      <td>17979</td>\n",
       "      <td>1</td>\n",
       "      <td>2</td>\n",
       "      <td>0</td>\n",
       "      <td>6</td>\n",
       "      <td>0</td>\n",
       "      <td>1</td>\n",
       "      <td>...</td>\n",
       "      <td>0</td>\n",
       "      <td>0</td>\n",
       "      <td>0</td>\n",
       "      <td>0</td>\n",
       "      <td>0</td>\n",
       "      <td>1</td>\n",
       "      <td>0</td>\n",
       "      <td>0</td>\n",
       "      <td>1</td>\n",
       "      <td>1</td>\n",
       "    </tr>\n",
       "    <tr>\n",
       "      <th>2</th>\n",
       "      <td>49</td>\n",
       "      <td>5130</td>\n",
       "      <td>2</td>\n",
       "      <td>20520</td>\n",
       "      <td>8</td>\n",
       "      <td>3</td>\n",
       "      <td>3</td>\n",
       "      <td>10</td>\n",
       "      <td>1</td>\n",
       "      <td>0</td>\n",
       "      <td>...</td>\n",
       "      <td>0</td>\n",
       "      <td>0</td>\n",
       "      <td>0</td>\n",
       "      <td>0</td>\n",
       "      <td>1</td>\n",
       "      <td>0</td>\n",
       "      <td>0</td>\n",
       "      <td>1</td>\n",
       "      <td>0</td>\n",
       "      <td>0</td>\n",
       "    </tr>\n",
       "    <tr>\n",
       "      <th>4</th>\n",
       "      <td>37</td>\n",
       "      <td>2090</td>\n",
       "      <td>3</td>\n",
       "      <td>6270</td>\n",
       "      <td>2</td>\n",
       "      <td>4</td>\n",
       "      <td>3</td>\n",
       "      <td>0</td>\n",
       "      <td>0</td>\n",
       "      <td>1</td>\n",
       "      <td>...</td>\n",
       "      <td>1</td>\n",
       "      <td>0</td>\n",
       "      <td>0</td>\n",
       "      <td>0</td>\n",
       "      <td>0</td>\n",
       "      <td>0</td>\n",
       "      <td>0</td>\n",
       "      <td>0</td>\n",
       "      <td>1</td>\n",
       "      <td>1</td>\n",
       "    </tr>\n",
       "    <tr>\n",
       "      <th>5</th>\n",
       "      <td>33</td>\n",
       "      <td>2909</td>\n",
       "      <td>3</td>\n",
       "      <td>8727</td>\n",
       "      <td>3</td>\n",
       "      <td>4</td>\n",
       "      <td>3</td>\n",
       "      <td>8</td>\n",
       "      <td>1</td>\n",
       "      <td>0</td>\n",
       "      <td>...</td>\n",
       "      <td>0</td>\n",
       "      <td>0</td>\n",
       "      <td>0</td>\n",
       "      <td>0</td>\n",
       "      <td>1</td>\n",
       "      <td>0</td>\n",
       "      <td>0</td>\n",
       "      <td>1</td>\n",
       "      <td>0</td>\n",
       "      <td>1</td>\n",
       "    </tr>\n",
       "    <tr>\n",
       "      <th>7</th>\n",
       "      <td>27</td>\n",
       "      <td>3468</td>\n",
       "      <td>2</td>\n",
       "      <td>10404</td>\n",
       "      <td>2</td>\n",
       "      <td>1</td>\n",
       "      <td>3</td>\n",
       "      <td>2</td>\n",
       "      <td>0</td>\n",
       "      <td>1</td>\n",
       "      <td>...</td>\n",
       "      <td>1</td>\n",
       "      <td>0</td>\n",
       "      <td>0</td>\n",
       "      <td>0</td>\n",
       "      <td>0</td>\n",
       "      <td>0</td>\n",
       "      <td>0</td>\n",
       "      <td>1</td>\n",
       "      <td>0</td>\n",
       "      <td>0</td>\n",
       "    </tr>\n",
       "  </tbody>\n",
       "</table>\n",
       "<p>5 rows × 28 columns</p>\n",
       "</div>"
      ],
      "text/plain": [
       "            Age  MonthlyIncome  JobSatisfaction  Bonus  DistanceFromHome  \\\n",
       "EmployeeID                                                                 \n",
       "1            41           5993                4  17979                 1   \n",
       "2            49           5130                2  20520                 8   \n",
       "4            37           2090                3   6270                 2   \n",
       "5            33           2909                3   8727                 3   \n",
       "7            27           3468                2  10404                 2   \n",
       "\n",
       "            EnvSatisfaction  TrainingTimesLastYear  YearsAtCompany  \\\n",
       "EmployeeID                                                           \n",
       "1                         2                      0               6   \n",
       "2                         3                      3              10   \n",
       "4                         4                      3               0   \n",
       "5                         4                      3               8   \n",
       "7                         1                      3               2   \n",
       "\n",
       "            BusinessTravel_Travel_Frequently  BusinessTravel_Travel_Rarely  \\\n",
       "EmployeeID                                                                   \n",
       "1                                          0                             1   \n",
       "2                                          1                             0   \n",
       "4                                          0                             1   \n",
       "5                                          1                             0   \n",
       "7                                          0                             1   \n",
       "\n",
       "            ...  JobRole_Laboratory Technician  JobRole_Manager  \\\n",
       "EmployeeID  ...                                                   \n",
       "1           ...                              0                0   \n",
       "2           ...                              0                0   \n",
       "4           ...                              1                0   \n",
       "5           ...                              0                0   \n",
       "7           ...                              1                0   \n",
       "\n",
       "            JobRole_Manufacturing Director  JobRole_Research Director  \\\n",
       "EmployeeID                                                              \n",
       "1                                        0                          0   \n",
       "2                                        0                          0   \n",
       "4                                        0                          0   \n",
       "5                                        0                          0   \n",
       "7                                        0                          0   \n",
       "\n",
       "            JobRole_Research Scientist  JobRole_Sales Executive  \\\n",
       "EmployeeID                                                        \n",
       "1                                    0                        1   \n",
       "2                                    1                        0   \n",
       "4                                    0                        0   \n",
       "5                                    1                        0   \n",
       "7                                    0                        0   \n",
       "\n",
       "            JobRole_Sales Representative  MaritalStatus_Married  \\\n",
       "EmployeeID                                                        \n",
       "1                                      0                      0   \n",
       "2                                      0                      1   \n",
       "4                                      0                      0   \n",
       "5                                      0                      1   \n",
       "7                                      0                      1   \n",
       "\n",
       "            MaritalStatus_Single  OverTime_Yes  \n",
       "EmployeeID                                      \n",
       "1                              1             1  \n",
       "2                              0             0  \n",
       "4                              1             1  \n",
       "5                              0             1  \n",
       "7                              0             0  \n",
       "\n",
       "[5 rows x 28 columns]"
      ]
     },
     "execution_count": 82,
     "metadata": {},
     "output_type": "execute_result"
    }
   ],
   "source": [
    "#create dummy variables for categorical variable inside input dataframe\n",
    "x = pd.get_dummies(x, drop_first=True)\n",
    "x.head()"
   ]
  },
  {
   "cell_type": "code",
   "execution_count": 83,
   "id": "9bbb580f",
   "metadata": {},
   "outputs": [],
   "source": [
    "#PARTITIONING\n",
    "#stratified sampling > 83.88/16.12 train and test set\n",
    "\n",
    "#Partioning dataset. Due to inbalance dataset value, use stratified sampling\n",
    "from sklearn.model_selection import train_test_split\n",
    "\n",
    "x_train, x_test, y_train, y_test = train_test_split(x,y,test_size=0.1612,random_state=0, stratify = y)"
   ]
  },
  {
   "cell_type": "code",
   "execution_count": 84,
   "id": "7cce10ee",
   "metadata": {},
   "outputs": [
    {
     "data": {
      "text/plain": [
       "No     1034\n",
       "Yes     199\n",
       "Name: Attrition, dtype: int64"
      ]
     },
     "execution_count": 84,
     "metadata": {},
     "output_type": "execute_result"
    }
   ],
   "source": [
    "y_train.value_counts()"
   ]
  },
  {
   "cell_type": "code",
   "execution_count": 85,
   "id": "cf2706b9",
   "metadata": {},
   "outputs": [],
   "source": [
    "#FEATURES SCALING FOR TRAIN SET\n",
    "\n",
    "#feature scaling/standardization\n",
    "from sklearn.preprocessing import StandardScaler\n",
    "\n",
    "scaler = StandardScaler()\n",
    "scaler.fit(x_train)\n",
    "x_train = scaler.transform(x_train)"
   ]
  },
  {
   "cell_type": "code",
   "execution_count": 86,
   "id": "c830085c",
   "metadata": {},
   "outputs": [
    {
     "data": {
      "text/plain": [
       "array([ 1.84906925,  0.87586405, -0.63591286,  0.75829254,  1.20997007,\n",
       "        0.24505683, -1.39356454,  0.29167957, -0.48142313,  0.63838409,\n",
       "       -1.39381518, -0.6446815 , -0.83567165, -0.33588076,  1.44844398,\n",
       "       -0.24347146, -0.31297271,  5.07979801, -0.47117086, -0.28395603,\n",
       "       -0.32378806, -0.23971109, -0.49923954, -0.51944675, -0.23971109,\n",
       "        1.08911442, -0.68911565, -0.64720342])"
      ]
     },
     "execution_count": 86,
     "metadata": {},
     "output_type": "execute_result"
    }
   ],
   "source": [
    "x_train[1]"
   ]
  },
  {
   "cell_type": "markdown",
   "id": "34a078ad",
   "metadata": {},
   "source": [
    "### Logistic Regression Model"
   ]
  },
  {
   "cell_type": "code",
   "execution_count": 87,
   "id": "b6c34247",
   "metadata": {},
   "outputs": [
    {
     "data": {
      "text/html": [
       "<style>#sk-container-id-1 {color: black;background-color: white;}#sk-container-id-1 pre{padding: 0;}#sk-container-id-1 div.sk-toggleable {background-color: white;}#sk-container-id-1 label.sk-toggleable__label {cursor: pointer;display: block;width: 100%;margin-bottom: 0;padding: 0.3em;box-sizing: border-box;text-align: center;}#sk-container-id-1 label.sk-toggleable__label-arrow:before {content: \"▸\";float: left;margin-right: 0.25em;color: #696969;}#sk-container-id-1 label.sk-toggleable__label-arrow:hover:before {color: black;}#sk-container-id-1 div.sk-estimator:hover label.sk-toggleable__label-arrow:before {color: black;}#sk-container-id-1 div.sk-toggleable__content {max-height: 0;max-width: 0;overflow: hidden;text-align: left;background-color: #f0f8ff;}#sk-container-id-1 div.sk-toggleable__content pre {margin: 0.2em;color: black;border-radius: 0.25em;background-color: #f0f8ff;}#sk-container-id-1 input.sk-toggleable__control:checked~div.sk-toggleable__content {max-height: 200px;max-width: 100%;overflow: auto;}#sk-container-id-1 input.sk-toggleable__control:checked~label.sk-toggleable__label-arrow:before {content: \"▾\";}#sk-container-id-1 div.sk-estimator input.sk-toggleable__control:checked~label.sk-toggleable__label {background-color: #d4ebff;}#sk-container-id-1 div.sk-label input.sk-toggleable__control:checked~label.sk-toggleable__label {background-color: #d4ebff;}#sk-container-id-1 input.sk-hidden--visually {border: 0;clip: rect(1px 1px 1px 1px);clip: rect(1px, 1px, 1px, 1px);height: 1px;margin: -1px;overflow: hidden;padding: 0;position: absolute;width: 1px;}#sk-container-id-1 div.sk-estimator {font-family: monospace;background-color: #f0f8ff;border: 1px dotted black;border-radius: 0.25em;box-sizing: border-box;margin-bottom: 0.5em;}#sk-container-id-1 div.sk-estimator:hover {background-color: #d4ebff;}#sk-container-id-1 div.sk-parallel-item::after {content: \"\";width: 100%;border-bottom: 1px solid gray;flex-grow: 1;}#sk-container-id-1 div.sk-label:hover label.sk-toggleable__label {background-color: #d4ebff;}#sk-container-id-1 div.sk-serial::before {content: \"\";position: absolute;border-left: 1px solid gray;box-sizing: border-box;top: 0;bottom: 0;left: 50%;z-index: 0;}#sk-container-id-1 div.sk-serial {display: flex;flex-direction: column;align-items: center;background-color: white;padding-right: 0.2em;padding-left: 0.2em;position: relative;}#sk-container-id-1 div.sk-item {position: relative;z-index: 1;}#sk-container-id-1 div.sk-parallel {display: flex;align-items: stretch;justify-content: center;background-color: white;position: relative;}#sk-container-id-1 div.sk-item::before, #sk-container-id-1 div.sk-parallel-item::before {content: \"\";position: absolute;border-left: 1px solid gray;box-sizing: border-box;top: 0;bottom: 0;left: 50%;z-index: -1;}#sk-container-id-1 div.sk-parallel-item {display: flex;flex-direction: column;z-index: 1;position: relative;background-color: white;}#sk-container-id-1 div.sk-parallel-item:first-child::after {align-self: flex-end;width: 50%;}#sk-container-id-1 div.sk-parallel-item:last-child::after {align-self: flex-start;width: 50%;}#sk-container-id-1 div.sk-parallel-item:only-child::after {width: 0;}#sk-container-id-1 div.sk-dashed-wrapped {border: 1px dashed gray;margin: 0 0.4em 0.5em 0.4em;box-sizing: border-box;padding-bottom: 0.4em;background-color: white;}#sk-container-id-1 div.sk-label label {font-family: monospace;font-weight: bold;display: inline-block;line-height: 1.2em;}#sk-container-id-1 div.sk-label-container {text-align: center;}#sk-container-id-1 div.sk-container {/* jupyter's `normalize.less` sets `[hidden] { display: none; }` but bootstrap.min.css set `[hidden] { display: none !important; }` so we also need the `!important` here to be able to override the default hidden behavior on the sphinx rendered scikit-learn.org. See: https://github.com/scikit-learn/scikit-learn/issues/21755 */display: inline-block !important;position: relative;}#sk-container-id-1 div.sk-text-repr-fallback {display: none;}</style><div id=\"sk-container-id-1\" class=\"sk-top-container\"><div class=\"sk-text-repr-fallback\"><pre>LogisticRegression(random_state=0)</pre><b>In a Jupyter environment, please rerun this cell to show the HTML representation or trust the notebook. <br />On GitHub, the HTML representation is unable to render, please try loading this page with nbviewer.org.</b></div><div class=\"sk-container\" hidden><div class=\"sk-item\"><div class=\"sk-estimator sk-toggleable\"><input class=\"sk-toggleable__control sk-hidden--visually\" id=\"sk-estimator-id-1\" type=\"checkbox\" checked><label for=\"sk-estimator-id-1\" class=\"sk-toggleable__label sk-toggleable__label-arrow\">LogisticRegression</label><div class=\"sk-toggleable__content\"><pre>LogisticRegression(random_state=0)</pre></div></div></div></div></div>"
      ],
      "text/plain": [
       "LogisticRegression(random_state=0)"
      ]
     },
     "execution_count": 87,
     "metadata": {},
     "output_type": "execute_result"
    }
   ],
   "source": [
    "#####Train Logistic Regression Algorithm\n",
    "\n",
    "#Import LogisticRegression() function\n",
    "from sklearn.linear_model import LogisticRegression\n",
    "\n",
    "#Create a Logistic Regression classifier\n",
    "class_model = LogisticRegression(random_state=0)\n",
    "\n",
    "#Train the Logistic Regression algorithm using train set\n",
    "class_model.fit(x_train,y_train)"
   ]
  },
  {
   "cell_type": "markdown",
   "id": "dc82b85d",
   "metadata": {},
   "source": [
    "### Naive Bayes Model"
   ]
  },
  {
   "cell_type": "markdown",
   "id": "e2a23917",
   "metadata": {},
   "source": [
    "#####Train Naive Bayes Algorithm\n",
    "#Import Gaussian Naive Bayes model\n",
    "from sklearn.naive_bayes import GaussianNB\n",
    "\n",
    "#Create a Gaussian Classifier\n",
    "class_model = GaussianNB()\n",
    "\n",
    "#Train the model using the training sets\n",
    "class_model.fit(x_train,y_train)"
   ]
  },
  {
   "cell_type": "code",
   "execution_count": 88,
   "id": "28f6c68a",
   "metadata": {},
   "outputs": [
    {
     "data": {
      "text/html": [
       "<div>\n",
       "<style scoped>\n",
       "    .dataframe tbody tr th:only-of-type {\n",
       "        vertical-align: middle;\n",
       "    }\n",
       "\n",
       "    .dataframe tbody tr th {\n",
       "        vertical-align: top;\n",
       "    }\n",
       "\n",
       "    .dataframe thead th {\n",
       "        text-align: right;\n",
       "    }\n",
       "</style>\n",
       "<table border=\"1\" class=\"dataframe\">\n",
       "  <thead>\n",
       "    <tr style=\"text-align: right;\">\n",
       "      <th></th>\n",
       "      <th>Age</th>\n",
       "      <th>MonthlyIncome</th>\n",
       "      <th>JobSatisfaction</th>\n",
       "      <th>Bonus</th>\n",
       "      <th>DistanceFromHome</th>\n",
       "      <th>EnvSatisfaction</th>\n",
       "      <th>TrainingTimesLastYear</th>\n",
       "      <th>YearsAtCompany</th>\n",
       "      <th>BusinessTravel_Travel_Frequently</th>\n",
       "      <th>BusinessTravel_Travel_Rarely</th>\n",
       "      <th>...</th>\n",
       "      <th>JobRole_Laboratory Technician</th>\n",
       "      <th>JobRole_Manager</th>\n",
       "      <th>JobRole_Manufacturing Director</th>\n",
       "      <th>JobRole_Research Director</th>\n",
       "      <th>JobRole_Research Scientist</th>\n",
       "      <th>JobRole_Sales Executive</th>\n",
       "      <th>JobRole_Sales Representative</th>\n",
       "      <th>MaritalStatus_Married</th>\n",
       "      <th>MaritalStatus_Single</th>\n",
       "      <th>OverTime_Yes</th>\n",
       "    </tr>\n",
       "    <tr>\n",
       "      <th>EmployeeID</th>\n",
       "      <th></th>\n",
       "      <th></th>\n",
       "      <th></th>\n",
       "      <th></th>\n",
       "      <th></th>\n",
       "      <th></th>\n",
       "      <th></th>\n",
       "      <th></th>\n",
       "      <th></th>\n",
       "      <th></th>\n",
       "      <th></th>\n",
       "      <th></th>\n",
       "      <th></th>\n",
       "      <th></th>\n",
       "      <th></th>\n",
       "      <th></th>\n",
       "      <th></th>\n",
       "      <th></th>\n",
       "      <th></th>\n",
       "      <th></th>\n",
       "      <th></th>\n",
       "    </tr>\n",
       "  </thead>\n",
       "  <tbody>\n",
       "    <tr>\n",
       "      <th>458</th>\n",
       "      <td>27</td>\n",
       "      <td>6214</td>\n",
       "      <td>2</td>\n",
       "      <td>18642</td>\n",
       "      <td>8</td>\n",
       "      <td>2</td>\n",
       "      <td>3</td>\n",
       "      <td>8</td>\n",
       "      <td>0</td>\n",
       "      <td>1</td>\n",
       "      <td>...</td>\n",
       "      <td>0</td>\n",
       "      <td>0</td>\n",
       "      <td>0</td>\n",
       "      <td>0</td>\n",
       "      <td>0</td>\n",
       "      <td>1</td>\n",
       "      <td>0</td>\n",
       "      <td>1</td>\n",
       "      <td>0</td>\n",
       "      <td>0</td>\n",
       "    </tr>\n",
       "    <tr>\n",
       "      <th>1709</th>\n",
       "      <td>29</td>\n",
       "      <td>2974</td>\n",
       "      <td>3</td>\n",
       "      <td>8922</td>\n",
       "      <td>9</td>\n",
       "      <td>4</td>\n",
       "      <td>2</td>\n",
       "      <td>5</td>\n",
       "      <td>0</td>\n",
       "      <td>1</td>\n",
       "      <td>...</td>\n",
       "      <td>1</td>\n",
       "      <td>0</td>\n",
       "      <td>0</td>\n",
       "      <td>0</td>\n",
       "      <td>0</td>\n",
       "      <td>0</td>\n",
       "      <td>0</td>\n",
       "      <td>1</td>\n",
       "      <td>0</td>\n",
       "      <td>0</td>\n",
       "    </tr>\n",
       "    <tr>\n",
       "      <th>952</th>\n",
       "      <td>25</td>\n",
       "      <td>2413</td>\n",
       "      <td>2</td>\n",
       "      <td>7239</td>\n",
       "      <td>19</td>\n",
       "      <td>3</td>\n",
       "      <td>2</td>\n",
       "      <td>1</td>\n",
       "      <td>0</td>\n",
       "      <td>1</td>\n",
       "      <td>...</td>\n",
       "      <td>0</td>\n",
       "      <td>0</td>\n",
       "      <td>0</td>\n",
       "      <td>0</td>\n",
       "      <td>0</td>\n",
       "      <td>0</td>\n",
       "      <td>1</td>\n",
       "      <td>1</td>\n",
       "      <td>0</td>\n",
       "      <td>1</td>\n",
       "    </tr>\n",
       "    <tr>\n",
       "      <th>909</th>\n",
       "      <td>39</td>\n",
       "      <td>5204</td>\n",
       "      <td>4</td>\n",
       "      <td>15612</td>\n",
       "      <td>2</td>\n",
       "      <td>4</td>\n",
       "      <td>2</td>\n",
       "      <td>5</td>\n",
       "      <td>0</td>\n",
       "      <td>1</td>\n",
       "      <td>...</td>\n",
       "      <td>0</td>\n",
       "      <td>0</td>\n",
       "      <td>0</td>\n",
       "      <td>0</td>\n",
       "      <td>0</td>\n",
       "      <td>0</td>\n",
       "      <td>0</td>\n",
       "      <td>1</td>\n",
       "      <td>0</td>\n",
       "      <td>0</td>\n",
       "    </tr>\n",
       "    <tr>\n",
       "      <th>207</th>\n",
       "      <td>32</td>\n",
       "      <td>8998</td>\n",
       "      <td>4</td>\n",
       "      <td>26994</td>\n",
       "      <td>8</td>\n",
       "      <td>2</td>\n",
       "      <td>2</td>\n",
       "      <td>9</td>\n",
       "      <td>1</td>\n",
       "      <td>0</td>\n",
       "      <td>...</td>\n",
       "      <td>0</td>\n",
       "      <td>0</td>\n",
       "      <td>0</td>\n",
       "      <td>0</td>\n",
       "      <td>0</td>\n",
       "      <td>1</td>\n",
       "      <td>0</td>\n",
       "      <td>0</td>\n",
       "      <td>1</td>\n",
       "      <td>0</td>\n",
       "    </tr>\n",
       "  </tbody>\n",
       "</table>\n",
       "<p>5 rows × 28 columns</p>\n",
       "</div>"
      ],
      "text/plain": [
       "            Age  MonthlyIncome  JobSatisfaction  Bonus  DistanceFromHome  \\\n",
       "EmployeeID                                                                 \n",
       "458          27           6214                2  18642                 8   \n",
       "1709         29           2974                3   8922                 9   \n",
       "952          25           2413                2   7239                19   \n",
       "909          39           5204                4  15612                 2   \n",
       "207          32           8998                4  26994                 8   \n",
       "\n",
       "            EnvSatisfaction  TrainingTimesLastYear  YearsAtCompany  \\\n",
       "EmployeeID                                                           \n",
       "458                       2                      3               8   \n",
       "1709                      4                      2               5   \n",
       "952                       3                      2               1   \n",
       "909                       4                      2               5   \n",
       "207                       2                      2               9   \n",
       "\n",
       "            BusinessTravel_Travel_Frequently  BusinessTravel_Travel_Rarely  \\\n",
       "EmployeeID                                                                   \n",
       "458                                        0                             1   \n",
       "1709                                       0                             1   \n",
       "952                                        0                             1   \n",
       "909                                        0                             1   \n",
       "207                                        1                             0   \n",
       "\n",
       "            ...  JobRole_Laboratory Technician  JobRole_Manager  \\\n",
       "EmployeeID  ...                                                   \n",
       "458         ...                              0                0   \n",
       "1709        ...                              1                0   \n",
       "952         ...                              0                0   \n",
       "909         ...                              0                0   \n",
       "207         ...                              0                0   \n",
       "\n",
       "            JobRole_Manufacturing Director  JobRole_Research Director  \\\n",
       "EmployeeID                                                              \n",
       "458                                      0                          0   \n",
       "1709                                     0                          0   \n",
       "952                                      0                          0   \n",
       "909                                      0                          0   \n",
       "207                                      0                          0   \n",
       "\n",
       "            JobRole_Research Scientist  JobRole_Sales Executive  \\\n",
       "EmployeeID                                                        \n",
       "458                                  0                        1   \n",
       "1709                                 0                        0   \n",
       "952                                  0                        0   \n",
       "909                                  0                        0   \n",
       "207                                  0                        1   \n",
       "\n",
       "            JobRole_Sales Representative  MaritalStatus_Married  \\\n",
       "EmployeeID                                                        \n",
       "458                                    0                      1   \n",
       "1709                                   0                      1   \n",
       "952                                    1                      1   \n",
       "909                                    0                      1   \n",
       "207                                    0                      0   \n",
       "\n",
       "            MaritalStatus_Single  OverTime_Yes  \n",
       "EmployeeID                                      \n",
       "458                            0             0  \n",
       "1709                           0             0  \n",
       "952                            0             1  \n",
       "909                            0             0  \n",
       "207                            1             0  \n",
       "\n",
       "[5 rows x 28 columns]"
      ]
     },
     "execution_count": 88,
     "metadata": {},
     "output_type": "execute_result"
    }
   ],
   "source": [
    "#FEATURE SCALING FOR TEST SET\n",
    "x_test.head()"
   ]
  },
  {
   "cell_type": "code",
   "execution_count": 89,
   "id": "4b71f3c1",
   "metadata": {},
   "outputs": [],
   "source": [
    "#Feature Scaling the Test Set\n",
    "from sklearn.preprocessing import StandardScaler\n",
    "x_test = scaler.transform(x_test)"
   ]
  },
  {
   "cell_type": "code",
   "execution_count": 90,
   "id": "d8ea6d9f",
   "metadata": {},
   "outputs": [
    {
     "data": {
      "text/plain": [
       "array(['No', 'No', 'Yes', 'No', 'No', 'No', 'No', 'No', 'No', 'No', 'No',\n",
       "       'No', 'No', 'No', 'No', 'No', 'No', 'No', 'No', 'No', 'No', 'No',\n",
       "       'No', 'No', 'No', 'No', 'No', 'No', 'No', 'No', 'No', 'Yes', 'No',\n",
       "       'No', 'No', 'No', 'No', 'No', 'No', 'No', 'No', 'No', 'No', 'No',\n",
       "       'No', 'No', 'No', 'No', 'Yes', 'Yes', 'No', 'No', 'No', 'No', 'No',\n",
       "       'No', 'Yes', 'No', 'No', 'No', 'No', 'No', 'No', 'No', 'No', 'No',\n",
       "       'No', 'No', 'No', 'No', 'No', 'No', 'No', 'No', 'No', 'No', 'No',\n",
       "       'No', 'No', 'No', 'No', 'No', 'No', 'Yes', 'No', 'No', 'No', 'No',\n",
       "       'No', 'No', 'No', 'No', 'No', 'No', 'No', 'No', 'No', 'No', 'No',\n",
       "       'No', 'No', 'No', 'No', 'No', 'No', 'No', 'No', 'No', 'No', 'No',\n",
       "       'No', 'No', 'No', 'No', 'No', 'No', 'No', 'No', 'No', 'No', 'No',\n",
       "       'No', 'No', 'No', 'No', 'No', 'No', 'No', 'No', 'No', 'No', 'No',\n",
       "       'No', 'No', 'No', 'No', 'No', 'No', 'Yes', 'No', 'No', 'No', 'No',\n",
       "       'No', 'No', 'No', 'No', 'No', 'No', 'No', 'No', 'No', 'No', 'No',\n",
       "       'No', 'No', 'No', 'No', 'No', 'No', 'No', 'No', 'No', 'No', 'No',\n",
       "       'No', 'No', 'No', 'No', 'No', 'No', 'No', 'No', 'No', 'No', 'No',\n",
       "       'No', 'No', 'No', 'No', 'No', 'No', 'No', 'No', 'No', 'No', 'No',\n",
       "       'No', 'No', 'No', 'No', 'No', 'No', 'No', 'No', 'No', 'No', 'No',\n",
       "       'No', 'No', 'No', 'No', 'No', 'No', 'No', 'No', 'No', 'No', 'No',\n",
       "       'No', 'No', 'No', 'No', 'No', 'No', 'No', 'No', 'No', 'No', 'No',\n",
       "       'No', 'No', 'No', 'No', 'No', 'No', 'No', 'No', 'No', 'No', 'No',\n",
       "       'No', 'No', 'No', 'No', 'No', 'No'], dtype=object)"
      ]
     },
     "execution_count": 90,
     "metadata": {},
     "output_type": "execute_result"
    }
   ],
   "source": [
    "#APPLY MODEL WITH SCALED TEST SET\n",
    "# Apply for Test Set\n",
    "y_pred = class_model.predict(x_test)\n",
    "y_pred"
   ]
  },
  {
   "cell_type": "code",
   "execution_count": 91,
   "id": "4d615813",
   "metadata": {},
   "outputs": [
    {
     "data": {
      "text/html": [
       "<div>\n",
       "<style scoped>\n",
       "    .dataframe tbody tr th:only-of-type {\n",
       "        vertical-align: middle;\n",
       "    }\n",
       "\n",
       "    .dataframe tbody tr th {\n",
       "        vertical-align: top;\n",
       "    }\n",
       "\n",
       "    .dataframe thead th {\n",
       "        text-align: right;\n",
       "    }\n",
       "</style>\n",
       "<table border=\"1\" class=\"dataframe\">\n",
       "  <thead>\n",
       "    <tr style=\"text-align: right;\">\n",
       "      <th></th>\n",
       "      <th>Actual</th>\n",
       "      <th>Predicted</th>\n",
       "    </tr>\n",
       "    <tr>\n",
       "      <th>EmployeeID</th>\n",
       "      <th></th>\n",
       "      <th></th>\n",
       "    </tr>\n",
       "  </thead>\n",
       "  <tbody>\n",
       "    <tr>\n",
       "      <th>458</th>\n",
       "      <td>No</td>\n",
       "      <td>No</td>\n",
       "    </tr>\n",
       "    <tr>\n",
       "      <th>1709</th>\n",
       "      <td>No</td>\n",
       "      <td>No</td>\n",
       "    </tr>\n",
       "    <tr>\n",
       "      <th>952</th>\n",
       "      <td>Yes</td>\n",
       "      <td>Yes</td>\n",
       "    </tr>\n",
       "    <tr>\n",
       "      <th>909</th>\n",
       "      <td>No</td>\n",
       "      <td>No</td>\n",
       "    </tr>\n",
       "    <tr>\n",
       "      <th>207</th>\n",
       "      <td>No</td>\n",
       "      <td>No</td>\n",
       "    </tr>\n",
       "  </tbody>\n",
       "</table>\n",
       "</div>"
      ],
      "text/plain": [
       "           Actual Predicted\n",
       "EmployeeID                 \n",
       "458            No        No\n",
       "1709           No        No\n",
       "952           Yes       Yes\n",
       "909            No        No\n",
       "207            No        No"
      ]
     },
     "execution_count": 91,
     "metadata": {},
     "output_type": "execute_result"
    }
   ],
   "source": [
    "#putting the result into dataframe\n",
    "\n",
    "#Dataframe of Predicted Output and Actual Output for Test set\n",
    "df_validate = pd.DataFrame({'Actual':y_test,'Predicted':y_pred}) #Create Data Frame\n",
    "df_validate['Predicted']=df_validate['Predicted']\n",
    "df_validate.head(5)"
   ]
  },
  {
   "cell_type": "code",
   "execution_count": 92,
   "id": "babc2331",
   "metadata": {},
   "outputs": [
    {
     "name": "stdout",
     "output_type": "stream",
     "text": [
      "Attrition   No  Yes\n",
      "row_0              \n",
      "No         197   33\n",
      "Yes          2    5\n"
     ]
    }
   ],
   "source": [
    "#PERFORMANCE EVALUATION\n",
    "#CONFUSION MATRIX\n",
    "\n",
    "# Confusion Matrix\n",
    "print(pd.crosstab(y_pred,y_test))"
   ]
  },
  {
   "cell_type": "code",
   "execution_count": 93,
   "id": "f1e4e978",
   "metadata": {},
   "outputs": [
    {
     "name": "stdout",
     "output_type": "stream",
     "text": [
      "              precision    recall  f1-score   support\n",
      "\n",
      "          No       0.86      0.99      0.92       199\n",
      "         Yes       0.71      0.13      0.22        38\n",
      "\n",
      "    accuracy                           0.85       237\n",
      "   macro avg       0.79      0.56      0.57       237\n",
      "weighted avg       0.83      0.85      0.81       237\n",
      "\n"
     ]
    }
   ],
   "source": [
    "# Precision & Sensitivity/Recall Report\n",
    "from sklearn.metrics import classification_report\n",
    "print(classification_report(y_true=y_test,y_pred=y_pred))"
   ]
  },
  {
   "cell_type": "markdown",
   "id": "a74dbc3f",
   "metadata": {},
   "source": [
    "#### Logistic Regression Model Result Summary"
   ]
  },
  {
   "cell_type": "markdown",
   "id": "283e1727",
   "metadata": {},
   "source": [
    "The Logistic Regression model demonstrates performance in predicting attrition for different classes:\n",
    "\n",
    "For the \"No\" Class (employees who did not leave the company):\n",
    "\n",
    "- Precision: 0.86\n",
    "- Recall: 0.99\n",
    "- F1-Score: 0.92\n",
    "\n",
    "The model achieves a high precision for the \"No\" class, indicating that when it predicts an employee will not leave the company, it is correct 86% of the time. Additionally, the recall is excellent at 99%, indicating that the model captures almost all of the actual \"No\" cases. The F1-Score, which balances precision and recall, is 0.92.\n",
    "\n",
    "For the \"Yes\" Class (employees who left the company):\n",
    "\n",
    "- Precision: 0.71\n",
    "- Recall: 0.13\n",
    "- F1-Score: 0.22\n",
    "\n",
    "In predicting the \"Yes\" class, the model's precision is 0.71, suggesting that 71% of the predictions for employees leaving the company are accurate. However, the recall is relatively low at 13%, indicating that the model captures only a small portion of the actual \"Yes\" cases. The F1-Score for this class is 0.22.\n",
    "\n",
    "The overall accuracy of the model is 85%, with a weighted average F1-Score of 0.81. The model demonstrates a strong ability to predict the \"No\" class (\"Did not leave\") with high precision and recall. However, its performance in predicting attrition (employees leaving) is less satisfactory, with relatively lower precision and recall. Similar to the Naive Bayes model, there is potential for improvement through adjustments, feature engineering, or trying different algorithms."
   ]
  },
  {
   "cell_type": "markdown",
   "id": "20cb45bf",
   "metadata": {},
   "source": [
    "#### Naive Bayes Model Result Summary"
   ]
  },
  {
   "cell_type": "markdown",
   "id": "893f149c",
   "metadata": {},
   "source": [
    "The Naive Bayes model demonstrates varying performance in predicting attrition for different classes:\n",
    "\n",
    "For the \"No\" Class (employees who did not leave the company):\n",
    "- Precision: 0.90\n",
    "- Recall: 0.69\n",
    "- F1-Score: 0.78\n",
    "\n",
    "The model achieves a high precision for the \"No\" class, indicating that when it predicts an employee will not leave the company, it is correct 90% of the time. However, the recall is relatively lower, implying that the model captures only 69% of the actual \"No\" cases. The F1-Score, which balances precision and recall, is 0.78.\n",
    "\n",
    "For the \"Yes\" Class (employees who left the company):\n",
    "- Precision: 0.27\n",
    "- Recall: 0.61\n",
    "- F1-Score: 0.38\n",
    "\n",
    "In predicting the \"Yes\" class, the model's precision is 0.27, meaning that only 27% of the predictions for employees leaving the company are accurate. However, the recall is relatively higher at 61%, indicating that the model correctly identifies 61% of the actual \"Yes\" cases. The F1-Score for this class is 0.38.\n",
    "\n",
    "Overall, the model demonstrates a higher ability to predict the \"No\" class (\"Did not leave\") with better precision, but there is room for improvement in recall for both classes. This indicates that the model is more effective in identifying employees who will likely stay with the company, while its performance in predicting attrition (employees leaving) can be enhanced. Further adjustments, feature engineering, or trying different algorithms could lead to improved predictions."
   ]
  },
  {
   "cell_type": "markdown",
   "id": "ec885887",
   "metadata": {},
   "source": [
    "### Comparison Between the two ML Models"
   ]
  },
  {
   "cell_type": "markdown",
   "id": "371cd9dc",
   "metadata": {},
   "source": [
    "**Naive Bayes Model:**\n",
    "- Performs reasonably well in predicting employees leaving (\"Yes\") with higher recall (0.61) compared to Logistic Regression (0.13).\n",
    "- Captures more actual \"Yes\" cases.\n",
    "- Precision for \"Yes\" class is relatively lower at 0.27, indicating not all \"Yes\" predictions are accurate.\n",
    "- Balanced by higher precision (0.90) and lower recall (0.69) for the \"No\" class.\n",
    "\n",
    "**Logistic Regression Model:**\n",
    "- Excels in predicting employees not leaving (\"No\").\n",
    "- Achieves impressive precision of 0.86 for \"No\" class, indicating highly accurate predictions.\n",
    "- Exceptional recall for \"No\" class at 0.99, capturing almost all actual \"No\" cases.\n",
    "- Recall for \"Yes\" class is relatively low at 0.13, missing a significant portion of actual \"Yes\" cases.\n",
    "\n",
    "**Conclusion:**\n",
    "- Focusing on minimizing false negatives (missing employees leaving):\n",
    "  - Logistic Regression model seems more suitable due to high recall for \"No\" class.\n",
    "  - Despite lower recall for \"Yes,\" higher precision ensures more reliable positive predictions for employees leaving.\n",
    "\n",
    "In scenarios where missing employees intending to leave is a critical concern (common in attrition prediction), Logistic Regression's high recall for \"No\" class makes it a strong choice."
   ]
  },
  {
   "cell_type": "markdown",
   "id": "40324e58",
   "metadata": {},
   "source": [
    "End of ML Model section"
   ]
  },
  {
   "cell_type": "markdown",
   "id": "30b17422",
   "metadata": {},
   "source": [
    "#### Save the Model & Parameter"
   ]
  },
  {
   "cell_type": "markdown",
   "id": "f0aa75d3",
   "metadata": {},
   "source": [
    "#Save the Model\n",
    "import pickle\n",
    "\n",
    "filename = 'LogReg_modelMLR.sav' #Assigning name to the model\n",
    "\n",
    "#Write it to the file\n",
    "pickle.dump(class_model, open(filename,'wb')) #wb - write binary"
   ]
  },
  {
   "cell_type": "markdown",
   "id": "89feb22b",
   "metadata": {},
   "source": [
    "#Save the Scaler Parameter\n",
    "import joblib\n",
    "\n",
    "fileScaler = 'scaler_regMLR.save' #Assigning name to the scaler\n",
    "\n",
    "joblib.dump(scaler, fileScaler)"
   ]
  },
  {
   "cell_type": "code",
   "execution_count": null,
   "id": "f9eab719",
   "metadata": {},
   "outputs": [],
   "source": []
  },
  {
   "cell_type": "code",
   "execution_count": null,
   "id": "4a13aedd",
   "metadata": {},
   "outputs": [],
   "source": []
  },
  {
   "cell_type": "code",
   "execution_count": null,
   "id": "3458785e",
   "metadata": {},
   "outputs": [],
   "source": []
  }
 ],
 "metadata": {
  "kernelspec": {
   "display_name": "Python 3 (ipykernel)",
   "language": "python",
   "name": "python3"
  },
  "language_info": {
   "codemirror_mode": {
    "name": "ipython",
    "version": 3
   },
   "file_extension": ".py",
   "mimetype": "text/x-python",
   "name": "python",
   "nbconvert_exporter": "python",
   "pygments_lexer": "ipython3",
   "version": "3.10.9"
  }
 },
 "nbformat": 4,
 "nbformat_minor": 5
}
